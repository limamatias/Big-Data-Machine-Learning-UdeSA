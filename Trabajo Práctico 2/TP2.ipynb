{
 "cells": [
  {
   "cell_type": "markdown",
   "id": "e8644eaa",
   "metadata": {},
   "source": [
    "##  Trabajo práctico 2: Clasificación aplicada a la EPH\n",
    "### Grupo 8: Banfi, Catalina; Lima, Matías; López, Santiago. "
   ]
  },
  {
   "cell_type": "code",
   "execution_count": 1,
   "id": "cef67ecc",
   "metadata": {},
   "outputs": [],
   "source": [
    "import os  \n",
    "import pandas as pd\n",
    "import numpy as np \n",
    "import matplotlib.pyplot as plt  # Para matriz de correlaciones\n",
    "import statsmodels.api as sm     \n",
    "\n",
    "from sklearn import datasets\n",
    "from sklearn.linear_model import LogisticRegression\n",
    "from sklearn.model_selection import train_test_split\n",
    "from sklearn.metrics import confusion_matrix\n",
    "from sklearn.metrics import accuracy_score \n",
    "from sklearn.metrics import roc_curve\n",
    "from sklearn.metrics import roc_auc_score\n",
    "from sklearn.metrics import RocCurveDisplay\n",
    "from sklearn.metrics import plot_roc_curve\n",
    "from sklearn.discriminant_analysis import LinearDiscriminantAnalysis\n",
    "from sklearn.discriminant_analysis import LinearDiscriminantAnalysis\n",
    "from sklearn.discriminant_analysis import QuadraticDiscriminantAnalysis\n",
    "from sklearn.neighbors import KNeighborsClassifier\n",
    "from scipy.special import expit"
   ]
  },
  {
   "cell_type": "markdown",
   "id": "ba4ec53d",
   "metadata": {},
   "source": [
    "Lo primero que hago se hace es crear un botón que permita esconder todas las celdas que sean código y mostrar todo lo demás si se lo desea. La solución no es original, sino que se obtuvo de una provista por el usuario de Stack Overflow Eric Shepherd en el siguiente link: https://stackoverflow.com/a/53136940"
   ]
  },
  {
   "cell_type": "code",
   "execution_count": 2,
   "id": "0cd06d1d",
   "metadata": {},
   "outputs": [
    {
     "data": {
      "text/html": [
       "<script>$(\"div.input\").hide()</script>"
      ],
      "text/plain": [
       "<IPython.core.display.HTML object>"
      ]
     },
     "metadata": {},
     "output_type": "display_data"
    },
    {
     "data": {
      "application/vnd.jupyter.widget-view+json": {
       "model_id": "acc920cae5694c0ca8cca0eb4456608f",
       "version_major": 2,
       "version_minor": 0
      },
      "text/plain": [
       "ToggleButton(value=False, description='Show code')"
      ]
     },
     "metadata": {},
     "output_type": "display_data"
    },
    {
     "data": {
      "text/html": [
       "<script>$(\"div.input\").show()</script>"
      ],
      "text/plain": [
       "<IPython.core.display.HTML object>"
      ]
     },
     "metadata": {},
     "output_type": "display_data"
    }
   ],
   "source": [
    "import ipywidgets as widgets\n",
    "from IPython.display import display, HTML\n",
    "\n",
    "javascript_functions = {False: \"hide()\", True: \"show()\"}\n",
    "button_descriptions  = {False: \"Show code\", True: \"Hide code\"}\n",
    "\n",
    "\n",
    "def toggle_code(state):\n",
    "\n",
    "    \"\"\"\n",
    "    Toggles the JavaScript show()/hide() function on the div.input element.\n",
    "    \"\"\"\n",
    "\n",
    "    output_string = \"<script>$(\\\"div.input\\\").{}</script>\"\n",
    "    output_args   = (javascript_functions[state],)\n",
    "    output        = output_string.format(*output_args)\n",
    "\n",
    "    display(HTML(output))\n",
    "\n",
    "\n",
    "def button_action(value):\n",
    "\n",
    "    \"\"\"\n",
    "    Calls the toggle_code function and updates the button description.\n",
    "    \"\"\"\n",
    "\n",
    "    state = value.new\n",
    "\n",
    "    toggle_code(state)\n",
    "\n",
    "    value.owner.description = button_descriptions[state]\n",
    "\n",
    "\n",
    "state = False\n",
    "toggle_code(state)\n",
    "\n",
    "button = widgets.ToggleButton(state, description = button_descriptions[state])\n",
    "button.observe(button_action, \"value\")\n",
    "\n",
    "display(button)"
   ]
  },
  {
   "cell_type": "markdown",
   "id": "aafe7010",
   "metadata": {},
   "source": [
    "También se suma el siguiente código para ocultar las warnings, entendiendo que las mismas son útiles pero molestas en el caso de una presentación cuando ya se entendió el motivo de las mismas. Por este motivo, también se deja comentada una línea que permite limitar la cantidad de advertencias por acción a 1. "
   ]
  },
  {
   "cell_type": "code",
   "execution_count": 3,
   "id": "18d2e87d",
   "metadata": {},
   "outputs": [],
   "source": [
    "import warnings\n",
    "warnings.filterwarnings('ignore')\n",
    "#warnings.filterwarnings(action='once')"
   ]
  },
  {
   "cell_type": "markdown",
   "id": "ed5cd2d8",
   "metadata": {},
   "source": [
    "## PARTE 1: ANALIZANDO LA BASE"
   ]
  },
  {
   "cell_type": "code",
   "execution_count": 5,
   "id": "e586062e",
   "metadata": {},
   "outputs": [],
   "source": [
    "#Importamos la EPH\n",
    "\n",
    "base_indec = pd.read_excel(\"usu_individual_T122.xlsx\")"
   ]
  },
  {
   "cell_type": "markdown",
   "id": "b763b35d",
   "metadata": {},
   "source": [
    "#### a. Elimine todas las observaciones que no corresponden a los aglomerados de Ciudad Autónoma de Buenos Aires o Gran Buenos Aires"
   ]
  },
  {
   "cell_type": "code",
   "execution_count": 6,
   "id": "516c063b",
   "metadata": {},
   "outputs": [],
   "source": [
    "# Filtramos la base para que unicamente queden los aglomerados 32 (Provincia de Buenos Aires) y 33(Capital Federal)\n",
    "base_indec_bs = base_indec[(base_indec['AGLOMERADO'] == 32) | (base_indec['AGLOMERADO'] == 33)]"
   ]
  },
  {
   "cell_type": "markdown",
   "id": "5ab6febc",
   "metadata": {},
   "source": [
    "#### b. Si hay observaciones con valores que no tienen sentido, descártelas (ingresos y edades negativos, por ejemplo)"
   ]
  },
  {
   "cell_type": "code",
   "execution_count": 7,
   "id": "60d9e46e",
   "metadata": {},
   "outputs": [],
   "source": [
    "# Purgamos la base de observaciones no validas\n",
    "base_indec_bs = base_indec_bs[(base_indec_bs['ITF'] >= 0) | (base_indec_bs['T_VI'] >= 0)| (base_indec_bs['IPCF'] >= 0) | (base_indec_bs['P21'] >= 0)] # Borramos los ingresos negativos (tanto laborales como no laborales) \n",
    "base_indec_bs = base_indec_bs[(base_indec_bs['CH06'] >= 0)] #borramos las edades negativas"
   ]
  },
  {
   "cell_type": "markdown",
   "id": "805693e5",
   "metadata": {},
   "source": [
    "#### c. Una vez hecha esa limpieza, realice un gráfico de barras mostrando la composición por sexo."
   ]
  },
  {
   "cell_type": "code",
   "execution_count": 8,
   "id": "6aff2349",
   "metadata": {},
   "outputs": [],
   "source": [
    "# Calculamos el porcentaje de hombres y mujeres en la base\n",
    "share_varones = (base_indec_bs['CH04']==1).sum()/(len(base_indec_bs)-1)*100\n",
    "share_mujeres = (base_indec_bs['CH04']==2).sum()/(len(base_indec_bs)-1)*100"
   ]
  },
  {
   "cell_type": "code",
   "execution_count": 9,
   "id": "3534cc0e",
   "metadata": {},
   "outputs": [
    {
     "data": {
      "image/png": "[encoded data removed]",
      "text/plain": [
       "<Figure size 720x360 with 1 Axes>"
      ]
     },
     "metadata": {
      "needs_background": "light"
     },
     "output_type": "display_data"
    }
   ],
   "source": [
    "# Graficamos los shares de hombres y mujeres en la base\n",
    "df = {'varones':share_varones, 'mujeres':share_mujeres}\n",
    "Sexo = list(df.keys())\n",
    "values = list(df.values())\n",
    "\n",
    "fig = plt.figure(figsize = (10, 5))\n",
    "\n",
    "plt.bar(Sexo, values, color = 'blue', width = 0.4)\n",
    "plt.ylabel(\"% de Hombres y Mujeres en la base\")\n",
    "plt.title('Figura 1: Composición por sexo de la base')\n",
    "\n",
    "fig.savefig('figura1.png')"
   ]
  },
  {
   "cell_type": "markdown",
   "id": "d8c1abf1",
   "metadata": {},
   "source": [
    "#### d. Realice una matriz de correlación con las siguientes variables: CH04, CH07, CH08, NIVEL_ED, ESTADO, CAT_INAC, IPCF"
   ]
  },
  {
   "cell_type": "code",
   "execution_count": 10,
   "id": "980562a0",
   "metadata": {},
   "outputs": [
    {
     "data": {
      "image/png": "[encoded data removed]",
      "text/plain": [
       "<Figure size 432x288 with 2 Axes>"
      ]
     },
     "metadata": {
      "needs_background": "light"
     },
     "output_type": "display_data"
    }
   ],
   "source": [
    "# Creamos una base auxiliar para calcular la correlacion entre las variables pedidas\n",
    "base_corr = base_indec_bs[['CH04', 'CH07', 'CH08', 'NIVEL_ED', 'ESTADO', 'CAT_INAC', 'IPCF']]\n",
    "\n",
    "import seaborn as sns\n",
    "# Creamos un grafico de correlacion\n",
    "corr = base_corr.corr()\n",
    "ax = sns.heatmap(\n",
    "    corr, \n",
    "    vmin=-1, vmax=1, center=0,\n",
    "    cmap=sns.diverging_palette(20, 220, n=200),\n",
    "    square=True\n",
    ")\n",
    "ax.set_xticklabels(\n",
    "    ax.get_xticklabels(),\n",
    "    rotation=45,\n",
    "    horizontalalignment='right'\n",
    ");\n"
   ]
  },
  {
   "cell_type": "code",
   "execution_count": 11,
   "id": "5d18c0b4",
   "metadata": {
    "scrolled": true
   },
   "outputs": [
    {
     "data": {
      "text/plain": [
       "<Figure size 432x288 with 0 Axes>"
      ]
     },
     "metadata": {},
     "output_type": "display_data"
    }
   ],
   "source": [
    "# Guardamos la figura\n",
    "results_path = 'results.png'\n",
    "plt.savefig(results_path)"
   ]
  },
  {
   "cell_type": "markdown",
   "id": "6d1f8a5c",
   "metadata": {},
   "source": [
    "#### e. ¿Cuántos desocupados hay en la muestra? ¿Cuántos inactivos? ¿Cuál es la media de ingreso per cápita familiar (IPCF) según estado (ocupado, desocupado, inactivo)?"
   ]
  },
  {
   "cell_type": "code",
   "execution_count": 12,
   "id": "c7936f68",
   "metadata": {},
   "outputs": [
    {
     "name": "stdout",
     "output_type": "stream",
     "text": [
      "La cantidad de desocupados es 232\n",
      "La cantidad de inactivos es 2695\n"
     ]
    }
   ],
   "source": [
    "# Sabiendo que estado = 2: desocupado, = 3: inactivo\n",
    "des = sum(1 for i in base_indec_bs['ESTADO'] if i == 2) #contamos la cantidad de desocupados\n",
    "print(\"La cantidad de desocupados es\", des)\n",
    "inac = sum(1 for i in base_indec_bs['ESTADO'] if i == 3) #contamos la cantidad de inactivos\n",
    "print(\"La cantidad de inactivos es\", inac)"
   ]
  },
  {
   "cell_type": "code",
   "execution_count": 13,
   "id": "f0416276",
   "metadata": {},
   "outputs": [
    {
     "name": "stdout",
     "output_type": "stream",
     "text": [
      "La media de ingreso per capita familiar por ocupados es  31092.3\n",
      "La media de ingreso per capita familiar por desocupados es  14757.69\n",
      "La media de ingreso per capita familiar por inactivos es  22350.18\n"
     ]
    }
   ],
   "source": [
    "# Filtramos las bases por ocupados, desocupados e inactivos\n",
    "base_indec_bs_ocupados = base_indec_bs[(base_indec_bs['ESTADO'] == 1)]\n",
    "base_indec_bs_desocupados = base_indec_bs[(base_indec_bs['ESTADO'] == 2)]\n",
    "base_indec_bs_inactivos = base_indec_bs[(base_indec_bs['ESTADO'] == 3)]\n",
    "\n",
    "# Imprimimos el promedio de ingreso segun la categoria\n",
    "print(\"La media de ingreso per capita familiar por ocupados es \", round(base_indec_bs_ocupados['IPCF'].mean(),2))\n",
    "print(\"La media de ingreso per capita familiar por desocupados es \", round(base_indec_bs_desocupados['IPCF'].mean(), 2))\n",
    "print(\"La media de ingreso per capita familiar por inactivos es \", round(base_indec_bs_inactivos['IPCF'].mean(), 2))\n",
    "\n",
    "\n"
   ]
  },
  {
   "cell_type": "markdown",
   "id": "1a04a300",
   "metadata": {},
   "source": [
    "#### f. Utilizando el archivo tabla_adulto_equiv.xlsx, agregue una columna a su base de datos llamada adulto_equiv que contenga los valores de adulto equivalente de cada persona según su sexo y edad (por ejemplo, a un varón de 2 años le corresponde 0.46). Finalmente, con el comando groupby sume esta nueva columna para las personas que pertenecen a un mismo hogar y guarde ese dato en una columna llamada ad_equiv_hogar1."
   ]
  },
  {
   "cell_type": "code",
   "execution_count": 16,
   "id": "d5b25b4d",
   "metadata": {},
   "outputs": [],
   "source": [
    "# Importamos y limpiamos las filas vacias de la tabla de equivalencias\n",
    "tabla_equivalencias = pd.read_excel(\"tabla_adulto_equiv.xlsx\", skiprows=[0, 1, 2, 4, 28, 29, 30, 31, 32, 33, 34, 35, 36, 37, 38, 39])"
   ]
  },
  {
   "cell_type": "code",
   "execution_count": 17,
   "id": "0a2c0dbd",
   "metadata": {},
   "outputs": [
    {
     "data": {
      "text/html": [
       "<div>\n",
       "<style scoped>\n",
       "    .dataframe tbody tr th:only-of-type {\n",
       "        vertical-align: middle;\n",
       "    }\n",
       "\n",
       "    .dataframe tbody tr th {\n",
       "        vertical-align: top;\n",
       "    }\n",
       "\n",
       "    .dataframe thead th {\n",
       "        text-align: right;\n",
       "    }\n",
       "</style>\n",
       "<table border=\"1\" class=\"dataframe\">\n",
       "  <thead>\n",
       "    <tr style=\"text-align: right;\">\n",
       "      <th></th>\n",
       "      <th>Edad</th>\n",
       "      <th>Mujeres</th>\n",
       "      <th>Varones</th>\n",
       "    </tr>\n",
       "  </thead>\n",
       "  <tbody>\n",
       "    <tr>\n",
       "      <th>0</th>\n",
       "      <td>Menor de 1 año</td>\n",
       "      <td>0.35</td>\n",
       "      <td>0.35</td>\n",
       "    </tr>\n",
       "    <tr>\n",
       "      <th>1</th>\n",
       "      <td>1 años</td>\n",
       "      <td>0.37</td>\n",
       "      <td>0.37</td>\n",
       "    </tr>\n",
       "    <tr>\n",
       "      <th>2</th>\n",
       "      <td>2 años</td>\n",
       "      <td>0.46</td>\n",
       "      <td>0.46</td>\n",
       "    </tr>\n",
       "    <tr>\n",
       "      <th>3</th>\n",
       "      <td>3 años</td>\n",
       "      <td>0.51</td>\n",
       "      <td>0.51</td>\n",
       "    </tr>\n",
       "    <tr>\n",
       "      <th>4</th>\n",
       "      <td>4 años</td>\n",
       "      <td>0.55</td>\n",
       "      <td>0.55</td>\n",
       "    </tr>\n",
       "  </tbody>\n",
       "</table>\n",
       "</div>"
      ],
      "text/plain": [
       "             Edad  Mujeres  Varones\n",
       "0  Menor de 1 año     0.35     0.35\n",
       "1          1 años     0.37     0.37\n",
       "2          2 años     0.46     0.46\n",
       "3          3 años     0.51     0.51\n",
       "4          4 años     0.55     0.55"
      ]
     },
     "execution_count": 17,
     "metadata": {},
     "output_type": "execute_result"
    }
   ],
   "source": [
    "# Cambiamos una fila de la tabla de equivalencias para que sea igual a nuestros datos\n",
    "tabla_equivalencias.at[1, 'Edad'] = '1 años'\n",
    "tabla_equivalencias.head()\n"
   ]
  },
  {
   "cell_type": "code",
   "execution_count": 18,
   "id": "bfac806a",
   "metadata": {},
   "outputs": [],
   "source": [
    "# Creamos una funcion lambda donde, segun el rango de edad, genera otra columna con el mismo formato que el de tabla de equivalencias \n",
    "base_indec_bs['Edad'] = base_indec_bs['CH06'].apply(lambda x: '61 a 75 años' if x >= 61 and x <= 75 else ('46 a 60 años' if x >= 46 and x <= 60 else \n",
    "                                                                                                          ('30 a 45 años' if x >= 30 and x <= 45 else \n",
    "                                                                                                           ('18 a 29 años' if x >= 18 and x <= 29 else\n",
    "                                                                                                           ('más de 75 años' if x > 75 else ('Menor de 1 año' if x < 1 else\n",
    "                                                                                                                                             str(x)+ ' años'))))))\n",
    "\n",
    "# Hacemos el mismo proceso anterior pero ahora para una tabla de genero\n",
    "base_indec_bs['Genero'] = base_indec_bs['CH04'].apply(lambda x: 'Varones' if x <= 1 else 'Mujeres') "
   ]
  },
  {
   "cell_type": "code",
   "execution_count": 19,
   "id": "a890d4e6",
   "metadata": {},
   "outputs": [],
   "source": [
    "# Partimos la base en dos (mujeres y hombres) para agilizar el proximo loop\n",
    "base_mujeres =  base_indec_bs[(base_indec_bs['CH04'] == 2)]\n",
    "base_varones = base_indec_bs[(base_indec_bs['CH04'] == 1)]"
   ]
  },
  {
   "cell_type": "code",
   "execution_count": 20,
   "id": "7ce04c45",
   "metadata": {},
   "outputs": [],
   "source": [
    "# Para la base de mujeres, corremos un loop que busca por cada valor de la columna Edad, en la base del INDEC, y lo matchea con los valores de la columna Mujeres, de la tabla de equivalencias.\n",
    "\n",
    "lista = []\n",
    "for i in range(0, len(base_mujeres)):\n",
    "    for x in range(0, len(tabla_equivalencias)):\n",
    "        if base_mujeres.iloc[i]['Edad'] == tabla_equivalencias.iloc[x]['Edad']:\n",
    "             lista.append(tabla_equivalencias.iloc[x]['Mujeres'])\n",
    "base_mujeres['adulto_equiv'] = lista"
   ]
  },
  {
   "cell_type": "code",
   "execution_count": 21,
   "id": "351fe8fd",
   "metadata": {
    "scrolled": true
   },
   "outputs": [],
   "source": [
    "# Repetimos el mismo proceso para la base de Hombres\n",
    "lista_2 = []\n",
    "for i in range(0, len(base_varones)):\n",
    "    for x in range(0, len(tabla_equivalencias)):\n",
    "        if base_varones.iloc[i]['Edad'] == tabla_equivalencias.iloc[x]['Edad']:\n",
    "             lista_2.append(tabla_equivalencias.iloc[x]['Varones'])\n",
    "base_varones['adulto_equiv'] = lista_2   \n",
    "    "
   ]
  },
  {
   "cell_type": "code",
   "execution_count": 22,
   "id": "938c81d8",
   "metadata": {},
   "outputs": [],
   "source": [
    "# Unimos ambas bases \n",
    "\n",
    "base_indec_bs = base_mujeres.append(base_varones)\n"
   ]
  },
  {
   "cell_type": "code",
   "execution_count": 23,
   "id": "079e98e2",
   "metadata": {},
   "outputs": [],
   "source": [
    "#Finamente, creamos la columna de equivalencias nutricionales por hogar\n",
    "data = base_indec_bs.groupby(['CODUSU']).sum()[['adulto_equiv']]\n",
    "data = data.rename(columns={'adulto_equiv':'ad_equiv_hogar'})\n"
   ]
  },
  {
   "cell_type": "markdown",
   "id": "d8528f24",
   "metadata": {},
   "source": [
    "#### 3. Uno de los grandes problemas de la EPH es la creciente cantidad de hogares que no reportan sus ingresos (ver por ejemplo el siguiente informe). ¿Cuántas personas no respondieron cuál es su ingreso total familiar (ITF)? Guarde como una base distinta las observaciones donde respondieron la pregunta sobre su ITF bajo el nombre respondieron. Las observaciones con ITF=0 guárdelas bajo el nombre norespondieron."
   ]
  },
  {
   "cell_type": "code",
   "execution_count": 24,
   "id": "10b6d401",
   "metadata": {
    "scrolled": true
   },
   "outputs": [],
   "source": [
    "base_indec_bs = base_indec_bs.merge(data, left_on='CODUSU', right_on='CODUSU', how='outer')"
   ]
  },
  {
   "cell_type": "code",
   "execution_count": 25,
   "id": "ca32cf46",
   "metadata": {},
   "outputs": [
    {
     "name": "stdout",
     "output_type": "stream",
     "text": [
      "2904 personas no respondieron cuál es su ingreso total familiar\n"
     ]
    }
   ],
   "source": [
    "# Calculamos las personas que no respondieron cual es su ingreso familiar\n",
    "no_ITF = sum(1 for i in base_indec_bs['ITF'] if i == 0)\n",
    "print(no_ITF, \"personas no respondieron cuál es su ingreso total familiar\")"
   ]
  },
  {
   "cell_type": "code",
   "execution_count": 26,
   "id": "470f6a77",
   "metadata": {},
   "outputs": [],
   "source": [
    "# Creamos las bases pedidas en la consigna\n",
    "respondieron =  base_indec_bs[(base_indec_bs['ITF'] > 0)]\n",
    "norespondieron = base_indec_bs[(base_indec_bs['ITF'] == 0)]"
   ]
  },
  {
   "cell_type": "markdown",
   "id": "b503477d",
   "metadata": {},
   "source": [
    "#### 4. Sabiendo que la Canasta Básica Total para un adulto equivalente en el Gran Buenos Aires en el primer trimestre de 2022 es aproximadamente 27.197,64, agregue a la base respondieron una columna llamada ingreso_necesario que sea el producto de este valor por ad_equiv_hogar. Note que este es el valor mínimo que necesita ese hogar para no ser pobre"
   ]
  },
  {
   "cell_type": "code",
   "execution_count": 27,
   "id": "396bd702",
   "metadata": {},
   "outputs": [],
   "source": [
    "respondieron['ingreso_necesario'] = respondieron['ad_equiv_hogar'].apply(lambda x: x*27197.64)"
   ]
  },
  {
   "cell_type": "code",
   "execution_count": 28,
   "id": "551882ad",
   "metadata": {},
   "outputs": [],
   "source": [
    "def pobre(respondieron):\n",
    "    '''\n",
    "    esta función busca si los ingresos totales familiares son menores que los ingresos necesarios\n",
    "    para que un hogar no sea pobre, así como lo contrario, y nos devuelve un 1 si se cumple que \n",
    "    los ingresos totales son menores que los necesarios, y un 0 si son mayores o iguales. \n",
    "    '''\n",
    "    if respondieron['ITF'] < respondieron['ingreso_necesario']:\n",
    "        return 1\n",
    "    elif respondieron['ITF'] >= respondieron['ingreso_necesario']:\n",
    "        return 0"
   ]
  },
  {
   "cell_type": "markdown",
   "id": "b0a8d4da",
   "metadata": {},
   "source": [
    "#### 5. Por último, agregue a respondieron una columna llamada pobre que tome valor 1 si el ITF es menor al ingreso_necesario que necesita esa familia, y 0 en caso contrario. ¿Cuántos pobres identificó?"
   ]
  },
  {
   "cell_type": "code",
   "execution_count": 29,
   "id": "25711506",
   "metadata": {
    "scrolled": true
   },
   "outputs": [
    {
     "name": "stdout",
     "output_type": "stream",
     "text": [
      "Identificamos 1190 pobres en la base\n"
     ]
    }
   ],
   "source": [
    "#ahora creamos una columna nueva que surge de aplicar la función que definimos a nuestra base de datos. \n",
    "respondieron['pobre'] = respondieron.apply(pobre, axis=1)\n",
    "\n",
    "#ahora contamos la cantidad de veces que aparece un 1 en la columna pobre para saber la cantidad de pobres que hay en la \n",
    "#muestra\n",
    "pobres = sum(1 for i in respondieron['pobre'] if i == 1)\n",
    "print(\"Identificamos\", pobres, \"pobres en la base\")"
   ]
  },
  {
   "cell_type": "markdown",
   "id": "caf506ee",
   "metadata": {},
   "source": [
    "## PARTE 2: CLASIFICACION"
   ]
  },
  {
   "cell_type": "markdown",
   "id": "17bfd508",
   "metadata": {},
   "source": [
    "#### 1. Elimine de ambas bases todas las variables relacionadas a ingresos (en el archivo codigos_eph.pdf ver las categorías: ingresos de la ocupación principal de los asalariados, ingresos de la ocupación principal, ingresos de otras ocupaciones, ingreso total individual, ingresos no laborales, ingreso total familiar, ingreso per cápita familiar). Elimine también las columnas adulto_equiv, ad_equiv_hogar e ingreso_necesario."
   ]
  },
  {
   "cell_type": "code",
   "execution_count": 30,
   "id": "7985f6bd",
   "metadata": {},
   "outputs": [],
   "source": [
    "# Eliminamos las variables relacionadas a ingresos y las columnas de las bases respondieron/no respondieron\n",
    "respondieron = respondieron.drop(['PP08D1', 'PP08D4', 'PP08F1', 'PP08F2', 'PP08J1', 'PP08J2', 'PP08J3'], axis=1) # ingresos de la ocupación principal de los asalariados\n",
    "respondieron = respondieron.drop(['P21', 'DECOCUR', 'IDECOCUR', 'RDECOCUR', 'GDECOCUR', 'PDECOCUR', 'ADECOCUR', 'TOT_P12'], axis=1) # ingresos de la ocupación principal y de otras ocupaciones\n",
    "respondieron = respondieron.drop(['P47T', 'DECINDR', 'IDECINDR', 'RDECINDR', 'GDECINDR', 'PDECINDR', 'ADECINDR'], axis=1) # ingresos total individual\n",
    "respondieron = respondieron.drop(['V2_M', 'V3_M', 'V4_M', 'V5_M', 'V8_M', 'V9_M', 'V10_M', 'V11_M', 'V12_M', 'V18_M', 'V19_AM', 'V21_M', 'T_VI'], axis=1) # ingresos no laborales\n",
    "respondieron = respondieron.drop(['ITF', 'DECIFR', 'IDECIFR', 'RDECIFR', 'GDECIFR', 'PDECIFR', 'ADECIFR'], axis=1) # ingreso total familiar\n",
    "respondieron = respondieron.drop(['IPCF', 'DECCFR', 'IDECCFR', 'RDECCFR', 'GDECCFR', 'PDECCFR', 'ADECCFR'], axis=1) # ingreso per capita familiar\n",
    "respondieron = respondieron.drop(['adulto_equiv', 'ad_equiv_hogar', 'ingreso_necesario'], axis=1) # columnas adulto_equiv, ad_equiv_hogar e ingreso_necesario\n",
    "\n",
    "norespondieron = norespondieron.drop(['PP08D1', 'PP08D4', 'PP08F1', 'PP08F2', 'PP08J1', 'PP08J2', 'PP08J3'], axis=1) # ingresos de la ocupación principal de los asalariados\n",
    "norespondieron = norespondieron.drop(['P21', 'DECOCUR', 'IDECOCUR', 'RDECOCUR', 'GDECOCUR', 'PDECOCUR', 'ADECOCUR', 'TOT_P12'], axis=1) # ingresos de la ocupación principal y de otras ocupaciones\n",
    "norespondieron = norespondieron.drop(['P47T', 'DECINDR', 'IDECINDR', 'RDECINDR', 'GDECINDR', 'PDECINDR', 'ADECINDR'], axis=1) # ingresos total individual\n",
    "norespondieron = norespondieron.drop(['V2_M', 'V3_M', 'V4_M', 'V5_M', 'V8_M', 'V9_M', 'V10_M', 'V11_M', 'V12_M', 'V18_M', 'V19_AM', 'V21_M', 'T_VI'], axis=1) # ingresos no laborales\n",
    "norespondieron = norespondieron.drop(['ITF', 'DECIFR', 'IDECIFR', 'RDECIFR', 'GDECIFR', 'PDECIFR', 'ADECIFR'], axis=1) # ingreso total familiar\n",
    "norespondieron = norespondieron.drop(['IPCF', 'DECCFR', 'IDECCFR', 'RDECCFR', 'GDECCFR', 'PDECCFR', 'ADECCFR'], axis=1) # ingreso per capita familiar\n",
    "norespondieron = norespondieron.drop(['adulto_equiv', 'ad_equiv_hogar'], axis=1) # columnas adulto_equiv, ad_equiv_hogar e ingreso_necesario\n",
    "\n"
   ]
  },
  {
   "cell_type": "markdown",
   "id": "1f48d640",
   "metadata": {},
   "source": [
    "#### 2. Parta la base respondieron en base de prueba (test) y base de entrenamiento (train) utilizando el comando train_test_split. La base de entrenamiento debe comprender el 70 % de los datos, y la semilla a utilizar (random state instance) debe ser 101. Establezca a pobre como su variable dependiente en la base de entrenamiento (vector y). El resto de las variables serán las variables independientes (matriz X). Recuerde agregar la columna de 1"
   ]
  },
  {
   "cell_type": "code",
   "execution_count": 31,
   "id": "eb7ef8a7",
   "metadata": {},
   "outputs": [],
   "source": [
    "y = respondieron['pobre']\n",
    "# Nos quedamos con las variables de la base que nos sirven para hacer la regresion\n",
    "x = respondieron[['CH06', 'CH04' , 'ESTADO', 'NIVEL_ED' , 'CH03' , 'CH07' , 'CH08',  'CH09' , 'CH10' , 'CH11', 'CH12' , 'CH13' , 'CH16' ,'PP02C1', 'PP02C2', 'PP02C3', 'PP02C4', 'PP02C6', 'PP02E','PP02H'\n",
    "]]\n",
    "\n",
    "x = sm.add_constant(x) # Agregamos la columna de unos.\n",
    "\n",
    "x['ESTADO'] = pd.Categorical(x['ESTADO'])\n",
    "x['CH03'] = pd.Categorical(x['CH03']) \n",
    "x['NIVEL_ED'] = pd.Categorical(x['NIVEL_ED'])\n",
    "x['CH07'] = pd.Categorical(x['CH07'])\n",
    "x['CH08'] = pd.Categorical(x['CH08'])\n",
    "x['CH09'] = pd.Categorical(x['CH09'])\n",
    "x['CH10'] = pd.Categorical(x['CH10'])\n",
    "x['CH11'] = pd.Categorical(x['CH11'])\n",
    "x['CH12'] = pd.Categorical(x['CH12'])\n",
    "x['CH13'] = pd.Categorical(x['CH12'])\n",
    "x['CH16'] = pd.Categorical(x['CH16'])\n",
    "x['PP02C2'] = pd.Categorical(x['PP02C2'])\n",
    "x['PP02C3'] = pd.Categorical(x['PP02C3'])\n",
    "x['PP02C4'] = pd.Categorical(x['CH04'])\n",
    "x['PP02C6'] = pd.Categorical(x['CH03'])\n",
    "x['PP02E'] = pd.Categorical(x['PP02E'])\n",
    "x['PP02H'] = pd.Categorical(x['PP02H'])\n",
    "\n",
    "# Partimos la base en una de entrenamiento (70%) y otra de prueba (30%)\n",
    "\n",
    "X_train, X_test, y_train, y_test = train_test_split(x, y, test_size = 0.30, random_state=101)                                   "
   ]
  },
  {
   "cell_type": "markdown",
   "id": "28f97678",
   "metadata": {},
   "source": [
    "#### 3. Implemente los siguientes métodos reportando luego la matriz de confusión, la curva ROC y los valores de AUC y de Accuracy de cada uno:"
   ]
  },
  {
   "cell_type": "markdown",
   "id": "b181b7b7",
   "metadata": {},
   "source": [
    "#### Logit"
   ]
  },
  {
   "cell_type": "code",
   "execution_count": 32,
   "id": "f2707bdf",
   "metadata": {
    "scrolled": true
   },
   "outputs": [
    {
     "name": "stdout",
     "output_type": "stream",
     "text": [
      "Matriz de confusión Logit:\n",
      "[[690  72]\n",
      " [265  97]]\n",
      "La precisión del modelo es: 0.70\n",
      "AUC: 0.59\n"
     ]
    },
    {
     "data": {
      "image/png": "[encoded data removed]",
      "text/plain": [
       "<Figure size 432x288 with 1 Axes>"
      ]
     },
     "metadata": {
      "needs_background": "light"
     },
     "output_type": "display_data"
    }
   ],
   "source": [
    "log_reg = LogisticRegression().fit(X_train, y_train)\n",
    "y_pred_log = log_reg.predict(X_test)\n",
    "\n",
    "# Probabilidades de Y con valores 1 o 0 en base a regla de Bayes\n",
    "y_pred_log = np.where(y_pred_log > 0.5, 1, y_pred_log)\n",
    "y_pred_log = np.where(y_pred_log <= 0.5, 0, y_pred_log)\n",
    "\n",
    "accuracy_log = accuracy_score(y_test, y_pred_log)\n",
    "\n",
    "\n",
    "# Calculamos la matriz de confusion y la precision del modelo\n",
    "matriz_confusion_log = confusion_matrix(y_test, y_pred_log)\n",
    "\n",
    "print('Matriz de confusión Logit:')\n",
    "print(matriz_confusion_log) \n",
    "print(\"La precisión del modelo es: %.2f\" %accuracy_log)\n",
    "\n",
    "#Valor auc\n",
    "auc_log = roc_auc_score(y_test, y_pred_log)\n",
    "print('AUC: %.2f' % auc_log)\n",
    "\n",
    "#Graficamos la curva ROC\n",
    "\n",
    "fpr, tpr, thresholds = roc_curve(y_test, y_pred_log)\n",
    "display = RocCurveDisplay(fpr=fpr, tpr=tpr, roc_auc=auc_log, estimator_name='Reg_log')\n",
    "display.plot()  \n",
    "plt.plot([0, 1], [0, 1], color='red', linestyle='--')\n",
    "plt.show()"
   ]
  },
  {
   "cell_type": "markdown",
   "id": "9d33d59f",
   "metadata": {},
   "source": [
    "#### Análisis de discriminante lineal"
   ]
  },
  {
   "cell_type": "code",
   "execution_count": 33,
   "id": "aae46178",
   "metadata": {},
   "outputs": [
    {
     "name": "stdout",
     "output_type": "stream",
     "text": [
      "Matriz de confusión Análisis de discriminante lineal:\n",
      "[[686  76]\n",
      " [271  91]]\n",
      "La precisión del modelo es: 0.69\n",
      "AUC: 0.58\n"
     ]
    },
    {
     "data": {
      "image/png": "[encoded data removed]",
      "text/plain": [
       "<Figure size 432x288 with 1 Axes>"
      ]
     },
     "metadata": {
      "needs_background": "light"
     },
     "output_type": "display_data"
    }
   ],
   "source": [
    "lda = LinearDiscriminantAnalysis(n_components=0)\n",
    "lda = lda.fit(X_train, y_train)\n",
    "y_pred_lda = lda.predict(X_test)\n",
    "accuracy_lda = accuracy_score(y_test, y_pred_lda)\n",
    "\n",
    "# Calculamos la matriz de confusion y la precision del modelo\n",
    "matriz_confusion_lda = confusion_matrix(y_test, y_pred_lda)\n",
    "\n",
    "print('Matriz de confusión Análisis de discriminante lineal:')\n",
    "print(matriz_confusion_lda) \n",
    "print(\"La precisión del modelo es: %.2f\" %accuracy_lda)\n",
    "\n",
    "# Valor auc\n",
    "auc_lda = roc_auc_score(y_test, y_pred_lda)\n",
    "print('AUC: %.2f' % auc_lda)\n",
    "\n",
    "# Graficamos la curva ROC\n",
    "\n",
    "fpr, tpr, thresholds = roc_curve(y_test, y_pred_lda)\n",
    "display = RocCurveDisplay(fpr=fpr, tpr=tpr, roc_auc=auc_lda, estimator_name='Reg_lda')\n",
    "display.plot()  \n",
    "plt.plot([0, 1], [0, 1], color='red', linestyle='--')\n",
    "plt.show() "
   ]
  },
  {
   "cell_type": "markdown",
   "id": "e936d92b",
   "metadata": {},
   "source": [
    "#### KNN con k=3"
   ]
  },
  {
   "cell_type": "code",
   "execution_count": 34,
   "id": "a71006f6",
   "metadata": {},
   "outputs": [
    {
     "name": "stdout",
     "output_type": "stream",
     "text": [
      "Matriz de confusión KNN:\n",
      "[[636 126]\n",
      " [202 160]]\n",
      "La precisión del modelo es: 0.71\n",
      "AUC: 0.64\n"
     ]
    },
    {
     "data": {
      "image/png": "[encoded data removed]",
      "text/plain": [
       "<Figure size 432x288 with 1 Axes>"
      ]
     },
     "metadata": {
      "needs_background": "light"
     },
     "output_type": "display_data"
    }
   ],
   "source": [
    "knn = KNeighborsClassifier(n_neighbors=3)\n",
    "knn.fit(X_train, y_train)\n",
    "y_pred_knn = knn.predict(X_test)\n",
    "accuracy_knn = accuracy_score(y_test, y_pred_knn)\n",
    "\n",
    "# Calculamos la matriz de confusion y la precision del modelo\n",
    "matriz_confusion_knn = confusion_matrix(y_test, y_pred_knn)\n",
    "\n",
    "print('Matriz de confusión KNN:')\n",
    "print(matriz_confusion_knn) \n",
    "print(\"La precisión del modelo es: %.2f\" %accuracy_knn)\n",
    "\n",
    "# Valor auc\n",
    "auc_knn = roc_auc_score(y_test, y_pred_knn)\n",
    "print('AUC: %.2f' % auc_knn)\n",
    "\n",
    "# Graficamos la curva ROC\n",
    "\n",
    "fpr, tpr, thresholds = roc_curve(y_test, y_pred_knn)\n",
    "display = RocCurveDisplay(fpr=fpr, tpr=tpr, roc_auc=auc_knn, estimator_name='Reg_knn')\n",
    "display.plot()  \n",
    "plt.plot([0, 1], [0, 1], color='red', linestyle='--')\n",
    "plt.show() "
   ]
  },
  {
   "cell_type": "markdown",
   "id": "d9e1cbc9",
   "metadata": {},
   "source": [
    "#### 5. Con el método que seleccionó, prediga qué personas son pobres dentro de la base norespondieron. ¿Qué proporción de las personas que no respondieron pudo identificar como pobres?"
   ]
  },
  {
   "cell_type": "code",
   "execution_count": 35,
   "id": "0053e5b2",
   "metadata": {},
   "outputs": [],
   "source": [
    "# Armamos la muestra de testeo entre los que no respondieron, de la misma forma que hicimos con los que respondieron.\n",
    "\n",
    "x_test_noresp = norespondieron[['CH06', 'CH04' , 'ESTADO', 'NIVEL_ED' , 'CH03' , 'CH07' , 'CH08',  'CH09' , 'CH10' , 'CH11', 'CH12' , 'CH13' , 'CH16' ,'PP02C1', 'PP02C2', 'PP02C3', 'PP02C4', 'PP02C6', 'PP02E','PP02H'\n",
    "]]\n",
    "\n",
    "x_test_noresp = sm.add_constant(x_test_noresp) # Agregamos la columna de unos."
   ]
  },
  {
   "cell_type": "code",
   "execution_count": 36,
   "id": "bc41d64d",
   "metadata": {},
   "outputs": [
    {
     "name": "stdout",
     "output_type": "stream",
     "text": [
      "La proporción de pobres predicha en la base norespondieron es de 29.30\n"
     ]
    }
   ],
   "source": [
    "# Predecimos la cantidad de pobres dentro de los no respondents con el modelo KNN, dándole la muestra que armamos arriba.\n",
    "\n",
    "y_pred_knn_noresp = knn.predict(x_test_noresp)\n",
    "\n",
    "# Realizamos la suma de pobres predichos por KNN\n",
    "sum_pob = sum(1 for i in y_pred_knn_noresp if i == 1)\n",
    "\n",
    "# Buscamos la proporción de personas pobres que predice KNN para el total de individuos que no respondieron.\n",
    "\n",
    "prop_pob = (sum_pob/len(y_pred_knn_noresp))*100\n",
    "\n",
    "print(\"La proporción de pobres predicha en la base norespondieron es de %.2f\" %prop_pob)"
   ]
  },
  {
   "cell_type": "markdown",
   "id": "0b10aae7",
   "metadata": {},
   "source": [
    "#### 6. Note que para correr los tres métodos se utilizaron todas las variables disponibles como predictores. ¿Le parece esto correcto? ¿Qué variables habría conservado? Con las variables seleccionadas, implemente únicamente el modelo logit nuevamente y compare las medidas de precisión obtenidas con los resultados del modelo logit anterior. ¿Cambió mucho la precisión?"
   ]
  },
  {
   "cell_type": "code",
   "execution_count": 37,
   "id": "2265ae30",
   "metadata": {},
   "outputs": [],
   "source": [
    "# Creamos una nueva base donde solo conservamos las variables explicativas que nos interesan.\n",
    "respondieron_filt = respondieron[['pobre', 'CH06', 'ESTADO', 'NIVEL_ED']]\n",
    "y_filt = respondieron_filt['pobre']\n",
    "x_filt = respondieron_filt[['CH06', 'ESTADO', 'NIVEL_ED']]\n",
    "\n",
    "x_filt = sm.add_constant(x_filt) # Agregamos la columna de unos.\n",
    "\n",
    "x['NIVEL_ED'] = pd.Categorical(x['NIVEL_ED'])\n",
    "x['ESTADO'] = pd.Categorical(x['ESTADO'])\n",
    "\n",
    "# Partimos la base en una de entrenamiento (70%) y otra de prueba (30%)\n",
    "\n",
    "X_filt_train, X_filt_test, y_filt_train, y_filt_test = train_test_split(x_filt, y_filt, test_size = 0.30, random_state=101)"
   ]
  },
  {
   "cell_type": "code",
   "execution_count": 38,
   "id": "a309aa7c",
   "metadata": {},
   "outputs": [
    {
     "name": "stdout",
     "output_type": "stream",
     "text": [
      "La precisión del modelo anterior es de 0.70, mientras que en el modelo actual es de 0.67.\n",
      "El área bajo la curva ROC original es de 0.59, mientras que para el modelo actual este valor alcanza el 0.54.\n",
      "Matriz de confusión Logit original:\n",
      "[[690  72]\n",
      " [265  97]]\n",
      "Matriz de confusión Logit actual:\n",
      "[[699  63]\n",
      " [305  57]]\n"
     ]
    }
   ],
   "source": [
    "log_reg_filt = LogisticRegression().fit(X_filt_train, y_filt_train)\n",
    "y_pred_log_filt = log_reg_filt.predict(X_filt_test)\n",
    "\n",
    "# Probabilidades de Y con valores 1 o 0 en base a regla de Bayes\n",
    "y_pred_log_filt = np.where(y_pred_log_filt > 0.5, 1, y_pred_log_filt)\n",
    "y_pred_log_filt = np.where(y_pred_log_filt <= 0.5, 0, y_pred_log_filt)\n",
    "\n",
    "# Medidas de precisión y comparaciones\n",
    "\n",
    "accuracy_log_filt = accuracy_score(y_filt_test, y_pred_log_filt)\n",
    "auc_log_filt = roc_auc_score(y_filt_test, y_pred_log_filt)\n",
    "matriz_confusion_log_filt = confusion_matrix(y_filt_test, y_pred_log_filt)\n",
    "\n",
    "print(\"La precisión del modelo anterior es de %.2f,\" %accuracy_log, \"mientras que en el modelo actual es de %.2f.\" %accuracy_log_filt)\n",
    "print(\"El área bajo la curva ROC original es de %.2f,\" % auc_log, \"mientras que para el modelo actual este valor alcanza el %.2f.\" %auc_log_filt)\n",
    "\n",
    "\n",
    "print('Matriz de confusión Logit original:')\n",
    "print(matriz_confusion_log) \n",
    "\n",
    "print('Matriz de confusión Logit actual:')\n",
    "print(matriz_confusion_log_filt) "
   ]
  }
 ],
 "metadata": {
  "kernelspec": {
   "display_name": "Python 3 (ipykernel)",
   "language": "python",
   "name": "python3"
  },
  "language_info": {
   "codemirror_mode": {
    "name": "ipython",
    "version": 3
   },
   "file_extension": ".py",
   "mimetype": "text/x-python",
   "name": "python",
   "nbconvert_exporter": "python",
   "pygments_lexer": "ipython3",
   "version": "3.9.12"
  },
  "varInspector": {
   "cols": {
    "lenName": 16,
    "lenType": 16,
    "lenVar": 40
   },
   "kernels_config": {
    "python": {
     "delete_cmd_postfix": "",
     "delete_cmd_prefix": "del ",
     "library": "var_list.py",
     "varRefreshCmd": "print(var_dic_list())"
    },
    "r": {
     "delete_cmd_postfix": ") ",
     "delete_cmd_prefix": "rm(",
     "library": "var_list.r",
     "varRefreshCmd": "cat(var_dic_list()) "
    }
   },
   "types_to_exclude": [
    "module",
    "function",
    "builtin_function_or_method",
    "instance",
    "_Feature"
   ],
   "window_display": false
  }
 },
 "nbformat": 4,
 "nbformat_minor": 5
}
