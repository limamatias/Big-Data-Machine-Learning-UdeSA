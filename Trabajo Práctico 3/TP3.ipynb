{
 "cells": [
  {
   "cell_type": "markdown",
   "id": "9ccb66a2",
   "metadata": {},
   "source": [
    "#  Trabajo práctico 3: Regularización aplicada a la EPH\n",
    "### Grupo 8: Banfi, Catalina; Lima, Matías; López, Santiago. "
   ]
  },
  {
   "cell_type": "markdown",
   "id": "993ee24b",
   "metadata": {},
   "source": [
    "## Parte I: Análisis de la base de hogares y cálculo de pobreza"
   ]
  },
  {
   "cell_type": "code",
   "execution_count": 1,
   "id": "24b54b34",
   "metadata": {},
   "outputs": [],
   "source": [
    "import os  \n",
    "import pandas as pd\n",
    "import numpy as np \n",
    "import matplotlib.pyplot as plt  # Para matriz de correlaciones\n",
    "import statsmodels.api as sm     \n",
    "\n",
    "from sklearn import datasets\n",
    "from sklearn.linear_model import LogisticRegression, Lasso, LassoCV, Ridge, RidgeCV\n",
    "from sklearn.model_selection import train_test_split, KFold, GridSearchCV, RepeatedKFold\n",
    "from sklearn.metrics import mean_squared_error, confusion_matrix, accuracy_score, roc_curve, RocCurveDisplay, plot_roc_curve, average_precision_score,roc_auc_score\n",
    "from sklearn.preprocessing import StandardScaler\n",
    "from sklearn.discriminant_analysis import LinearDiscriminantAnalysis, QuadraticDiscriminantAnalysis\n",
    "from sklearn.neighbors import KNeighborsClassifier\n",
    "from scipy.special import expit"
   ]
  },
  {
   "cell_type": "markdown",
   "id": "94ddce6b",
   "metadata": {},
   "source": [
    "Lo primero que hacemos es crear un botón que permita esconder todas las celdas que sean código y mostrar todo lo demás si se lo desea. La solución no es original, sino que la obtuvimos de una provista por el usuario de Stack Overflow Eric Shepherd en el siguiente link: https://stackoverflow.com/a/53136940 "
   ]
  },
  {
   "cell_type": "code",
   "execution_count": 2,
   "id": "20d3197d",
   "metadata": {
    "scrolled": false
   },
   "outputs": [
    {
     "data": {
      "text/html": [
       "<script>$(\"div.input\").hide()</script>"
      ],
      "text/plain": [
       "<IPython.core.display.HTML object>"
      ]
     },
     "metadata": {},
     "output_type": "display_data"
    },
    {
     "data": {
      "application/vnd.jupyter.widget-view+json": {
       "model_id": "7eca2ba2c3f744048eb469f421f7c415",
       "version_major": 2,
       "version_minor": 0
      },
      "text/plain": [
       "ToggleButton(value=False, description='Show code')"
      ]
     },
     "metadata": {},
     "output_type": "display_data"
    },
    {
     "data": {
      "text/html": [
       "<script>$(\"div.input\").show()</script>"
      ],
      "text/plain": [
       "<IPython.core.display.HTML object>"
      ]
     },
     "metadata": {},
     "output_type": "display_data"
    }
   ],
   "source": [
    "import ipywidgets as widgets\n",
    "from IPython.display import display, HTML\n",
    "\n",
    "javascript_functions = {False: \"hide()\", True: \"show()\"}\n",
    "button_descriptions  = {False: \"Show code\", True: \"Hide code\"}\n",
    "\n",
    "\n",
    "def toggle_code(state):\n",
    "\n",
    "    \"\"\"\n",
    "    Toggles the JavaScript show()/hide() function on the div.input element.\n",
    "    \"\"\"\n",
    "\n",
    "    output_string = \"<script>$(\\\"div.input\\\").{}</script>\"\n",
    "    output_args   = (javascript_functions[state],)\n",
    "    output        = output_string.format(*output_args)\n",
    "\n",
    "    display(HTML(output))\n",
    "\n",
    "\n",
    "def button_action(value):\n",
    "\n",
    "    \"\"\"\n",
    "    Calls the toggle_code function and updates the button description.\n",
    "    \"\"\"\n",
    "\n",
    "    state = value.new\n",
    "\n",
    "    toggle_code(state)\n",
    "\n",
    "    value.owner.description = button_descriptions[state]\n",
    "\n",
    "\n",
    "state = False\n",
    "toggle_code(state)\n",
    "\n",
    "button = widgets.ToggleButton(state, description = button_descriptions[state])\n",
    "button.observe(button_action, \"value\")\n",
    "\n",
    "display(button)"
   ]
  },
  {
   "cell_type": "markdown",
   "id": "e727f42d",
   "metadata": {},
   "source": [
    "También sumamos el siguiente código para ocultar las warnings, entendiendo que las mismas son útiles pero molestas en el caso de una presentación cuando ya se entendió el motivo de las mismas. Por este motivo, también dejamos comentada una línea que permite limitar la cantidad de advertencias por acción a 1. "
   ]
  },
  {
   "cell_type": "code",
   "execution_count": 3,
   "id": "2f8e00e6",
   "metadata": {},
   "outputs": [],
   "source": [
    "import warnings\n",
    "warnings.filterwarnings('ignore')\n",
    "#warnings.filterwarnings(action='once')"
   ]
  },
  {
   "cell_type": "markdown",
   "id": "70c884b8",
   "metadata": {},
   "source": [
    "### 1. Exploren el diseño de registro de la base de hogar: a priori, ¿qué variables creen que pueden ser muy predictivas de pobreza y que sería muy útil incluir para perfeccionar el ejercicio del TP2?"
   ]
  },
  {
   "cell_type": "markdown",
   "id": "76e697b5",
   "metadata": {},
   "source": [
    "A priori, algunas de las variables que creemos que pueden ser útiles para predecir pobreza son: IV1 (tipo de vivienda), IV2 (habitaciones), IV8 (baño), IV12_3 (villa emergencia), II7 (régimen de tenencia) y V5 (ayuda social), así como naturalmente los ingresos totales familiares. \n",
    "Elegimos estas variables porque creemos que: a) pueden ser buenos predictores, y porque b) pueden ser relevantes por sí solas es decir, no elegimos variables que pueden llegar a superponer demasiado su poder explicativo potencial. El tipo de vivienda es una variable categórica que incluye casa, departamento, pieza de inquilinato, pieza en hotel o pensión y local no construido para habitación. Si bien no tiene un poder predictivo si es casa o departamento, las siguientes categorías sí claramente tienen un poder predictivo importante. IV2 identifica la cantidad de habitaciones, es lógico pensar que cuantas más habitaciones tenga un hogar, más grande es y por lo tanto más probable que sus integrantes tengan altos ingresos per cápita. IV8 especifica si el hogar tiene o baño o letrina, algo que también correlaciona con los ingresos. IV12_3 indica si el hogar se encuentra en una villa de emergencia, lo que es claramente un gran predictor de si el hogar es pobre o no. Yendo a las características habitacionales del hogar, el régimen de tenencia (II7) especifica si alguno de los habitantes del hogar es dueño de la vivienda y el terreno, si sólo de la vivienda, si es inquilino, ocupante gratuito con permiso o de hecho (sin permiso), entre otras categorías. Está claro que aquellos que son dueños es menos probable que sean pobres, mientras que lo contrario se da para ocupantes de hecho. Por último, V5 indica si en los últimos tres meses las personas del hogar han vivido de ayuda social del gobierno y/o otras instituciones. Quienes responden sí es más probable que estén en una situación de emergencia de ingresos o necesiten complementarlos. "
   ]
  },
  {
   "cell_type": "markdown",
   "id": "8d8f8d00",
   "metadata": {},
   "source": [
    "### 2. Descarguen la base de microdatos de la EPH correspondiente al primer trimestre de 2022 (la base de hogares se llama usu_hogar_T122.xls). Importen los datos de la encuesta de hogar y al igual que en el TP1 conserven sólo las observaciones que corresponden a los aglomerados de Ciudad Autónoma de Buenos Aires o del Gran Buenos Aires."
   ]
  },
  {
   "cell_type": "code",
   "execution_count": 4,
   "id": "8c0974ff",
   "metadata": {},
   "outputs": [],
   "source": [
    "base_hogar = pd.read_excel(\"usu_hogar_T122.xlsx\")\n",
    "#base_hogar = pd.read_csv(\"usu_hogar_T122.csv\", low_memory=False)\n",
    "\n",
    "base_hogar_bs = base_hogar[(base_hogar['AGLOMERADO'] == 32) | (base_hogar['AGLOMERADO'] == 33)]"
   ]
  },
  {
   "cell_type": "markdown",
   "id": "ffdf1c77",
   "metadata": {},
   "source": [
    "### 3. Unan la tabla de la encuesta individual con la de la encuesta de hogar."
   ]
  },
  {
   "cell_type": "code",
   "execution_count": 5,
   "id": "320f5d01",
   "metadata": {
    "scrolled": false
   },
   "outputs": [],
   "source": [
    "base_individual = pd.read_excel(\"usu_individual_T122.xlsx\")\n",
    "#base_individual = pd.read_csv(\"usu_individual_T122.csv\", low_memory=False)\n",
    "\n",
    "base_individual_bs = base_individual[(base_individual['AGLOMERADO'] == 32) | (base_individual['AGLOMERADO'] == 33)]"
   ]
  },
  {
   "cell_type": "code",
   "execution_count": 6,
   "id": "8e8bf095",
   "metadata": {
    "scrolled": false
   },
   "outputs": [
    {
     "data": {
      "text/html": [
       "<div>\n",
       "<style scoped>\n",
       "    .dataframe tbody tr th:only-of-type {\n",
       "        vertical-align: middle;\n",
       "    }\n",
       "\n",
       "    .dataframe tbody tr th {\n",
       "        vertical-align: top;\n",
       "    }\n",
       "\n",
       "    .dataframe thead th {\n",
       "        text-align: right;\n",
       "    }\n",
       "</style>\n",
       "<table border=\"1\" class=\"dataframe\">\n",
       "  <thead>\n",
       "    <tr style=\"text-align: right;\">\n",
       "      <th></th>\n",
       "      <th>CODUSU</th>\n",
       "      <th>ANO4</th>\n",
       "      <th>TRIMESTRE</th>\n",
       "      <th>NRO_HOGAR</th>\n",
       "      <th>COMPONENTE</th>\n",
       "      <th>H15</th>\n",
       "      <th>REGION</th>\n",
       "      <th>MAS_500</th>\n",
       "      <th>AGLOMERADO</th>\n",
       "      <th>PONDERA</th>\n",
       "      <th>...</th>\n",
       "      <th>V19_B</th>\n",
       "      <th>IX_TOT</th>\n",
       "      <th>IX_MEN10</th>\n",
       "      <th>IX_MAYEQ10</th>\n",
       "      <th>VII1_1</th>\n",
       "      <th>VII1_2</th>\n",
       "      <th>VII2_1</th>\n",
       "      <th>VII2_2</th>\n",
       "      <th>VII2_3</th>\n",
       "      <th>VII2_4</th>\n",
       "    </tr>\n",
       "  </thead>\n",
       "  <tbody>\n",
       "    <tr>\n",
       "      <th>0</th>\n",
       "      <td>TQRMNOSUPHKKPQCDEIJAH00780151</td>\n",
       "      <td>2022</td>\n",
       "      <td>1</td>\n",
       "      <td>1</td>\n",
       "      <td>1</td>\n",
       "      <td>1</td>\n",
       "      <td>1</td>\n",
       "      <td>S</td>\n",
       "      <td>33</td>\n",
       "      <td>1741</td>\n",
       "      <td>...</td>\n",
       "      <td>2</td>\n",
       "      <td>3</td>\n",
       "      <td>0</td>\n",
       "      <td>3</td>\n",
       "      <td>1</td>\n",
       "      <td>2</td>\n",
       "      <td>3</td>\n",
       "      <td>0</td>\n",
       "      <td>0</td>\n",
       "      <td>0</td>\n",
       "    </tr>\n",
       "    <tr>\n",
       "      <th>1</th>\n",
       "      <td>TQRMNOSUPHKKPQCDEIJAH00780151</td>\n",
       "      <td>2022</td>\n",
       "      <td>1</td>\n",
       "      <td>1</td>\n",
       "      <td>2</td>\n",
       "      <td>1</td>\n",
       "      <td>1</td>\n",
       "      <td>S</td>\n",
       "      <td>33</td>\n",
       "      <td>1741</td>\n",
       "      <td>...</td>\n",
       "      <td>2</td>\n",
       "      <td>3</td>\n",
       "      <td>0</td>\n",
       "      <td>3</td>\n",
       "      <td>1</td>\n",
       "      <td>2</td>\n",
       "      <td>3</td>\n",
       "      <td>0</td>\n",
       "      <td>0</td>\n",
       "      <td>0</td>\n",
       "    </tr>\n",
       "    <tr>\n",
       "      <th>2</th>\n",
       "      <td>TQRMNOSUPHKKPQCDEIJAH00780151</td>\n",
       "      <td>2022</td>\n",
       "      <td>1</td>\n",
       "      <td>1</td>\n",
       "      <td>3</td>\n",
       "      <td>1</td>\n",
       "      <td>1</td>\n",
       "      <td>S</td>\n",
       "      <td>33</td>\n",
       "      <td>1741</td>\n",
       "      <td>...</td>\n",
       "      <td>2</td>\n",
       "      <td>3</td>\n",
       "      <td>0</td>\n",
       "      <td>3</td>\n",
       "      <td>1</td>\n",
       "      <td>2</td>\n",
       "      <td>3</td>\n",
       "      <td>0</td>\n",
       "      <td>0</td>\n",
       "      <td>0</td>\n",
       "    </tr>\n",
       "    <tr>\n",
       "      <th>3</th>\n",
       "      <td>TQRMNOPQQHKMRLCDEIJAH00780169</td>\n",
       "      <td>2022</td>\n",
       "      <td>1</td>\n",
       "      <td>1</td>\n",
       "      <td>1</td>\n",
       "      <td>1</td>\n",
       "      <td>1</td>\n",
       "      <td>S</td>\n",
       "      <td>33</td>\n",
       "      <td>456</td>\n",
       "      <td>...</td>\n",
       "      <td>2</td>\n",
       "      <td>1</td>\n",
       "      <td>0</td>\n",
       "      <td>1</td>\n",
       "      <td>1</td>\n",
       "      <td>0</td>\n",
       "      <td>98</td>\n",
       "      <td>0</td>\n",
       "      <td>0</td>\n",
       "      <td>0</td>\n",
       "    </tr>\n",
       "    <tr>\n",
       "      <th>4</th>\n",
       "      <td>TQRMNOSXRHJMTRCDEIJAH00693084</td>\n",
       "      <td>2022</td>\n",
       "      <td>1</td>\n",
       "      <td>1</td>\n",
       "      <td>1</td>\n",
       "      <td>1</td>\n",
       "      <td>1</td>\n",
       "      <td>S</td>\n",
       "      <td>33</td>\n",
       "      <td>1199</td>\n",
       "      <td>...</td>\n",
       "      <td>2</td>\n",
       "      <td>2</td>\n",
       "      <td>0</td>\n",
       "      <td>2</td>\n",
       "      <td>1</td>\n",
       "      <td>3</td>\n",
       "      <td>98</td>\n",
       "      <td>0</td>\n",
       "      <td>0</td>\n",
       "      <td>0</td>\n",
       "    </tr>\n",
       "    <tr>\n",
       "      <th>...</th>\n",
       "      <td>...</td>\n",
       "      <td>...</td>\n",
       "      <td>...</td>\n",
       "      <td>...</td>\n",
       "      <td>...</td>\n",
       "      <td>...</td>\n",
       "      <td>...</td>\n",
       "      <td>...</td>\n",
       "      <td>...</td>\n",
       "      <td>...</td>\n",
       "      <td>...</td>\n",
       "      <td>...</td>\n",
       "      <td>...</td>\n",
       "      <td>...</td>\n",
       "      <td>...</td>\n",
       "      <td>...</td>\n",
       "      <td>...</td>\n",
       "      <td>...</td>\n",
       "      <td>...</td>\n",
       "      <td>...</td>\n",
       "      <td>...</td>\n",
       "    </tr>\n",
       "    <tr>\n",
       "      <th>6701</th>\n",
       "      <td>TQRMNOTTSHKNLSCDEIIAD00780102</td>\n",
       "      <td>2022</td>\n",
       "      <td>1</td>\n",
       "      <td>1</td>\n",
       "      <td>2</td>\n",
       "      <td>1</td>\n",
       "      <td>1</td>\n",
       "      <td>S</td>\n",
       "      <td>32</td>\n",
       "      <td>2839</td>\n",
       "      <td>...</td>\n",
       "      <td>2</td>\n",
       "      <td>2</td>\n",
       "      <td>0</td>\n",
       "      <td>2</td>\n",
       "      <td>1</td>\n",
       "      <td>0</td>\n",
       "      <td>98</td>\n",
       "      <td>0</td>\n",
       "      <td>0</td>\n",
       "      <td>0</td>\n",
       "    </tr>\n",
       "    <tr>\n",
       "      <th>6702</th>\n",
       "      <td>TQRMNOPRPHMNMLCDEIIAD00701192</td>\n",
       "      <td>2022</td>\n",
       "      <td>1</td>\n",
       "      <td>1</td>\n",
       "      <td>1</td>\n",
       "      <td>1</td>\n",
       "      <td>1</td>\n",
       "      <td>S</td>\n",
       "      <td>32</td>\n",
       "      <td>2131</td>\n",
       "      <td>...</td>\n",
       "      <td>2</td>\n",
       "      <td>2</td>\n",
       "      <td>0</td>\n",
       "      <td>2</td>\n",
       "      <td>2</td>\n",
       "      <td>0</td>\n",
       "      <td>98</td>\n",
       "      <td>0</td>\n",
       "      <td>0</td>\n",
       "      <td>0</td>\n",
       "    </tr>\n",
       "    <tr>\n",
       "      <th>6703</th>\n",
       "      <td>TQRMNOPRPHMNMLCDEIIAD00701192</td>\n",
       "      <td>2022</td>\n",
       "      <td>1</td>\n",
       "      <td>1</td>\n",
       "      <td>2</td>\n",
       "      <td>1</td>\n",
       "      <td>1</td>\n",
       "      <td>S</td>\n",
       "      <td>32</td>\n",
       "      <td>2131</td>\n",
       "      <td>...</td>\n",
       "      <td>2</td>\n",
       "      <td>2</td>\n",
       "      <td>0</td>\n",
       "      <td>2</td>\n",
       "      <td>2</td>\n",
       "      <td>0</td>\n",
       "      <td>98</td>\n",
       "      <td>0</td>\n",
       "      <td>0</td>\n",
       "      <td>0</td>\n",
       "    </tr>\n",
       "    <tr>\n",
       "      <th>6704</th>\n",
       "      <td>TQRMNOSRWHKMLUCDEIIAD00780103</td>\n",
       "      <td>2022</td>\n",
       "      <td>1</td>\n",
       "      <td>1</td>\n",
       "      <td>1</td>\n",
       "      <td>1</td>\n",
       "      <td>1</td>\n",
       "      <td>S</td>\n",
       "      <td>32</td>\n",
       "      <td>1513</td>\n",
       "      <td>...</td>\n",
       "      <td>2</td>\n",
       "      <td>2</td>\n",
       "      <td>0</td>\n",
       "      <td>2</td>\n",
       "      <td>1</td>\n",
       "      <td>0</td>\n",
       "      <td>2</td>\n",
       "      <td>0</td>\n",
       "      <td>0</td>\n",
       "      <td>0</td>\n",
       "    </tr>\n",
       "    <tr>\n",
       "      <th>6705</th>\n",
       "      <td>TQRMNOSRWHKMLUCDEIIAD00780103</td>\n",
       "      <td>2022</td>\n",
       "      <td>1</td>\n",
       "      <td>1</td>\n",
       "      <td>2</td>\n",
       "      <td>1</td>\n",
       "      <td>1</td>\n",
       "      <td>S</td>\n",
       "      <td>32</td>\n",
       "      <td>1513</td>\n",
       "      <td>...</td>\n",
       "      <td>2</td>\n",
       "      <td>2</td>\n",
       "      <td>0</td>\n",
       "      <td>2</td>\n",
       "      <td>1</td>\n",
       "      <td>0</td>\n",
       "      <td>2</td>\n",
       "      <td>0</td>\n",
       "      <td>0</td>\n",
       "      <td>0</td>\n",
       "    </tr>\n",
       "  </tbody>\n",
       "</table>\n",
       "<p>6706 rows × 242 columns</p>\n",
       "</div>"
      ],
      "text/plain": [
       "                             CODUSU  ANO4  TRIMESTRE  NRO_HOGAR  COMPONENTE  \\\n",
       "0     TQRMNOSUPHKKPQCDEIJAH00780151  2022          1          1           1   \n",
       "1     TQRMNOSUPHKKPQCDEIJAH00780151  2022          1          1           2   \n",
       "2     TQRMNOSUPHKKPQCDEIJAH00780151  2022          1          1           3   \n",
       "3     TQRMNOPQQHKMRLCDEIJAH00780169  2022          1          1           1   \n",
       "4     TQRMNOSXRHJMTRCDEIJAH00693084  2022          1          1           1   \n",
       "...                             ...   ...        ...        ...         ...   \n",
       "6701  TQRMNOTTSHKNLSCDEIIAD00780102  2022          1          1           2   \n",
       "6702  TQRMNOPRPHMNMLCDEIIAD00701192  2022          1          1           1   \n",
       "6703  TQRMNOPRPHMNMLCDEIIAD00701192  2022          1          1           2   \n",
       "6704  TQRMNOSRWHKMLUCDEIIAD00780103  2022          1          1           1   \n",
       "6705  TQRMNOSRWHKMLUCDEIIAD00780103  2022          1          1           2   \n",
       "\n",
       "      H15  REGION MAS_500  AGLOMERADO  PONDERA  ...  V19_B  IX_TOT IX_MEN10  \\\n",
       "0       1       1       S          33     1741  ...      2       3        0   \n",
       "1       1       1       S          33     1741  ...      2       3        0   \n",
       "2       1       1       S          33     1741  ...      2       3        0   \n",
       "3       1       1       S          33      456  ...      2       1        0   \n",
       "4       1       1       S          33     1199  ...      2       2        0   \n",
       "...   ...     ...     ...         ...      ...  ...    ...     ...      ...   \n",
       "6701    1       1       S          32     2839  ...      2       2        0   \n",
       "6702    1       1       S          32     2131  ...      2       2        0   \n",
       "6703    1       1       S          32     2131  ...      2       2        0   \n",
       "6704    1       1       S          32     1513  ...      2       2        0   \n",
       "6705    1       1       S          32     1513  ...      2       2        0   \n",
       "\n",
       "      IX_MAYEQ10  VII1_1  VII1_2  VII2_1  VII2_2  VII2_3  VII2_4  \n",
       "0              3       1       2       3       0       0       0  \n",
       "1              3       1       2       3       0       0       0  \n",
       "2              3       1       2       3       0       0       0  \n",
       "3              1       1       0      98       0       0       0  \n",
       "4              2       1       3      98       0       0       0  \n",
       "...          ...     ...     ...     ...     ...     ...     ...  \n",
       "6701           2       1       0      98       0       0       0  \n",
       "6702           2       2       0      98       0       0       0  \n",
       "6703           2       2       0      98       0       0       0  \n",
       "6704           2       1       0       2       0       0       0  \n",
       "6705           2       1       0       2       0       0       0  \n",
       "\n",
       "[6706 rows x 242 columns]"
      ]
     },
     "execution_count": 6,
     "metadata": {},
     "output_type": "execute_result"
    }
   ],
   "source": [
    "base_merge = base_individual_bs.merge(base_hogar_bs, left_on=['CODUSU', 'NRO_HOGAR'], right_on=['CODUSU', 'NRO_HOGAR'], how='outer', suffixes=('', '_y'))\n",
    "\n",
    "base_merge.drop(base_merge.filter(regex='_y$').columns, axis=1, inplace=True)\n",
    "\n",
    "base_merge"
   ]
  },
  {
   "cell_type": "code",
   "execution_count": 7,
   "id": "3f535422",
   "metadata": {},
   "outputs": [],
   "source": [
    "# Definimos las intersección entre las dos bases como una lista\n",
    "columnas_duplicadas = set(base_hogar_bs.columns).intersection(set(base_individual_bs.columns))\n",
    "# Removemos CODUSU y NRO_HOGAR de la lista ya que queremos usarlas para la intersección (y las columnas sobre las que se une\n",
    "# no generan duplicados)\n",
    "columnas_duplicadas.remove(\"CODUSU\")\n",
    "columnas_duplicadas.remove(\"NRO_HOGAR\")\n",
    "\n",
    "# Hacemos el merge habiendo dropeado las columnas repetidas\n",
    "df5 = pd.merge(\n",
    "    base_hogar_bs.drop(columnas_duplicadas, axis=1), \n",
    "    base_individual_bs,\n",
    "    on= ['NRO_HOGAR', 'CODUSU']\n",
    ")"
   ]
  },
  {
   "cell_type": "markdown",
   "id": "d084c407",
   "metadata": {},
   "source": [
    "### 4. Generen sus propias funciones para limpiar la base de datos o, si deciden utilizar funciones existentes en paquetes como numpy y pandas, mencionen cuáles usarán y de qué paquetes son."
   ]
  },
  {
   "cell_type": "markdown",
   "id": "1d254d4c",
   "metadata": {},
   "source": [
    "Con el primer código lo que queremos es ver qué columnas tienen una gran cantidad de valores faltantes, para darnos una idea de cuál sería una cantidad justa para eliminar de la base. En base a eso, decidimos que columnas con más de un 50% de valores faltantes sean descartadas. Luego, lo que usamos es una función de numpy, .isna, que nos permite setear con condiciones qué columnas se van a eliminar. "
   ]
  },
  {
   "cell_type": "code",
   "execution_count": 8,
   "id": "217c9854",
   "metadata": {},
   "outputs": [
    {
     "name": "stdout",
     "output_type": "stream",
     "text": [
      "Amount of missing values in - \n",
      "CODUSU : 0%\n",
      "ANO4 : 0%\n",
      "TRIMESTRE : 0%\n",
      "NRO_HOGAR : 0%\n",
      "COMPONENTE : 0%\n",
      "H15 : 0%\n",
      "REGION : 0%\n",
      "MAS_500 : 0%\n",
      "AGLOMERADO : 0%\n",
      "PONDERA : 0%\n",
      "CH03 : 0%\n",
      "CH04 : 0%\n",
      "CH05 : 0%\n",
      "CH06 : 0%\n",
      "CH07 : 0%\n",
      "CH08 : 0%\n",
      "CH09 : 0%\n",
      "CH10 : 0%\n",
      "CH11 : 0%\n",
      "CH12 : 0%\n",
      "CH13 : 0%\n",
      "CH14 : 52%\n",
      "CH15 : 0%\n",
      "CH15_COD : 82%\n",
      "CH16 : 0%\n",
      "CH16_COD : 98%\n",
      "NIVEL_ED : 0%\n",
      "ESTADO : 0%\n",
      "CAT_OCUP : 0%\n",
      "CAT_INAC : 0%\n",
      "IMPUTA : 99%\n",
      "PP02C1 : 0%\n",
      "PP02C2 : 0%\n",
      "PP02C3 : 0%\n",
      "PP02C4 : 0%\n",
      "PP02C5 : 0%\n",
      "PP02C6 : 0%\n",
      "PP02C7 : 0%\n",
      "PP02C8 : 0%\n",
      "PP02E : 0%\n",
      "PP02H : 0%\n",
      "PP02I : 0%\n",
      "PP03C : 56%\n",
      "PP03D : 56%\n",
      "PP3E_TOT : 56%\n",
      "PP3F_TOT : 56%\n",
      "PP03G : 56%\n",
      "PP03H : 56%\n",
      "PP03I : 56%\n",
      "PP03J : 56%\n",
      "INTENSI : 56%\n",
      "PP04A : 56%\n",
      "PP04B_COD : 56%\n",
      "PP04B1 : 56%\n",
      "PP04B2 : 56%\n",
      "PP04B3_MES : 56%\n",
      "PP04B3_ANO : 56%\n",
      "PP04B3_DIA : 56%\n",
      "PP04C : 56%\n",
      "PP04C99 : 56%\n",
      "PP04D_COD : 56%\n",
      "PP04G : 56%\n",
      "PP05B2_MES : 56%\n",
      "PP05B2_ANO : 56%\n",
      "PP05B2_DIA : 56%\n",
      "PP05C_1 : 56%\n",
      "PP05C_2 : 56%\n",
      "PP05C_3 : 56%\n",
      "PP05E : 56%\n",
      "PP05F : 56%\n",
      "PP05H : 56%\n",
      "PP06A : 56%\n",
      "PP06C : 56%\n",
      "PP06D : 56%\n",
      "PP06E : 56%\n",
      "PP06H : 56%\n",
      "PP07A : 56%\n",
      "PP07C : 56%\n",
      "PP07D : 56%\n",
      "PP07E : 56%\n",
      "PP07F1 : 56%\n",
      "PP07F2 : 56%\n",
      "PP07F3 : 56%\n",
      "PP07F4 : 56%\n",
      "PP07F5 : 56%\n",
      "PP07G1 : 56%\n",
      "PP07G2 : 56%\n",
      "PP07G3 : 56%\n",
      "PP07G4 : 56%\n",
      "PP07G_59 : 56%\n",
      "PP07H : 56%\n",
      "PP07I : 56%\n",
      "PP07J : 56%\n",
      "PP07K : 56%\n",
      "PP08D1 : 56%\n",
      "PP08D4 : 56%\n",
      "PP08F1 : 56%\n",
      "PP08F2 : 56%\n",
      "PP08J1 : 56%\n",
      "PP08J2 : 56%\n",
      "PP08J3 : 56%\n",
      "PP09A : 56%\n",
      "PP09A_ESP : 100%\n",
      "PP09B : 56%\n",
      "PP09C : 56%\n",
      "PP09C_ESP : 100%\n",
      "PP10A : 97%\n",
      "PP10C : 97%\n",
      "PP10D : 97%\n",
      "PP10E : 97%\n",
      "PP11A : 97%\n",
      "PP11B_COD : 97%\n",
      "PP11B1 : 97%\n",
      "PP11B2_MES : 97%\n",
      "PP11B2_ANO : 97%\n",
      "PP11B2_DIA : 97%\n",
      "PP11C : 97%\n",
      "PP11C99 : 97%\n",
      "PP11D_COD : 97%\n",
      "PP11G_ANO : 97%\n",
      "PP11G_MES : 97%\n",
      "PP11G_DIA : 97%\n",
      "PP11L : 97%\n",
      "PP11L1 : 97%\n",
      "PP11M : 97%\n",
      "PP11N : 97%\n",
      "PP11O : 97%\n",
      "PP11P : 97%\n",
      "PP11Q : 97%\n",
      "PP11R : 97%\n",
      "PP11S : 97%\n",
      "PP11T : 97%\n",
      "P21 : 0%\n",
      "DECOCUR : 0%\n",
      "IDECOCUR : 100%\n",
      "RDECOCUR : 0%\n",
      "GDECOCUR : 0%\n",
      "PDECOCUR : 100%\n",
      "ADECOCUR : 0%\n",
      "PONDIIO : 0%\n",
      "TOT_P12 : 0%\n",
      "P47T : 0%\n",
      "DECINDR : 0%\n",
      "IDECINDR : 100%\n",
      "RDECINDR : 0%\n",
      "GDECINDR : 0%\n",
      "PDECINDR : 100%\n",
      "ADECINDR : 0%\n",
      "PONDII : 0%\n",
      "V2_M : 0%\n",
      "V3_M : 0%\n",
      "V4_M : 0%\n",
      "V5_M : 0%\n",
      "V8_M : 0%\n",
      "V9_M : 0%\n",
      "V10_M : 0%\n",
      "V11_M : 0%\n",
      "V12_M : 0%\n",
      "V18_M : 0%\n",
      "V19_AM : 0%\n",
      "V21_M : 0%\n",
      "T_VI : 0%\n",
      "ITF : 0%\n",
      "DECIFR : 0%\n",
      "IDECIFR : 100%\n",
      "RDECIFR : 0%\n",
      "GDECIFR : 0%\n",
      "PDECIFR : 100%\n",
      "ADECIFR : 0%\n",
      "IPCF : 0%\n",
      "DECCFR : 0%\n",
      "IDECCFR : 100%\n",
      "RDECCFR : 0%\n",
      "GDECCFR : 0%\n",
      "PDECCFR : 100%\n",
      "ADECCFR : 0%\n",
      "PONDIH : 0%\n",
      "REALIZADA : 0%\n",
      "IV1 : 0%\n",
      "IV1_ESP : 100%\n",
      "IV2 : 0%\n",
      "IV3 : 0%\n",
      "IV3_ESP : 100%\n",
      "IV4 : 0%\n",
      "IV5 : 0%\n",
      "IV6 : 0%\n",
      "IV7 : 0%\n",
      "IV7_ESP : 100%\n",
      "IV8 : 0%\n",
      "IV9 : 0%\n",
      "IV10 : 0%\n",
      "IV11 : 0%\n",
      "IV12_1 : 0%\n",
      "IV12_2 : 0%\n",
      "IV12_3 : 0%\n",
      "II1 : 0%\n",
      "II2 : 0%\n",
      "II3 : 0%\n",
      "II3_1 : 0%\n",
      "II4_1 : 0%\n",
      "II4_2 : 0%\n",
      "II4_3 : 0%\n",
      "II5 : 0%\n",
      "II5_1 : 0%\n",
      "II6 : 0%\n",
      "II6_1 : 0%\n",
      "II7 : 0%\n",
      "II7_ESP : 100%\n",
      "II8 : 0%\n",
      "II8_ESP : 98%\n",
      "II9 : 0%\n",
      "V1 : 0%\n",
      "V2 : 0%\n",
      "V21 : 0%\n",
      "V22 : 0%\n",
      "V3 : 0%\n",
      "V4 : 0%\n",
      "V5 : 0%\n",
      "V6 : 0%\n",
      "V7 : 0%\n",
      "V8 : 0%\n",
      "V9 : 0%\n",
      "V10 : 0%\n",
      "V11 : 0%\n",
      "V12 : 0%\n",
      "V13 : 0%\n",
      "V14 : 0%\n",
      "V15 : 0%\n",
      "V16 : 0%\n",
      "V17 : 0%\n",
      "V18 : 0%\n",
      "V19_A : 0%\n",
      "V19_B : 0%\n",
      "IX_TOT : 0%\n",
      "IX_MEN10 : 0%\n",
      "IX_MAYEQ10 : 0%\n",
      "VII1_1 : 0%\n",
      "VII1_2 : 0%\n",
      "VII2_1 : 0%\n",
      "VII2_2 : 0%\n",
      "VII2_3 : 0%\n",
      "VII2_4 : 0%\n"
     ]
    }
   ],
   "source": [
    "print(\"Amount of missing values in - \")\n",
    "for column in base_merge.columns:\n",
    "    percentage_missing = np.mean(base_merge[column].isna())\n",
    "    print(f'{column} : {round(percentage_missing*100)}%')"
   ]
  },
  {
   "cell_type": "code",
   "execution_count": 9,
   "id": "9f352588",
   "metadata": {
    "scrolled": true
   },
   "outputs": [],
   "source": [
    "na_percentage = base_merge.isna().sum()/base_merge.shape[0]*100\n",
    "col_to_drop = na_percentage[na_percentage>50].keys() # Eliminamos las columnas con más de 50% de missing values.\n",
    "base_merge2 = base_merge.drop(col_to_drop, axis=1)"
   ]
  },
  {
   "cell_type": "code",
   "execution_count": 10,
   "id": "af242d24",
   "metadata": {
    "scrolled": true
   },
   "outputs": [],
   "source": [
    "base_merge3 = base_merge2[base_merge2.select_dtypes(include=[np.number]).ge(0).all(1)].reset_index(drop=True)\n",
    "base_merge3\n",
    "\n",
    "# Por fuera de los paquetes, eliminamos observaciones con datos NS/NC en la variable para cantidad de habitaciones \n",
    "base_merge3 = base_merge3[(base_merge3['IV2'] < 99)]"
   ]
  },
  {
   "cell_type": "markdown",
   "id": "f9739cd7",
   "metadata": {},
   "source": [
    "### 5. Limpien la base de datos tomando criterios que hagan sentido, tanto para el tratamiento de los valores faltantes, de los outliers, como así tambien decidan qué variables categóricas y strings usarán y transfórmenlas de forma que haga sentido para los ejercicios siguientes. Justifiquen sus decisiones."
   ]
  },
  {
   "cell_type": "markdown",
   "id": "2d7b8ab8",
   "metadata": {},
   "source": [
    "Una vez hecha la limpieza, nos concentramos en transformar variables categóricas que creemos que son importantes (no observamos ningún string como importante por eso no hacemos nada con respecto a eso). Seleccionamos las variables que mencionamos como comentario a continuación porque creemos que son importantes para el análisis de la pobreza. Estas son: el tipo de vivienda, el material de los pisos, de dónde consigue agua el hogar, la fuente de agua, si tiene baño, dónde está el baño, si la vivienda está ubicada en la proximidad de un basural, si la vivienda está ubicada en una villa de emergencia, el régimen de tenencia, el combustible utilizado para cocinar, el origen de los ingresos de los habitantes de la vivienda (salarios por trabajo, jubilaciones o pensiones, o subsidios o ayuda social), el decil de ingreso en el que se encuentra el hogar, si el individuo sabe leer y escribir, si asiste a un establecimiento educativo, qué tipo de establecimiento es, y, por último, cuál es el nivel educativo que cursa o el más alto que alcanzó. Estas variables tienen un gran overlap con las que mencionamos al principio del trabajo y creemos que son todas muy indicativas del posible estatus socioeconómico del hogar y de un individuo en particular. "
   ]
  },
  {
   "cell_type": "code",
   "execution_count": 11,
   "id": "2b9ec305",
   "metadata": {},
   "outputs": [],
   "source": [
    "# Categorica: IV1, IV3, IV6, IV7, IV8, IV9, IV12_1, IV12_3, II7, II8, V1, V2, V5, DECCFR, CH09, CH10, CH11, CH12"
   ]
  },
  {
   "cell_type": "code",
   "execution_count": 12,
   "id": "a9910b03",
   "metadata": {},
   "outputs": [],
   "source": [
    "for col in ['IV1', 'IV3', 'IV6', 'IV7', 'IV8', 'IV9', 'IV12_1', 'IV12_3', 'II7', 'II8', 'V1', 'V2', 'V5', 'DECCFR', 'CH09', 'CH10', 'CH11', 'CH12']:\n",
    "    base_merge3[col] = base_merge3[col].astype('category')"
   ]
  },
  {
   "cell_type": "markdown",
   "id": "8180980a",
   "metadata": {},
   "source": [
    "### 6. Presenten estadísticas descriptivas de 5 variables de la encuesta de hogar que ustedes creen que pueden ser relevantes para predecir pobreza."
   ]
  },
  {
   "cell_type": "markdown",
   "id": "25580fea",
   "metadata": {},
   "source": [
    "Las variables que seleccionamos para este análisis son la cantidad de ambientes en la vivienda (IV2), la edad, los ingresos totales familiares, el ingreso per cápita familiar, y la cantidad de miembros totales en el hogar. Elegimos estas variables porque cuantos más ambientes haya en el hogar, más probable es que la familia no sea pobre, a mayor edad lo mismo (la pobreza afecta más a los niños que a los ancianos); mayores ingresos también implican menor probabilidad de pobreza, así como el ingreso per cápita de la familia; y, por último, familias más numerosas podrían correlacionar con una mayor posibilidad de ser pobre. Encontramos que todas estas variables tienen una gran dispersión, por lo que sus promedios no son demasiado representativos, de todas formas, una variable que es significativa es que la media de ambientes en la vivienda es apenas mayor a 3, mientras que la cantidad de miembros totales en el hogar se acerca a 4, lo que podría dar una idea de que hay cierta tendencia a la congregación en los hogares de más personas que ambientes."
   ]
  },
  {
   "cell_type": "code",
   "execution_count": 13,
   "id": "49501dff",
   "metadata": {},
   "outputs": [
    {
     "data": {
      "text/html": [
       "<div>\n",
       "<style scoped>\n",
       "    .dataframe tbody tr th:only-of-type {\n",
       "        vertical-align: middle;\n",
       "    }\n",
       "\n",
       "    .dataframe tbody tr th {\n",
       "        vertical-align: top;\n",
       "    }\n",
       "\n",
       "    .dataframe thead th {\n",
       "        text-align: right;\n",
       "    }\n",
       "</style>\n",
       "<table border=\"1\" class=\"dataframe\">\n",
       "  <thead>\n",
       "    <tr style=\"text-align: right;\">\n",
       "      <th></th>\n",
       "      <th>count</th>\n",
       "      <th>mean</th>\n",
       "      <th>std</th>\n",
       "      <th>min</th>\n",
       "      <th>25%</th>\n",
       "      <th>50%</th>\n",
       "      <th>75%</th>\n",
       "      <th>max</th>\n",
       "    </tr>\n",
       "  </thead>\n",
       "  <tbody>\n",
       "    <tr>\n",
       "      <th>CH06</th>\n",
       "      <td>5294.0</td>\n",
       "      <td>36.193804</td>\n",
       "      <td>23.300926</td>\n",
       "      <td>1.0</td>\n",
       "      <td>16.0</td>\n",
       "      <td>33.0</td>\n",
       "      <td>54.0</td>\n",
       "      <td>105.0</td>\n",
       "    </tr>\n",
       "    <tr>\n",
       "      <th>ITF</th>\n",
       "      <td>5294.0</td>\n",
       "      <td>90942.685493</td>\n",
       "      <td>108273.937898</td>\n",
       "      <td>0.0</td>\n",
       "      <td>0.0</td>\n",
       "      <td>65000.0</td>\n",
       "      <td>130000.0</td>\n",
       "      <td>950000.0</td>\n",
       "    </tr>\n",
       "    <tr>\n",
       "      <th>IPCF</th>\n",
       "      <td>5294.0</td>\n",
       "      <td>31897.002822</td>\n",
       "      <td>43623.683058</td>\n",
       "      <td>0.0</td>\n",
       "      <td>0.0</td>\n",
       "      <td>20000.0</td>\n",
       "      <td>44500.0</td>\n",
       "      <td>600000.0</td>\n",
       "    </tr>\n",
       "  </tbody>\n",
       "</table>\n",
       "</div>"
      ],
      "text/plain": [
       "       count          mean            std  min   25%      50%       75%  \\\n",
       "CH06  5294.0     36.193804      23.300926  1.0  16.0     33.0      54.0   \n",
       "ITF   5294.0  90942.685493  108273.937898  0.0   0.0  65000.0  130000.0   \n",
       "IPCF  5294.0  31897.002822   43623.683058  0.0   0.0  20000.0   44500.0   \n",
       "\n",
       "           max  \n",
       "CH06     105.0  \n",
       "ITF   950000.0  \n",
       "IPCF  600000.0  "
      ]
     },
     "execution_count": 13,
     "metadata": {},
     "output_type": "execute_result"
    }
   ],
   "source": [
    "base_merge3[['CH06','ITF','IPCF']].describe().T"
   ]
  },
  {
   "cell_type": "code",
   "execution_count": 14,
   "id": "f6b74a23",
   "metadata": {},
   "outputs": [
    {
     "data": {
      "text/plain": [
       "IX_TOT\n",
       "4         1305\n",
       "3         1084\n",
       "2         1013\n",
       "5          763\n",
       "1          399\n",
       "6          373\n",
       "7          165\n",
       "9           70\n",
       "8           58\n",
       "10          25\n",
       "13          20\n",
       "12          11\n",
       "11           8\n",
       "dtype: int64"
      ]
     },
     "execution_count": 14,
     "metadata": {},
     "output_type": "execute_result"
    }
   ],
   "source": [
    "#Para categóricas usamos value_counts porque nos interesa la proporción en los distintos valores (corrección Mati)\n",
    "base_merge3[['IX_TOT']].value_counts()"
   ]
  },
  {
   "cell_type": "code",
   "execution_count": 15,
   "id": "84ac83a5",
   "metadata": {},
   "outputs": [
    {
     "data": {
      "text/plain": [
       "IV2\n",
       "3      2172\n",
       "2      1246\n",
       "4      1049\n",
       "1       359\n",
       "5       320\n",
       "6        86\n",
       "7        45\n",
       "9        14\n",
       "8         3\n",
       "dtype: int64"
      ]
     },
     "execution_count": 15,
     "metadata": {},
     "output_type": "execute_result"
    }
   ],
   "source": [
    "base_merge3[['IV2']].value_counts()"
   ]
  },
  {
   "cell_type": "markdown",
   "id": "4995f0b8",
   "metadata": {},
   "source": [
    "### 7. Repitan el inciso 1.2.f del TP2 para construir la columna adulto_equiv y la columna ad_equiv_hogar (pueden utilizar su código del TP2)\n"
   ]
  },
  {
   "cell_type": "code",
   "execution_count": 16,
   "id": "ae525352",
   "metadata": {},
   "outputs": [],
   "source": [
    "# Importamos y limpiamos las filas vacias de la tabla de equivalencias\n",
    "tabla_equivalencias = pd.read_excel(\"tabla_adulto_equiv.xlsx\", skiprows=[0, 1, 2, 4, 28, 29, 30, 31, 32, 33, 34, 35, 36, 37, 38, 39])"
   ]
  },
  {
   "cell_type": "code",
   "execution_count": 17,
   "id": "983371dc",
   "metadata": {},
   "outputs": [],
   "source": [
    "# Cambiamos una fila de la tabla de equivalencias para que sea igual a nuestros datos\n",
    "tabla_equivalencias.at[1, 'Edad'] = '1 años'"
   ]
  },
  {
   "cell_type": "code",
   "execution_count": 18,
   "id": "716d8e77",
   "metadata": {},
   "outputs": [],
   "source": [
    "# Creamos una funcion lambda donde, segun el rango de edad, genera otra columna con el mismo formato que el de tabla de equivalencias \n",
    "base_merge3['Edad'] = base_merge3['CH06'].apply(lambda x: '61 a 75 años' if x >= 61 and x <= 75 else ('46 a 60 años' if x >= 46 and x <= 60 else \n",
    "                                                                                                          ('30 a 45 años' if x >= 30 and x <= 45 else \n",
    "                                                                                                           ('18 a 29 años' if x >= 18 and x <= 29 else\n",
    "                                                                                                           ('más de 75 años' if x > 75 else ('Menor de 1 año' if x < 1 else\n",
    "                                                                                                                                             str(x)+ ' años'))))))\n",
    "\n",
    "# Hacemos el mismo proceso anterior pero ahora para una tabla de genero\n",
    "base_merge3['Genero'] = base_merge3['CH04'].apply(lambda x: 'Varones' if x <= 1 else 'Mujeres') "
   ]
  },
  {
   "cell_type": "code",
   "execution_count": 19,
   "id": "89111685",
   "metadata": {},
   "outputs": [],
   "source": [
    "# Partimos la base en dos (mujeres y hombres) para agilizar el proximo loop\n",
    "base_mujeres = base_merge3[(base_merge3['CH04'] == 2)]\n",
    "base_varones = base_merge3[(base_merge3['CH04'] == 1)]"
   ]
  },
  {
   "cell_type": "code",
   "execution_count": 20,
   "id": "dbaa7da2",
   "metadata": {},
   "outputs": [],
   "source": [
    "# Para la base de mujeres, corremos un loop que busca por cada valor de la columna Edad, en la base del INDEC, y lo matchea con los valores de la columna Mujeres, de la tabla de equivalencias.\n",
    "\n",
    "lista = []\n",
    "for i in range(0, len(base_mujeres)):\n",
    "    for x in range(0, len(tabla_equivalencias)):\n",
    "        if base_mujeres.iloc[i]['Edad'] == tabla_equivalencias.iloc[x]['Edad']:\n",
    "             lista.append(tabla_equivalencias.iloc[x]['Mujeres'])\n",
    "base_mujeres['adulto_equiv'] = lista"
   ]
  },
  {
   "cell_type": "code",
   "execution_count": 21,
   "id": "c7e7154c",
   "metadata": {},
   "outputs": [],
   "source": [
    "# Repetimos el mismo proceso para la base de Hombres\n",
    "lista_2 = []\n",
    "for i in range(0, len(base_varones)):\n",
    "    for x in range(0, len(tabla_equivalencias)):\n",
    "        if base_varones.iloc[i]['Edad'] == tabla_equivalencias.iloc[x]['Edad']:\n",
    "             lista_2.append(tabla_equivalencias.iloc[x]['Varones'])\n",
    "base_varones['adulto_equiv'] = lista_2   "
   ]
  },
  {
   "cell_type": "code",
   "execution_count": 22,
   "id": "86534704",
   "metadata": {},
   "outputs": [],
   "source": [
    "# Unimos ambas bases \n",
    "base_merge3 = base_mujeres.append(base_varones)\n",
    "\n",
    "#Finamente, creamos la columna de equivalencias nutricionales por hogar\n",
    "data = base_merge3.groupby(['CODUSU', 'NRO_HOGAR']).sum()[['adulto_equiv']]\n",
    "data = data.rename(columns={'adulto_equiv':'ad_equiv_hogar'})"
   ]
  },
  {
   "cell_type": "code",
   "execution_count": 23,
   "id": "344a10f8",
   "metadata": {},
   "outputs": [],
   "source": [
    "base_merge4 = base_merge3.merge(data, left_on=['CODUSU', 'NRO_HOGAR'], right_on=['CODUSU', 'NRO_HOGAR'], how='outer')"
   ]
  },
  {
   "cell_type": "code",
   "execution_count": 24,
   "id": "826315b1",
   "metadata": {},
   "outputs": [],
   "source": [
    "# Creamos las bases pedidas en la consigna\n",
    "respondieron =  base_merge4[(base_merge4['ITF'] > 0)]\n",
    "norespondieron = base_merge4[(base_merge4['ITF'] == 0)]"
   ]
  },
  {
   "cell_type": "code",
   "execution_count": 25,
   "id": "694da613",
   "metadata": {},
   "outputs": [],
   "source": [
    "respondieron['ingreso_necesario'] = respondieron['ad_equiv_hogar'].apply(lambda x: x*27197.64)"
   ]
  },
  {
   "cell_type": "code",
   "execution_count": 26,
   "id": "fb553c26",
   "metadata": {},
   "outputs": [],
   "source": [
    "def pobre(respondieron):\n",
    "    '''\n",
    "    esta función busca si los ingresos totales familiares son menores que los ingresos necesarios\n",
    "    para que un hogar no sea pobre, así como lo contrario, y nos devuelve un 1 si se cumple que \n",
    "    los ingresos totales son menores que los necesarios, y un 0 si son mayores o iguales. \n",
    "    '''\n",
    "    if respondieron['ITF'] < respondieron['ingreso_necesario']:\n",
    "        return 1\n",
    "    elif respondieron['ITF'] >= respondieron['ingreso_necesario']:\n",
    "        return 0"
   ]
  },
  {
   "cell_type": "code",
   "execution_count": 27,
   "id": "d35bc927",
   "metadata": {},
   "outputs": [],
   "source": [
    "#ahora creamos una columna nueva que surge de aplicar la función que definimos a nuestra base de datos. \n",
    "respondieron['pobre'] = respondieron.apply(pobre, axis=1)"
   ]
  },
  {
   "cell_type": "code",
   "execution_count": 28,
   "id": "37922783",
   "metadata": {},
   "outputs": [],
   "source": [
    "#Creamos una nueva base donde nos quedamos con una sola observacion por hogar eliminando duplicados\n",
    "base_pond = respondieron.drop_duplicates(subset=['CODUSU',\"NRO_HOGAR\"], keep=False)"
   ]
  },
  {
   "cell_type": "code",
   "execution_count": 29,
   "id": "a04cf3c5",
   "metadata": {},
   "outputs": [
    {
     "name": "stdout",
     "output_type": "stream",
     "text": [
      "El 5.15 % de hogares es pobre.\n"
     ]
    }
   ],
   "source": [
    "# Esta estimación está mal.\n",
    "\n",
    "#Ahora sumamos la cantidad de hogares pobres, ponderados por la columna PONDIH  y los dividimos por la cantidad de hogares \n",
    "#totales ponderados\n",
    "print(\"El\",round(base_pond.loc[base_pond['pobre'] == 1, 'PONDIH'].sum()/base_pond['PONDIH'].sum()*100,2),\"% de hogares es pobre.\")"
   ]
  },
  {
   "cell_type": "code",
   "execution_count": 30,
   "id": "72e1d974",
   "metadata": {},
   "outputs": [
    {
     "name": "stdout",
     "output_type": "stream",
     "text": [
      "El 33.73 % de hogares es pobre.\n"
     ]
    }
   ],
   "source": [
    "# En base a la corrección de Mati, así es como había que trabajar. La idea es que dropeando duplicados, como arriba, se pierde la ponderación de esas personas.\n",
    "\n",
    "pondih = respondieron.groupby(['CODUSU', 'NRO_HOGAR']).agg({'PONDIH' : 'sum', \"pobre\" : \"mean\"})\n",
    "# Para dentro de un mismo hogar todos deberían tener el mismo valor de Pobre, así que calcular el promedio va a dar que es pobre si todos son pobres y viceversa \n",
    "    \n",
    "(pondih.loc[pondih['pobre'] == 1, \"PONDIH\"].sum()) / (pondih[\"PONDIH\"].sum())\n",
    "\n",
    "print(\"El\",round(pondih.loc[pondih['pobre'] == 1, \"PONDIH\"].sum() / (pondih[\"PONDIH\"].sum())*100,2),\"% de hogares es pobre.\")"
   ]
  },
  {
   "cell_type": "markdown",
   "id": "f1bfa0c5",
   "metadata": {},
   "source": [
    "Encontramos que apenas el 5,15% de los hogares en nuestra base es pobre, que dista mucho del informe elaborado por INDEC que identifica un 28,2% de hogares pobres en el Gran Buenos Aires."
   ]
  },
  {
   "cell_type": "markdown",
   "id": "05234be1",
   "metadata": {},
   "source": [
    "# Parte II: Construcción de funciones"
   ]
  },
  {
   "cell_type": "markdown",
   "id": "b3278ece",
   "metadata": {},
   "source": [
    "### 1. Escriban una función, llamada evalua_metodo, que reciba como argumentos un modelo y los datos de entrenamiento y prueba (X_train, y_train, X_test, y_test). La función debe ajustar el modelo con los datos de entrenamiento y calcular las métricas que considere necesarias para esta problemática (de mínima debe reportar la matriz de confusión, las curvas ROC y los valores de AUC y de accuracy score de cada método). El output de la función debe ser una colección con las métricas evaluadas."
   ]
  },
  {
   "cell_type": "code",
   "execution_count": 31,
   "id": "191398c1",
   "metadata": {},
   "outputs": [],
   "source": [
    "def evalua_metodo(model, x_train, y_train, x_test, y_test):\n",
    "    '''\n",
    "    Esta función recibe como inputs un modelo ya definido y un dataset ya dividido entre X e Y para entrenamiento y test, \n",
    "    ajustando los datos al modelo brindado para generar los output consistentes en determinadas medidas de precisión: \n",
    "    accuracy, matriz de confusión y sus componentes (verdadero negativo, falspo positivo, falso negativo, verdadero positivo), área bajo la curva ROC, ECM y el Average Precision Score (AP). \n",
    "    '''\n",
    "    \n",
    "    modelofit = model.fit(x_train, y_train)\n",
    "    y_pred = modelofit.predict(x_test)\n",
    "    y_pred = np.where(y_pred > 0.5, 1, y_pred)\n",
    "    y_pred = np.where(y_pred <= 0.5, 0, y_pred)\n",
    "\n",
    "    accuracy = accuracy_score(y_test, y_pred)\n",
    "    auc = roc_auc_score(y_test, y_pred)\n",
    "    matriz_confusion = confusion_matrix(y_test, y_pred)\n",
    "    tn, fp , fn, tp = confusion_matrix(y_test, y_pred).ravel() \n",
    "    ecm = mean_squared_error(y_test, y_pred)\n",
    "    ap = average_precision_score(y_test, y_pred)\n",
    "\n",
    "    return (accuracy, matriz_confusion, tn, fp, fn, tp, auc, ecm, ap,modelofit)"
   ]
  },
  {
   "cell_type": "markdown",
   "id": "a05af8c6",
   "metadata": {},
   "source": [
    "### 2. Escriban una función, llamada cross_validation, que realice validación cruzada con k iteraciones (k-fold CV), llamando a la función del inciso anterior en cada una, pero para las k distintas particiones. La función debe recibir como argumentos el modelo, el valor de k y un dataset (es decir, sólo X e y). Pueden ayudarse con la función KFold para generar las particiones necesarias.\n"
   ]
  },
  {
   "cell_type": "code",
   "execution_count": 32,
   "id": "eab23825",
   "metadata": {},
   "outputs": [],
   "source": [
    "def cross_validation(model, k, x, y):\n",
    "    '''\n",
    "    Esta función toma como inputs un modelo ya configurado, el K para saber la cantidad de iteraciones a realizarse en \n",
    "    k-fold CV y los dataset con las variables (x,y). \n",
    "    Lo que hace entonces es parte al dataset en K particiones de entrenamiento y test, aplicándole a cada una la función\n",
    "    evalua_metodo. \n",
    "    El output está formado por diferentes métricas de precisión para cada una de las particiones analizadas:\n",
    "    es una colección del K, accuracy, ECM, AP y el modelo analizado.\n",
    "    '''\n",
    "    kf = KFold(n_splits=k, shuffle=True, random_state=10)\n",
    "    resultados = pd.DataFrame(columns=[\"K\", \"accuracy\", \"ecm\", \"ap\", \"auc\", \"modelo\"]) \n",
    "    for i, (train_index, test_index) in enumerate(kf.split(x)):   \n",
    "        x_train, x_test = x.iloc[train_index], x.iloc[test_index]\n",
    "        y_train, y_test = y.iloc[train_index], y.iloc[test_index]\n",
    "        \n",
    "        sc = StandardScaler()\n",
    "        X_train_transformed = pd.DataFrame(sc.fit_transform(x_train),index=x_train.index, columns=x_train.columns)\n",
    "        X_test_transformed = pd.DataFrame(sc.transform(x_test),index=x_test.index, columns=x_test.columns)\n",
    "        \n",
    "        accuracy, matriz_confusion, tn, fp, fn, tp, auc, ecm, ap, modelofit = evalua_metodo(model, X_train_transformed, y_train, X_test_transformed, y_test)\n",
    "        K = i+1\n",
    "        resultados = resultados.append({\"K\":i+1, \"accuracy\":accuracy, \"ecm\":ecm, \"ap\":ap, \"auc\": auc, \"modelo\":modelofit}, ignore_index=True)\n",
    "    #return resultados\n",
    "    return (K, accuracy, auc, ecm, ap, model)"
   ]
  },
  {
   "cell_type": "markdown",
   "id": "74f58ad3",
   "metadata": {},
   "source": [
    "### 3. Escriban una función, llamada evalua_config que reciba una lista de configuraciones de hiperparámetros (los distintos valores a probar como hiperparámetros podrian codificarse en diccionarios de Python) y utilizando la función cross_validation obtenga el error promedio para cada configuración. Finalmente, la función debe devolver la configuración que genere menor error."
   ]
  },
  {
   "cell_type": "code",
   "execution_count": 33,
   "id": "adf15f14",
   "metadata": {},
   "outputs": [],
   "source": [
    "def evalua_config(modelo, lambdas, x, y,penalty1,k_range):\n",
    "    '''\n",
    "    Esta función tiene como objetivo iterar entre los distintos valores de lambda del modelo Logit para los valores de K\n",
    "    indicados, buscando obtener el valor de lambda que minimiza el ECM de la regresión. \n",
    "    El primer input es el modelo, el siguiente es la grilla con los valores de los lambda a iterar, \n",
    "    los dos siguientes son los dataset con las variables (x,y), finalizando con el penalty elegido para Logit \n",
    "    (l1 para LASSO, l2 para Ridge) y el valor de K. \n",
    "    \n",
    "    El output de la función es el valor que toma el ECM para el lambda que minimiza esta medida y dicho valor para este \n",
    "    hiperparámetro.\n",
    "    '''\n",
    "     # La idea acá es que tome los valores del modelo logit del punto 4 (parámetro \"modelo\"), donde definimos los parámetros que le metemos a cross_validation.     \n",
    "    ecms =  pd.DataFrame(columns=[\"alp\", \"ecm\", \"K\",\"penalty\"])\n",
    "    \n",
    "    if modelo == \"logit\":\n",
    "    \n",
    "        for i in lambdas:\n",
    "            for k11 in k_range:\n",
    "                C_alpha = 1/i\n",
    "                model = LogisticRegression(penalty = penalty1, C = C_alpha, max_iter=1000, solver=\"saga\")\n",
    "                k, accuracy, auc, ecm, ap, modelo = cross_validation(model,k11,x,y)\n",
    "                ecms = ecms.append({\"alp\":i, \"ecm\":ecm, \"K\": k,\"penalty\":penalty1}, ignore_index=True)\n",
    "                #ecms = ecms.astype({\"K\":int})\n",
    "    #return ecms\n",
    "    ecms_avg = ecms.groupby('alp').agg({'ecm':'mean'}).reset_index()\n",
    "    #return ecms_avg\n",
    "    min_ecm = np.Inf\n",
    "    alp_ecm = None\n",
    "    for index, row in ecms_avg.iterrows():\n",
    "            if row['ecm'] < min_ecm:\n",
    "                min_ecm = row['ecm']\n",
    "                alp_ecm = row['alp']\n",
    "    return (ecms,min_ecm,alp_ecm)"
   ]
  },
  {
   "cell_type": "markdown",
   "id": "5c674cff",
   "metadata": {},
   "source": [
    "### 4. Escriban una función, llamada evalua_multiples_metodos que les permita implementar los siguientes métodos con los hiperparámetros que ustedes elijan. Para la regresión logística, asegúrense de que esta función utilice su función evalua_config para optimizar el lambda de la regularización. Finalmente, el output de la función debe ser una tabla donde las columnas sean las métricas que hayan evaluado (las que hayan incluido en la función evalua_metodo) y las filas sean los modelos (con su configuración de hiperparámetros asociada) que hayan corrido. Asegúrense de que la tabla incluya una columna con nombre del modelo y el valor de los hiperparámetros/configuración: Regresión logística, Análisis de discriminante lineal, KNN"
   ]
  },
  {
   "cell_type": "code",
   "execution_count": 34,
   "id": "6d0cacb6",
   "metadata": {},
   "outputs": [],
   "source": [
    "# La idea acá adentro es definir los modelos que vamos a correr. Lo importante es esto de usar evalua_metodo para sacar el hiperparámetro de la logit. Los otros 2 supongo que podemos usar el que evaluemos por nuestra cuenta porque la consigna no pide específicamente sacarlo con la otra función.\n",
    "\n",
    "def evalua_multiples_metodos(modelos, x, y, parametros):\n",
    "    '''\n",
    "    El objetivo de esta función es poder generar una tabla con métricas descriptivas de la performance de diferentes modelos, \n",
    "    en base a los hiperparámetros determinados y/o la configuración brindada por el usuario al llamar la función. \n",
    "    De esta manera, el primer input es un diccionario con los modelos a correr: KNN para el modelo KNN, \n",
    "    LDA para el modelo de análisis de discriminante lineal y Logit para el modelo de regresión logística. \n",
    "    En segundo lugar, deben indicarse los dataset con las variables x e y para considerar en los modelos.\n",
    "    Finalmente, también debe indicarse un diccionario con el hiperparámetro alfa (lambda) de Logit a ser determinado \n",
    "    y la configuración de parámetros correspndiente, en el caso de KNN y LDA. \n",
    "    \n",
    "    Parámetros: \n",
    "    Para optimizar el lambda de la regularización, debe indicarse en el diccionario \"parametros\" los diferentes \n",
    "    valores de lambda a ser iterados, buscando obtenerse el que minimice el ECM. \n",
    "    También es necesario indicar la cantidad de particiones que desean probarse en CV a través del campo \n",
    "    \"k_range\" en el input \"parametros\", pudiendo ser un entero o un rango de valores. Lo mismo sucede con el campo \"neighbors\" para la cantidad de vecinos en KNN y \"components\" para los componentes de LDA.\n",
    "    Por otro lado, si se va a correr un modelo Logit, es necesario indicar el campo \"penalty\" de \"parameters\", \n",
    "    con una lista para las distintas penalidades a analizarse, siendo los valores l1 y l2 los correspondientes a LASSO y Ridge,\n",
    "    respectivamente.\n",
    "    \n",
    "    El output de la función, por su parte, es una tabla que indica el modelo analizado, \n",
    "    los valores de sus parámetros y las medidas de Accuracy, ECM, AP, AUC y la Matriz de Confusión.\n",
    "        \n",
    "    '''\n",
    "    tabla =  pd.DataFrame(columns=[\"Modelo\", \"Neighbors\", \"Components\", \"Penalty\", \"Alp_best\", \"Accuracy\", \"ECM\", \"AP\", \"AUC\", \"Verdadero 0\", \"Falso 1\", \"Falso 0\", \"Verdadero 1\"])\n",
    "    ecms_p = pd.DataFrame(columns=[\"alp\", \"ecm\", \"K\",\"penalty\"])\n",
    "    x_train, x_test, y_train, y_test = train_test_split(x, y, test_size=0.2, random_state=10)\n",
    "    for modelo in modelos:\n",
    "        if modelo == \"KNN\":\n",
    "            neighbors= parametros[\"neighbors\"]\n",
    "            accuracy, matriz_confusion, tn, fp, fn, tp, auc, ecm, ap, modelofit=evalua_metodo(KNeighborsClassifier(n_neighbors=neighbors),x_train,y_train,x_test,y_test)\n",
    "            tabla = tabla.append({\"Modelo\":modelo, \"Neighbors\": neighbors,\"Accuracy\":accuracy, \"AUC\":auc, \"ECM\":ecm, \"AP\":ap, \"Verdadero 0\": tn, \"Falso 1\": fp, \"Falso 0\": fn, \"Verdadero 1\": tp}, ignore_index=True)\n",
    "        elif modelo == \"LDA\":\n",
    "            components= parametros[\"components\"]\n",
    "            accuracy, matriz_confusion, tn, fp, fn, tp, auc, ecm, ap, modelofit = evalua_metodo(LinearDiscriminantAnalysis(n_components=components),x_train,y_train,x_test,y_test)\n",
    "            tabla = tabla.append({\"Modelo\":modelo, \"Components\": components,\"Accuracy\":accuracy, \"AUC\":auc,\"ECM\":ecm, \"AP\":ap, \"Verdadero 0\": tn, \"Falso 1\": fp, \"Falso 0\": fn, \"Verdadero 1\": tp}, ignore_index=True)\n",
    "        elif modelo == \"Logit\":\n",
    "            for p in parametros[\"penalty\"]:\n",
    "                ecms, min_ecm, alp_ecm = evalua_config(\"logit\",parametros[\"lambda\"],x,y,p, parametros[\"k_range\"])\n",
    "                sc = StandardScaler()\n",
    "                X_train_transformed = pd.DataFrame(sc.fit_transform(x_train),index=x_train.index, columns=x_train.columns)\n",
    "                X_test_transformed = pd.DataFrame(sc.transform(x_test),index=x_test.index, columns=x_test.columns)\n",
    "                accuracy, matriz_confusion, tn, fp, fn, tp, auc, ecm, ap, modelofit = evalua_metodo(LogisticRegression(penalty = p, C = 1/alp_ecm, max_iter=1000, solver=\"saga\"),x_train,y_train,x_test,y_test)\n",
    "                tabla = tabla.append({\"Modelo\":modelo, \"Penalty\": p,\"Alp_best\": alp_ecm,\"Accuracy\":accuracy, \"AUC\":auc, \"ECM\":ecm, \"AP\":ap, \"Verdadero 0\": tn, \"Falso 1\": fp, \"Falso 0\": fn, \"Verdadero 1\": tp}, ignore_index=True)\n",
    "                ecms_p = ecms_p.append(ecms)\n",
    "    tabla = tabla.fillna('')\n",
    "    return [tabla,ecms_p]"
   ]
  },
  {
   "cell_type": "markdown",
   "id": "f0e4d3d4",
   "metadata": {},
   "source": [
    "# Parte III: Clasificación y Regularización"
   ]
  },
  {
   "cell_type": "markdown",
   "id": "3f5fcb0c",
   "metadata": {},
   "source": [
    "### 1. Eliminen de ambas bases (respondieron, norespondieron) todas las variables relacionadas a ingresos (en el archivo codigos_eph.pdf ver las categorías: ingresos de la ocupación principal de los asalariados, ingresos de la ocupación principal, ingresos de otras ocupaciones, ingreso total individual, ingresos no laborales, ingreso total familiar, ingreso per cápita familiar). Elimine también las columnas adulto_equiv, ad_equiv_hogar e ingreso_necesario. Establezca a pobre como su variable dependiente (vector y). El resto de las variables serán las variables independientes (matriz X). Dependiendo de la función que usen, no se olviden de agregar la columna de 1 cuando sea necesario."
   ]
  },
  {
   "cell_type": "code",
   "execution_count": 35,
   "id": "ccc5fcd6",
   "metadata": {},
   "outputs": [],
   "source": [
    "# Eliminamos las variables relacionadas a ingresos y las columnas de las bases respondieron/no respondieron\n",
    "respondieron = respondieron.drop(['P21', 'DECOCUR',  'RDECOCUR', 'GDECOCUR', 'ADECOCUR', 'TOT_P12'], axis=1) # ingresos de la ocupación principal y de otras ocupaciones\n",
    "respondieron = respondieron.drop(['P47T', 'DECINDR',  'RDECINDR', 'GDECINDR', 'ADECINDR'], axis=1) # ingresos total individual\n",
    "respondieron = respondieron.drop(['V2_M', 'V3_M', 'V4_M', 'V5_M', 'V8_M', 'V9_M', 'V10_M', 'V11_M', 'V12_M', 'V18_M', 'V19_AM', 'V21_M', 'T_VI'], axis=1) # ingresos no laborales\n",
    "respondieron = respondieron.drop(['ITF', 'DECIFR', 'RDECIFR', 'GDECIFR',  'ADECIFR'], axis=1) # ingreso total familiar\n",
    "respondieron = respondieron.drop(['IPCF', 'DECCFR', 'RDECCFR', 'GDECCFR',  'ADECCFR'], axis=1) # ingreso per capita familiar\n",
    "respondieron = respondieron.drop(['adulto_equiv', 'ad_equiv_hogar', 'ingreso_necesario'], axis=1) # columnas adulto_equiv, ad_equiv_hogar e ingreso_necesario\n",
    "\n",
    "norespondieron = norespondieron.drop(['P21', 'DECOCUR',  'RDECOCUR', 'GDECOCUR', 'ADECOCUR', 'TOT_P12'], axis=1) # ingresos de la ocupación principal y de otras ocupaciones\n",
    "norespondieron = norespondieron.drop(['P47T', 'DECINDR',  'RDECINDR', 'GDECINDR',  'ADECINDR'], axis=1) # ingresos total individual\n",
    "norespondieron = norespondieron.drop(['V2_M', 'V3_M', 'V4_M', 'V5_M', 'V8_M', 'V9_M', 'V10_M', 'V11_M', 'V12_M', 'V18_M', 'V19_AM', 'V21_M', 'T_VI'], axis=1) # ingresos no laborales\n",
    "norespondieron = norespondieron.drop(['ITF', 'DECIFR', 'RDECIFR', 'GDECIFR',  'ADECIFR'], axis=1) # ingreso total familiar\n",
    "norespondieron = norespondieron.drop(['IPCF', 'DECCFR',  'RDECCFR', 'GDECCFR',  'ADECCFR'], axis=1) # ingreso per capita familiar\n",
    "norespondieron = norespondieron.drop(['adulto_equiv', 'ad_equiv_hogar'], axis=1) # columnas adulto_equiv, ad_equiv_hogar e ingreso_necesario\n"
   ]
  },
  {
   "cell_type": "markdown",
   "id": "0135ab19",
   "metadata": {},
   "source": [
    "### 2. Corran la función evalua_multiples_metodos con la base respondieron. En los próximos incisos profundizaremos en la tarea de regularización, pero en este ejercicio prueben al menos un hiperparámetro para regularizar y al menos un valor de λ."
   ]
  },
  {
   "cell_type": "code",
   "execution_count": 36,
   "id": "06c930ea",
   "metadata": {},
   "outputs": [],
   "source": [
    "y = respondieron['pobre']\n",
    "# Nos quedamos con las variables de la base que nos sirven para hacer la regresion\n",
    "x = respondieron[['IV1', 'IV3', 'IV6', 'IV7', 'IV8', 'IV9', 'IV12_1', 'IV12_3', 'II7', 'II8', 'V1', 'V2', 'V5', 'CH09', 'CH10', 'CH11', 'CH12', 'CH06']]\n",
    "x = sm.add_constant(x) # Agregamos la columna de unos.\n",
    "x=x.astype('int')\n",
    "y=y.astype('int')\n",
    "\n",
    "#X_train, X_test, y_train, y_test = train_test_split(X, y, test_size = 0.30, random_state=101)                                   "
   ]
  },
  {
   "cell_type": "code",
   "execution_count": 37,
   "id": "eee580c4",
   "metadata": {
    "scrolled": true
   },
   "outputs": [
    {
     "data": {
      "text/html": [
       "<div>\n",
       "<style scoped>\n",
       "    .dataframe tbody tr th:only-of-type {\n",
       "        vertical-align: middle;\n",
       "    }\n",
       "\n",
       "    .dataframe tbody tr th {\n",
       "        vertical-align: top;\n",
       "    }\n",
       "\n",
       "    .dataframe thead th {\n",
       "        text-align: right;\n",
       "    }\n",
       "</style>\n",
       "<table border=\"1\" class=\"dataframe\">\n",
       "  <thead>\n",
       "    <tr style=\"text-align: right;\">\n",
       "      <th></th>\n",
       "      <th>Modelo</th>\n",
       "      <th>Neighbors</th>\n",
       "      <th>Components</th>\n",
       "      <th>Penalty</th>\n",
       "      <th>Alp_best</th>\n",
       "      <th>Accuracy</th>\n",
       "      <th>ECM</th>\n",
       "      <th>AP</th>\n",
       "      <th>AUC</th>\n",
       "      <th>Verdadero 0</th>\n",
       "      <th>Falso 1</th>\n",
       "      <th>Falso 0</th>\n",
       "      <th>Verdadero 1</th>\n",
       "    </tr>\n",
       "  </thead>\n",
       "  <tbody>\n",
       "    <tr>\n",
       "      <th>0</th>\n",
       "      <td>KNN</td>\n",
       "      <td>5</td>\n",
       "      <td></td>\n",
       "      <td></td>\n",
       "      <td></td>\n",
       "      <td>0.727637</td>\n",
       "      <td>0.272363</td>\n",
       "      <td>0.433502</td>\n",
       "      <td>0.642141</td>\n",
       "      <td>448</td>\n",
       "      <td>64</td>\n",
       "      <td>140</td>\n",
       "      <td>97</td>\n",
       "    </tr>\n",
       "    <tr>\n",
       "      <th>1</th>\n",
       "      <td>LDA</td>\n",
       "      <td></td>\n",
       "      <td>1</td>\n",
       "      <td></td>\n",
       "      <td></td>\n",
       "      <td>0.779706</td>\n",
       "      <td>0.220294</td>\n",
       "      <td>0.515101</td>\n",
       "      <td>0.697224</td>\n",
       "      <td>472</td>\n",
       "      <td>40</td>\n",
       "      <td>125</td>\n",
       "      <td>112</td>\n",
       "    </tr>\n",
       "    <tr>\n",
       "      <th>2</th>\n",
       "      <td>Logit</td>\n",
       "      <td></td>\n",
       "      <td></td>\n",
       "      <td>l1</td>\n",
       "      <td>3.0</td>\n",
       "      <td>0.782377</td>\n",
       "      <td>0.217623</td>\n",
       "      <td>0.519250</td>\n",
       "      <td>0.696911</td>\n",
       "      <td>476</td>\n",
       "      <td>36</td>\n",
       "      <td>127</td>\n",
       "      <td>110</td>\n",
       "    </tr>\n",
       "    <tr>\n",
       "      <th>3</th>\n",
       "      <td>Logit</td>\n",
       "      <td></td>\n",
       "      <td></td>\n",
       "      <td>l2</td>\n",
       "      <td>2.0</td>\n",
       "      <td>0.781041</td>\n",
       "      <td>0.218959</td>\n",
       "      <td>0.516392</td>\n",
       "      <td>0.693668</td>\n",
       "      <td>477</td>\n",
       "      <td>35</td>\n",
       "      <td>129</td>\n",
       "      <td>108</td>\n",
       "    </tr>\n",
       "  </tbody>\n",
       "</table>\n",
       "</div>"
      ],
      "text/plain": [
       "  Modelo Neighbors Components Penalty Alp_best  Accuracy       ECM        AP  \\\n",
       "0    KNN         5                              0.727637  0.272363  0.433502   \n",
       "1    LDA                    1                   0.779706  0.220294  0.515101   \n",
       "2  Logit                           l1      3.0  0.782377  0.217623  0.519250   \n",
       "3  Logit                           l2      2.0  0.781041  0.218959  0.516392   \n",
       "\n",
       "        AUC  Verdadero 0  Falso 1  Falso 0  Verdadero 1  \n",
       "0  0.642141          448       64      140           97  \n",
       "1  0.697224          472       40      125          112  \n",
       "2  0.696911          476       36      127          110  \n",
       "3  0.693668          477       35      129          108  "
      ]
     },
     "execution_count": 37,
     "metadata": {},
     "output_type": "execute_result"
    }
   ],
   "source": [
    "modelos = [\"KNN\",\"LDA\",\"Logit\"]\n",
    "parametros = {\"k_range\": range(2,3), \"neighbors\":5, \"components\":1, \"penalty\": [\"l1\",\"l2\"], \"lambda\": [2,3]} #Penalty de Lasso, la l2 es Ridge. \n",
    "\n",
    "#alphas = list(10**np.linspace(6,-2,50)*0.5)\n",
    "\n",
    "lasso_2 = evalua_multiples_metodos(modelos,x,y,parametros)\n",
    "                                                 \n",
    "lasso_2[0]\n"
   ]
  },
  {
   "cell_type": "code",
   "execution_count": 38,
   "id": "1326d6c9",
   "metadata": {},
   "outputs": [
    {
     "data": {
      "text/html": [
       "<div>\n",
       "<style scoped>\n",
       "    .dataframe tbody tr th:only-of-type {\n",
       "        vertical-align: middle;\n",
       "    }\n",
       "\n",
       "    .dataframe tbody tr th {\n",
       "        vertical-align: top;\n",
       "    }\n",
       "\n",
       "    .dataframe thead th {\n",
       "        text-align: right;\n",
       "    }\n",
       "</style>\n",
       "<table border=\"1\" class=\"dataframe\">\n",
       "  <thead>\n",
       "    <tr style=\"text-align: right;\">\n",
       "      <th></th>\n",
       "      <th>alp</th>\n",
       "      <th>ecm</th>\n",
       "      <th>K</th>\n",
       "      <th>penalty</th>\n",
       "    </tr>\n",
       "  </thead>\n",
       "  <tbody>\n",
       "    <tr>\n",
       "      <th>0</th>\n",
       "      <td>2</td>\n",
       "      <td>0.242651</td>\n",
       "      <td>2</td>\n",
       "      <td>l1</td>\n",
       "    </tr>\n",
       "    <tr>\n",
       "      <th>1</th>\n",
       "      <td>3</td>\n",
       "      <td>0.241582</td>\n",
       "      <td>2</td>\n",
       "      <td>l1</td>\n",
       "    </tr>\n",
       "    <tr>\n",
       "      <th>0</th>\n",
       "      <td>2</td>\n",
       "      <td>0.24372</td>\n",
       "      <td>2</td>\n",
       "      <td>l2</td>\n",
       "    </tr>\n",
       "    <tr>\n",
       "      <th>1</th>\n",
       "      <td>3</td>\n",
       "      <td>0.24372</td>\n",
       "      <td>2</td>\n",
       "      <td>l2</td>\n",
       "    </tr>\n",
       "  </tbody>\n",
       "</table>\n",
       "</div>"
      ],
      "text/plain": [
       "  alp       ecm  K penalty\n",
       "0   2  0.242651  2      l1\n",
       "1   3  0.241582  2      l1\n",
       "0   2   0.24372  2      l2\n",
       "1   3   0.24372  2      l2"
      ]
     },
     "execution_count": 38,
     "metadata": {},
     "output_type": "execute_result"
    }
   ],
   "source": [
    "lasso_2[1]"
   ]
  },
  {
   "cell_type": "markdown",
   "id": "f1b908a1",
   "metadata": {},
   "source": [
    "### 3. Expliquen cómo elegiría λ por validación cruzada. Detallen por qué no usarían el conjunto de prueba (test) para su elección."
   ]
  },
  {
   "cell_type": "markdown",
   "id": "2ecd4aab",
   "metadata": {},
   "source": [
    "Para elegir lambda por validación cruzada lo que deberíamos hacer es partir la base de datos en K particiones, cuanto más grande sea K, mayor será la cantidad de datos que se usarán para entrenar al modelo y menor será la cantidad utilizada para testearlo. El objetivo de este proceso de K-Fold-Cross-Validation es obtener la configuración del parámetro que minimice el error de pronóstico del modelo, y nos quedaríamos con el que tenga el mínimo error de pronóstico por validación cruzada. No usaríamos la base de evaluación para obtener lambda porque esto sería antitético al espíritu del método, si lo obtuviéramos de la base de evaluación estaríamos prediciendo “dentro” de la muestra, como en un problema clásico de econometría."
   ]
  },
  {
   "cell_type": "markdown",
   "id": "4e42e2cc",
   "metadata": {},
   "source": [
    "### 4. En validación cruzada, ¿cuál es el problema de usar un K muy pequeño y uno muy grande? y cuando K = n (con n el número de muestras), ¿cuántas veces se estima el modelo?"
   ]
  },
  {
   "cell_type": "markdown",
   "id": "d7d3fc25",
   "metadata": {},
   "source": [
    "El problema de usar un K muy pequeño es que nos quedaríamos con poca información para entrenar el modelo y la estimación sería muy poco precisa, mientras que usar un K muy grande significaría estimar muchas veces el modelo, con un costo computacional enorme, además de ser poco fiable la evaluación que haga por fuera de la muestra de ajuste. Si K es igual al tamaño de la muestra n, entonces el modelo se estima n veces."
   ]
  },
  {
   "cell_type": "markdown",
   "id": "1d2e0a57",
   "metadata": {},
   "source": [
    "### 5. Realicen un barrido en λ = 10^n con n ∈ {−5, −4, −3..., +4, +5} y utilicen 10-fold CV para elegir el λ óptimo en regresión logística con Ridge y con LASSO. ¿Qué λ seleccionó en cada caso? Generen box-plots mostrando la distribución del error de predicción para cada λ. Cada box debe corresponder a un valor de λ y contener como observaciones el error medio de validación para cada partición. Además, para la regularización LASSO, genere un box-plot similar, pero ahora graficando la proporción de variables ignoradas por el modelo en función de λ, es decir la proporción de variables para las cuales el coeficiente asociado es cero."
   ]
  },
  {
   "cell_type": "code",
   "execution_count": 39,
   "id": "6b15f182",
   "metadata": {
    "scrolled": true
   },
   "outputs": [],
   "source": [
    "modelos = [\"KNN\",\"LDA\",\"Logit\"]\n",
    "parametros = {\"k_range\": range(2,11), \"neighbors\":5, \"components\":1, \"penalty\": [\"l1\"], \"lambda\": np.logspace(-5,5,num=5-(-5)+1,base=10)} #Penalty de Lasso, la l2 es Ridge. \n",
    "\n",
    "\n",
    "reg_lasso = evalua_multiples_metodos(modelos,x,y,parametros)"
   ]
  },
  {
   "cell_type": "code",
   "execution_count": 40,
   "id": "c5a22cfd",
   "metadata": {
    "scrolled": true
   },
   "outputs": [
    {
     "data": {
      "text/html": [
       "<div>\n",
       "<style scoped>\n",
       "    .dataframe tbody tr th:only-of-type {\n",
       "        vertical-align: middle;\n",
       "    }\n",
       "\n",
       "    .dataframe tbody tr th {\n",
       "        vertical-align: top;\n",
       "    }\n",
       "\n",
       "    .dataframe thead th {\n",
       "        text-align: right;\n",
       "    }\n",
       "</style>\n",
       "<table border=\"1\" class=\"dataframe\">\n",
       "  <thead>\n",
       "    <tr style=\"text-align: right;\">\n",
       "      <th></th>\n",
       "      <th>Modelo</th>\n",
       "      <th>Neighbors</th>\n",
       "      <th>Components</th>\n",
       "      <th>Penalty</th>\n",
       "      <th>Alp_best</th>\n",
       "      <th>Accuracy</th>\n",
       "      <th>ECM</th>\n",
       "      <th>AP</th>\n",
       "      <th>AUC</th>\n",
       "      <th>Verdadero 0</th>\n",
       "      <th>Falso 1</th>\n",
       "      <th>Falso 0</th>\n",
       "      <th>Verdadero 1</th>\n",
       "    </tr>\n",
       "  </thead>\n",
       "  <tbody>\n",
       "    <tr>\n",
       "      <th>0</th>\n",
       "      <td>KNN</td>\n",
       "      <td>5</td>\n",
       "      <td></td>\n",
       "      <td></td>\n",
       "      <td></td>\n",
       "      <td>0.727637</td>\n",
       "      <td>0.272363</td>\n",
       "      <td>0.433502</td>\n",
       "      <td>0.642141</td>\n",
       "      <td>448</td>\n",
       "      <td>64</td>\n",
       "      <td>140</td>\n",
       "      <td>97</td>\n",
       "    </tr>\n",
       "    <tr>\n",
       "      <th>1</th>\n",
       "      <td>LDA</td>\n",
       "      <td></td>\n",
       "      <td>1</td>\n",
       "      <td></td>\n",
       "      <td></td>\n",
       "      <td>0.779706</td>\n",
       "      <td>0.220294</td>\n",
       "      <td>0.515101</td>\n",
       "      <td>0.697224</td>\n",
       "      <td>472</td>\n",
       "      <td>40</td>\n",
       "      <td>125</td>\n",
       "      <td>112</td>\n",
       "    </tr>\n",
       "    <tr>\n",
       "      <th>2</th>\n",
       "      <td>Logit</td>\n",
       "      <td></td>\n",
       "      <td></td>\n",
       "      <td>l1</td>\n",
       "      <td>0.00001</td>\n",
       "      <td>0.782377</td>\n",
       "      <td>0.217623</td>\n",
       "      <td>0.519250</td>\n",
       "      <td>0.696911</td>\n",
       "      <td>476</td>\n",
       "      <td>36</td>\n",
       "      <td>127</td>\n",
       "      <td>110</td>\n",
       "    </tr>\n",
       "  </tbody>\n",
       "</table>\n",
       "</div>"
      ],
      "text/plain": [
       "  Modelo Neighbors Components Penalty Alp_best  Accuracy       ECM        AP  \\\n",
       "0    KNN         5                              0.727637  0.272363  0.433502   \n",
       "1    LDA                    1                   0.779706  0.220294  0.515101   \n",
       "2  Logit                           l1  0.00001  0.782377  0.217623  0.519250   \n",
       "\n",
       "        AUC  Verdadero 0  Falso 1  Falso 0  Verdadero 1  \n",
       "0  0.642141          448       64      140           97  \n",
       "1  0.697224          472       40      125          112  \n",
       "2  0.696911          476       36      127          110  "
      ]
     },
     "execution_count": 40,
     "metadata": {},
     "output_type": "execute_result"
    }
   ],
   "source": [
    "# Tabla en la posición 1 del objeto reg_lasso, correspondiéndose con la tabla de métricas obtenida con la función evalua_multiples_metodos.\n",
    "reg_lasso[0]"
   ]
  },
  {
   "cell_type": "code",
   "execution_count": 41,
   "id": "a219da8a",
   "metadata": {
    "scrolled": true
   },
   "outputs": [
    {
     "data": {
      "text/html": [
       "<div>\n",
       "<style scoped>\n",
       "    .dataframe tbody tr th:only-of-type {\n",
       "        vertical-align: middle;\n",
       "    }\n",
       "\n",
       "    .dataframe tbody tr th {\n",
       "        vertical-align: top;\n",
       "    }\n",
       "\n",
       "    .dataframe thead th {\n",
       "        text-align: right;\n",
       "    }\n",
       "</style>\n",
       "<table border=\"1\" class=\"dataframe\">\n",
       "  <thead>\n",
       "    <tr style=\"text-align: right;\">\n",
       "      <th></th>\n",
       "      <th>alp</th>\n",
       "      <th>ecm</th>\n",
       "      <th>K</th>\n",
       "      <th>penalty</th>\n",
       "    </tr>\n",
       "  </thead>\n",
       "  <tbody>\n",
       "    <tr>\n",
       "      <th>0</th>\n",
       "      <td>0.00001</td>\n",
       "      <td>0.243185</td>\n",
       "      <td>2</td>\n",
       "      <td>l1</td>\n",
       "    </tr>\n",
       "    <tr>\n",
       "      <th>1</th>\n",
       "      <td>0.00001</td>\n",
       "      <td>0.232558</td>\n",
       "      <td>3</td>\n",
       "      <td>l1</td>\n",
       "    </tr>\n",
       "    <tr>\n",
       "      <th>2</th>\n",
       "      <td>0.00001</td>\n",
       "      <td>0.225668</td>\n",
       "      <td>4</td>\n",
       "      <td>l1</td>\n",
       "    </tr>\n",
       "    <tr>\n",
       "      <th>3</th>\n",
       "      <td>0.00001</td>\n",
       "      <td>0.243316</td>\n",
       "      <td>5</td>\n",
       "      <td>l1</td>\n",
       "    </tr>\n",
       "    <tr>\n",
       "      <th>4</th>\n",
       "      <td>0.00001</td>\n",
       "      <td>0.245586</td>\n",
       "      <td>6</td>\n",
       "      <td>l1</td>\n",
       "    </tr>\n",
       "    <tr>\n",
       "      <th>...</th>\n",
       "      <td>...</td>\n",
       "      <td>...</td>\n",
       "      <td>...</td>\n",
       "      <td>...</td>\n",
       "    </tr>\n",
       "    <tr>\n",
       "      <th>94</th>\n",
       "      <td>100000.0</td>\n",
       "      <td>0.346709</td>\n",
       "      <td>6</td>\n",
       "      <td>l1</td>\n",
       "    </tr>\n",
       "    <tr>\n",
       "      <th>95</th>\n",
       "      <td>100000.0</td>\n",
       "      <td>0.346442</td>\n",
       "      <td>7</td>\n",
       "      <td>l1</td>\n",
       "    </tr>\n",
       "    <tr>\n",
       "      <th>96</th>\n",
       "      <td>100000.0</td>\n",
       "      <td>0.349036</td>\n",
       "      <td>8</td>\n",
       "      <td>l1</td>\n",
       "    </tr>\n",
       "    <tr>\n",
       "      <th>97</th>\n",
       "      <td>100000.0</td>\n",
       "      <td>0.351807</td>\n",
       "      <td>9</td>\n",
       "      <td>l1</td>\n",
       "    </tr>\n",
       "    <tr>\n",
       "      <th>98</th>\n",
       "      <td>100000.0</td>\n",
       "      <td>0.347594</td>\n",
       "      <td>10</td>\n",
       "      <td>l1</td>\n",
       "    </tr>\n",
       "  </tbody>\n",
       "</table>\n",
       "<p>99 rows × 4 columns</p>\n",
       "</div>"
      ],
      "text/plain": [
       "         alp       ecm   K penalty\n",
       "0    0.00001  0.243185   2      l1\n",
       "1    0.00001  0.232558   3      l1\n",
       "2    0.00001  0.225668   4      l1\n",
       "3    0.00001  0.243316   5      l1\n",
       "4    0.00001  0.245586   6      l1\n",
       "..       ...       ...  ..     ...\n",
       "94  100000.0  0.346709   6      l1\n",
       "95  100000.0  0.346442   7      l1\n",
       "96  100000.0  0.349036   8      l1\n",
       "97  100000.0  0.351807   9      l1\n",
       "98  100000.0  0.347594  10      l1\n",
       "\n",
       "[99 rows x 4 columns]"
      ]
     },
     "execution_count": 41,
     "metadata": {},
     "output_type": "execute_result"
    }
   ],
   "source": [
    "# Tabla con los distintos valores de lambda y sus respectivos ECM promedio, mostrando que los valores más pequeños parecen ser los mejores si buscamos minimizar el ECM. \n",
    "\n",
    "reg_lasso[1]"
   ]
  },
  {
   "cell_type": "code",
   "execution_count": 42,
   "id": "c9b09378",
   "metadata": {
    "scrolled": false
   },
   "outputs": [],
   "source": [
    "parametros = {\"k_range\": range(2,11), \"neighbors\":5, \"components\":1, \"penalty\": [\"l2\"], \"lambda\": np.logspace(-5,5,num=5-(-5)+1,base=10)} #Penalty de Ridge. \n",
    "\n",
    "reg_ridge = evalua_multiples_metodos(modelos,x,y,parametros)"
   ]
  },
  {
   "cell_type": "code",
   "execution_count": 43,
   "id": "1ead8d91",
   "metadata": {},
   "outputs": [
    {
     "data": {
      "text/html": [
       "<div>\n",
       "<style scoped>\n",
       "    .dataframe tbody tr th:only-of-type {\n",
       "        vertical-align: middle;\n",
       "    }\n",
       "\n",
       "    .dataframe tbody tr th {\n",
       "        vertical-align: top;\n",
       "    }\n",
       "\n",
       "    .dataframe thead th {\n",
       "        text-align: right;\n",
       "    }\n",
       "</style>\n",
       "<table border=\"1\" class=\"dataframe\">\n",
       "  <thead>\n",
       "    <tr style=\"text-align: right;\">\n",
       "      <th></th>\n",
       "      <th>Modelo</th>\n",
       "      <th>Neighbors</th>\n",
       "      <th>Components</th>\n",
       "      <th>Penalty</th>\n",
       "      <th>Alp_best</th>\n",
       "      <th>Accuracy</th>\n",
       "      <th>ECM</th>\n",
       "      <th>AP</th>\n",
       "      <th>AUC</th>\n",
       "      <th>Verdadero 0</th>\n",
       "      <th>Falso 1</th>\n",
       "      <th>Falso 0</th>\n",
       "      <th>Verdadero 1</th>\n",
       "    </tr>\n",
       "  </thead>\n",
       "  <tbody>\n",
       "    <tr>\n",
       "      <th>0</th>\n",
       "      <td>KNN</td>\n",
       "      <td>5</td>\n",
       "      <td></td>\n",
       "      <td></td>\n",
       "      <td></td>\n",
       "      <td>0.727637</td>\n",
       "      <td>0.272363</td>\n",
       "      <td>0.433502</td>\n",
       "      <td>0.642141</td>\n",
       "      <td>448</td>\n",
       "      <td>64</td>\n",
       "      <td>140</td>\n",
       "      <td>97</td>\n",
       "    </tr>\n",
       "    <tr>\n",
       "      <th>1</th>\n",
       "      <td>LDA</td>\n",
       "      <td></td>\n",
       "      <td>1</td>\n",
       "      <td></td>\n",
       "      <td></td>\n",
       "      <td>0.779706</td>\n",
       "      <td>0.220294</td>\n",
       "      <td>0.515101</td>\n",
       "      <td>0.697224</td>\n",
       "      <td>472</td>\n",
       "      <td>40</td>\n",
       "      <td>125</td>\n",
       "      <td>112</td>\n",
       "    </tr>\n",
       "    <tr>\n",
       "      <th>2</th>\n",
       "      <td>Logit</td>\n",
       "      <td></td>\n",
       "      <td></td>\n",
       "      <td>l2</td>\n",
       "      <td>0.00001</td>\n",
       "      <td>0.782377</td>\n",
       "      <td>0.217623</td>\n",
       "      <td>0.519250</td>\n",
       "      <td>0.696911</td>\n",
       "      <td>476</td>\n",
       "      <td>36</td>\n",
       "      <td>127</td>\n",
       "      <td>110</td>\n",
       "    </tr>\n",
       "  </tbody>\n",
       "</table>\n",
       "</div>"
      ],
      "text/plain": [
       "  Modelo Neighbors Components Penalty Alp_best  Accuracy       ECM        AP  \\\n",
       "0    KNN         5                              0.727637  0.272363  0.433502   \n",
       "1    LDA                    1                   0.779706  0.220294  0.515101   \n",
       "2  Logit                           l2  0.00001  0.782377  0.217623  0.519250   \n",
       "\n",
       "        AUC  Verdadero 0  Falso 1  Falso 0  Verdadero 1  \n",
       "0  0.642141          448       64      140           97  \n",
       "1  0.697224          472       40      125          112  \n",
       "2  0.696911          476       36      127          110  "
      ]
     },
     "execution_count": 43,
     "metadata": {},
     "output_type": "execute_result"
    }
   ],
   "source": [
    "reg_ridge[0]"
   ]
  },
  {
   "cell_type": "markdown",
   "id": "0fedbee2",
   "metadata": {},
   "source": [
    "El valor de λ elegido para cada caso es de 0.00001. A su vez, en los box plots mostrados a continuación puede observarse que los menores valores de ECM (eje Y) se encuentran para los valores más chicos de lambda, dándose un salto discreto considerable entre los valores 100 y 1000 en LASSO y dos saltos diferentes en Ridge, para valores entre 100 y 1000 y 1000 y 10000 del hiperparámetro bajo análisis. Los box-plots nos muestran que el ECM se comporta de manera muy similar en los dos métodos. Hasta un alpha de 100, el ECM promedio para las K particiones se mantiene alrededor de 0.24, aunque el despegue en Lasso se da antes que en Ridge, con un alpha de 1, mientras que en Ridge, el primer salto más discreto se da con un alpha de 100. Otra diferencia entre los dos métodos es que cuando alpha llega a 1000, el ECM promedio en Lasso salta directamente a un nivel alrededor de 0.34, mientras que en Ridge es más cercano a 0.29. Luego, ya a partir de 10000, llega también a 0.34, donde se mantiene en un nivel fijo para ambos métodos.  \n",
    "\n",
    "Otro punto interesante es que, a medida que aumenta el valor de λ bajo ambas especificaciones, los intervalos entre los que se encuentra el ECM dentro de las K particiones son más amplios. \n",
    "\n",
    "Al ser elegidos valores tan bajos de lambda (que penalizan muy poco la falta de ajuste), los gráficos son los mismos para ambas especificaciones porque no se reduce a 0 el coeficiente de ninguna variable. Por ende, el box plot específico para la regularización LASSO no mostraría nada diferente. "
   ]
  },
  {
   "cell_type": "code",
   "execution_count": 44,
   "id": "3f2b5f21",
   "metadata": {
    "scrolled": true
   },
   "outputs": [
    {
     "data": {
      "image/png": "[encoded data removed]",
      "text/plain": [
       "<Figure size 432x288 with 1 Axes>"
      ]
     },
     "metadata": {},
     "output_type": "display_data"
    }
   ],
   "source": [
    "# Box plot para regularización LASSO\n",
    "\n",
    "import seaborn as sns\n",
    "sns.set()\n",
    "ss = sns.boxplot(data=reg_lasso[1], x=\"alp\", y=\"ecm\")"
   ]
  },
  {
   "cell_type": "code",
   "execution_count": 45,
   "id": "c77ad7c4",
   "metadata": {
    "scrolled": true
   },
   "outputs": [
    {
     "data": {
      "image/png": "[encoded data removed]",
      "text/plain": [
       "<Figure size 432x288 with 1 Axes>"
      ]
     },
     "metadata": {},
     "output_type": "display_data"
    }
   ],
   "source": [
    "# Box plot para regularización Ridge\n",
    "\n",
    "sns.set()\n",
    "ss = sns.boxplot(data=reg_ridge[1], x=\"alp\", y=\"ecm\")"
   ]
  },
  {
   "cell_type": "markdown",
   "id": "025a709a",
   "metadata": {},
   "source": [
    "### 6. En el caso del valor óptimo de λ para LASSO encontrado en el inciso anterior, ¿qué variables fueron descartadas? ¿Son las que hubieran esperado? ¿Tiene relación con lo que respondió en el inciso 1 de la Parte I?"
   ]
  },
  {
   "cell_type": "markdown",
   "id": "b80216fe",
   "metadata": {},
   "source": [
    "En este caso, LASSO no elimina ningún coeficiente, aunque esto tiene sentido si pensamos que nos está eligiendo el menor valor posible de λ, 0.00001. Esto significaría que el parámetro C, la inversa de λ, es un valor muy alto, lo que implica una regularización más suave. Los coeficientes, como se muestra en el código de la celda inferior, tienen valores distintos a cero incluso bajo esta especificación, correspondiéndose estos con las variables que identificamos a priori en el inciso 1 de la parte I como relevantes para explicar la pobreza."
   ]
  },
  {
   "cell_type": "code",
   "execution_count": 46,
   "id": "18386a32",
   "metadata": {},
   "outputs": [
    {
     "name": "stdout",
     "output_type": "stream",
     "text": [
      "[(0.0, 'const'), (-0.07791502576654773, 'IV1'), (0.03553496519076176, 'IV3'), (0.10828034936582294, 'IV6'), (0.05376830587250515, 'IV7'), (-0.28902013068611654, 'IV8'), (-0.11591115231350718, 'IV9'), (-0.0276535584491332, 'IV12_1'), (-0.09218188665565955, 'IV12_3'), (-0.0036293040033668375, 'II7'), (0.06867994346812321, 'II8'), (0.016189361077526526, 'V1'), (-0.02098490679121852, 'V2'), (-0.3686961637123647, 'V5'), (-0.07460485720364407, 'CH09'), (-0.005149230461996298, 'CH10'), (-0.033413453058413575, 'CH11'), (-0.0028490352207195886, 'CH12'), (-0.003937466007443816, 'CH06')]\n"
     ]
    }
   ],
   "source": [
    "x_train, x_test, y_train, y_test = train_test_split(x, y, test_size=0.2, random_state=10)\n",
    "lasso_best = Lasso(alpha=0.00001)\n",
    "lasso_best.fit(x_train, y_train)\n",
    "print(list(zip(lasso_best.coef_, x)))"
   ]
  },
  {
   "cell_type": "markdown",
   "id": "853020a6",
   "metadata": {},
   "source": [
    "### 7. Elijan alguno de los modelos de regresión logistica donde haya probado distintos parametros de regularización y comente: ¿Qué metodo de regularización funcionó mejor Ridge o LASSO? Comente mencionando el error cuadrático medio (ECM)."
   ]
  },
  {
   "cell_type": "markdown",
   "id": "c1618045",
   "metadata": {},
   "source": [
    "En base a nuestras respuestas previas, podemos observar que con el valor de λ elegido por el algoritmo, el ECM se minimiza en el mismo punto para ambas especificaciones (ya que no se elimina ningún coeficiente con LASSO), por lo que podemos inferir que ambos métodos de regularización tienen el mismo rendimiento bajo las regresiones realizadas. \n",
    "\n",
    "Más allá que parezca raro que suceda esto, en el ejemplo del ejercicio 2 pudimos ver que el algoritmo eligió el último λ que le dimos para iterar, por lo que no tenemos razones para pensar que la función está fallando en este caso (por ejemplo, eligiendo el primer valor que se le da). "
   ]
  },
  {
   "cell_type": "code",
   "execution_count": 47,
   "id": "2db545c0",
   "metadata": {},
   "outputs": [
    {
     "data": {
      "text/html": [
       "<div>\n",
       "<style scoped>\n",
       "    .dataframe tbody tr th:only-of-type {\n",
       "        vertical-align: middle;\n",
       "    }\n",
       "\n",
       "    .dataframe tbody tr th {\n",
       "        vertical-align: top;\n",
       "    }\n",
       "\n",
       "    .dataframe thead th {\n",
       "        text-align: right;\n",
       "    }\n",
       "</style>\n",
       "<table border=\"1\" class=\"dataframe\">\n",
       "  <thead>\n",
       "    <tr style=\"text-align: right;\">\n",
       "      <th></th>\n",
       "      <th>Modelo</th>\n",
       "      <th>Neighbors</th>\n",
       "      <th>Components</th>\n",
       "      <th>Penalty</th>\n",
       "      <th>Alp_best</th>\n",
       "      <th>Accuracy</th>\n",
       "      <th>ECM</th>\n",
       "      <th>AP</th>\n",
       "      <th>AUC</th>\n",
       "      <th>Verdadero 0</th>\n",
       "      <th>Falso 1</th>\n",
       "      <th>Falso 0</th>\n",
       "      <th>Verdadero 1</th>\n",
       "    </tr>\n",
       "  </thead>\n",
       "  <tbody>\n",
       "    <tr>\n",
       "      <th>0</th>\n",
       "      <td>Logit</td>\n",
       "      <td></td>\n",
       "      <td></td>\n",
       "      <td>l1</td>\n",
       "      <td>0.00001</td>\n",
       "      <td>0.782377</td>\n",
       "      <td>0.217623</td>\n",
       "      <td>0.51925</td>\n",
       "      <td>0.696911</td>\n",
       "      <td>476</td>\n",
       "      <td>36</td>\n",
       "      <td>127</td>\n",
       "      <td>110</td>\n",
       "    </tr>\n",
       "    <tr>\n",
       "      <th>1</th>\n",
       "      <td>Logit</td>\n",
       "      <td></td>\n",
       "      <td></td>\n",
       "      <td>l2</td>\n",
       "      <td>0.00001</td>\n",
       "      <td>0.782377</td>\n",
       "      <td>0.217623</td>\n",
       "      <td>0.51925</td>\n",
       "      <td>0.696911</td>\n",
       "      <td>476</td>\n",
       "      <td>36</td>\n",
       "      <td>127</td>\n",
       "      <td>110</td>\n",
       "    </tr>\n",
       "  </tbody>\n",
       "</table>\n",
       "</div>"
      ],
      "text/plain": [
       "  Modelo Neighbors Components Penalty  Alp_best  Accuracy       ECM       AP  \\\n",
       "0  Logit                           l1   0.00001  0.782377  0.217623  0.51925   \n",
       "1  Logit                           l2   0.00001  0.782377  0.217623  0.51925   \n",
       "\n",
       "        AUC  Verdadero 0  Falso 1  Falso 0  Verdadero 1  \n",
       "0  0.696911          476       36      127          110  \n",
       "1  0.696911          476       36      127          110  "
      ]
     },
     "execution_count": 47,
     "metadata": {},
     "output_type": "execute_result"
    }
   ],
   "source": [
    "modelos = [\"Logit\"]\n",
    "parametros = {\"k_range\": range(3,5), \"penalty\": [\"l1\", \"l2\"], \"lambda\": np.logspace(-5,5,num=5-(-5)+1,base=10)} # l1enalty de Lasso, la l2 es Ridge. \n",
    "\n",
    "lasso_7 = evalua_multiples_metodos(modelos,x,y,parametros)\n",
    "\n",
    "lasso_7[0]"
   ]
  },
  {
   "cell_type": "markdown",
   "id": "8386b16e",
   "metadata": {},
   "source": [
    "### 8. ¿Cuál de todos los métodos evaluados predice mejor? ¿Con qué hiperparámetros? Justifiquen detalladamente utilizando las medidas de precisión que conoce."
   ]
  },
  {
   "cell_type": "markdown",
   "id": "946b34ad",
   "metadata": {},
   "source": [
    "En base a las tablas presentadas en los incisos anteriores, si nuestra preocupación es minimizar el ECM y mejor la precisión, el mejor método de los analizados es Logit con un λ = 0.00001, ya que el ECM en este caso (bajo ambas especificaciones de Logit) es de 0.217623, contra un 0.220294 de LDA (con 1 componente) y 0.272363 de KNN (con 5 vecinos). \n",
    "\n",
    "Sin embargo, si la idea es identificar hogares pobres para incluirlos en alguna política pública de inclusión, nuestro objetivo pasaría a identificar la mayor cantidad posible de verdaderos positivos, ya que esto nos daría un mayor alcance dentro de la población objetivo. Si tenemos en cuenta esto, LDA podría ser un método superior, ya que identifica 112 verdaderos positivos al observar la matriz de confusión, contra 110 de Logit. La cantidad de verdaderos negativos solo difere en 4 a favor de Logit, por lo que algún análisis costo-beneficio no pareciera ir en contra de la mejor identificación de LDA. \n",
    "\n",
    "A su vez, el área debajo de la curva ROC de LDA es de 0.697224, contra un 0.696911 de Logit, por lo que marginalmente podemos ver que el método LDA posee una mejor precisión en la clasificación. Por esta razón y por lo expuesto en el párrafo anterior, decidimos que el mejor método resulta ser LDA."
   ]
  },
  {
   "cell_type": "markdown",
   "id": "f03adef0",
   "metadata": {},
   "source": [
    "### 9. Con el método que seleccionó, predigan qué personas son pobres dentro de la base norespondieron. ¿Qué proporción de los hogares son pobres en esa submuestra?"
   ]
  },
  {
   "cell_type": "code",
   "execution_count": 48,
   "id": "3c1d7e64",
   "metadata": {},
   "outputs": [
    {
     "name": "stdout",
     "output_type": "stream",
     "text": [
      "En base al modelo LinearDiscriminantAnalysis(n_components=1) , la cantidad predicha de hogares pobres para la submuestra es de 152 personas.\n",
      "La proporción de hogares pobres en la submuestra es del 20.29 %.\n"
     ]
    }
   ],
   "source": [
    "x_train, x_test, y_train, y_test = train_test_split(x, y, test_size=0.2, random_state=10)\n",
    "\n",
    "lda_final = LinearDiscriminantAnalysis(n_components=1)\n",
    "lda_final_fit = lda_final.fit(x_train, y_train)\n",
    "\n",
    "y_pred = lda_final_fit.predict(x_test)\n",
    "y_pred = np.where(y_pred > 0.5, 1, y_pred)\n",
    "y_pred = np.where(y_pred <= 0.5, 0, y_pred)\n",
    "\n",
    "count = np.count_nonzero(y_pred == 1)\n",
    "\n",
    "print(\"En base al modelo\",lda_final,\", la cantidad predicha de hogares pobres para la submuestra es de\", count, \"personas.\")\n",
    "\n",
    "proporcion = np.count_nonzero(y_pred == 1)/(len(y_pred))\n",
    "proporcion = proporcion*100\n",
    "print(\"La proporción de hogares pobres en la submuestra es del %.2f\" % proporcion,\"%.\")"
   ]
  },
  {
   "cell_type": "markdown",
   "id": "0b1886a3",
   "metadata": {},
   "source": [
    "Como puede verse en los print de la celda superior, el método LDA con 1 componente identifica a 152 hogares pobres en la submuestra, correspondiéndose esto con un 20,29% de la misma. Esta es una mejora sustancial contra el ejercicio 7 de la parte I, donde solo se predecía que un 5,15% de la submuestra estaba compuesta por hogares pobres. "
   ]
  }
 ],
 "metadata": {
  "kernelspec": {
   "display_name": "Python 3 (ipykernel)",
   "language": "python",
   "name": "python3"
  },
  "language_info": {
   "codemirror_mode": {
    "name": "ipython",
    "version": 3
   },
   "file_extension": ".py",
   "mimetype": "text/x-python",
   "name": "python",
   "nbconvert_exporter": "python",
   "pygments_lexer": "ipython3",
   "version": "3.9.12"
  },
  "varInspector": {
   "cols": {
    "lenName": 16,
    "lenType": 16,
    "lenVar": 40
   },
   "kernels_config": {
    "python": {
     "delete_cmd_postfix": "",
     "delete_cmd_prefix": "del ",
     "library": "var_list.py",
     "varRefreshCmd": "print(var_dic_list())"
    },
    "r": {
     "delete_cmd_postfix": ") ",
     "delete_cmd_prefix": "rm(",
     "library": "var_list.r",
     "varRefreshCmd": "cat(var_dic_list()) "
    }
   },
   "types_to_exclude": [
    "module",
    "function",
    "builtin_function_or_method",
    "instance",
    "_Feature"
   ],
   "window_display": false
  }
 },
 "nbformat": 4,
 "nbformat_minor": 5
}
