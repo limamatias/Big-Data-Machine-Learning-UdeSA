{
  "nbformat": 4,
  "nbformat_minor": 0,
  "metadata": {
    "colab": {
      "provenance": [],
      "authorship_tag": "ABX9TyOzs82R5QlQWdRkww++er8B",
      "include_colab_link": true
    },
    "kernelspec": {
      "name": "python3",
      "display_name": "Python 3"
    },
    "language_info": {
      "name": "python"
    }
  },
  "cells": [
    {
      "cell_type": "markdown",
      "metadata": {
        "id": "view-in-github",
        "colab_type": "text"
      },
      "source": [
        "<a href=\"https://colab.research.google.com/github/limamatias/Big-Data-Machine-Learning-UdeSA/blob/main/Trabajo%20Pr%C3%A1ctico%201.ipynb\" target=\"_parent\"><img src=\"https://colab.research.google.com/assets/colab-badge.svg\" alt=\"Open In Colab\"/></a>"
      ]
    },
    {
      "cell_type": "code",
      "execution_count": 1,
      "metadata": {
        "id": "qqd5YnjI9Q30"
      },
      "outputs": [],
      "source": [
        "'''\n",
        "    Tarea 1 (Python) - Catalina Banfi y Mati­as Lima\n",
        "'''\n",
        "\n",
        "import pandas as pd #Importamos el paquete pandas\n",
        "import matplotlib.pyplot as plt\n",
        "#Llamamos el link raw del archivo subido a GitHub con la base de datos de la tarea\n",
        "url = 'https://raw.githubusercontent.com/limamatias/Herramientas-Computacionales-UdeSA/main/Trabajo%20Pr%C3%A1ctico%201/tarea.csv' "
      ]
    },
    {
      "cell_type": "markdown",
      "source": [
        "**1) Leer el archivo CSV “tarea” y mostrar las primeras 5 filas.**"
      ],
      "metadata": {
        "id": "zLqdGpz6967j"
      }
    },
    {
      "cell_type": "code",
      "source": [
        "df = pd.read_csv(url) #Leemos el archivo CSV dando como argumento el elemento url, previamente creado.\n",
        "print(df.head(5)) #Seleccionamos el data frame \"df\" y aplicamos la función head(), mediada vía print() para poder imprimir el resultado."
      ],
      "metadata": {
        "colab": {
          "base_uri": "https://localhost:8080/"
        },
        "id": "m_MAxdby-A0m",
        "outputId": "a7c358f1-975d-4497-ae43-740e3d966097"
      },
      "execution_count": 2,
      "outputs": [
        {
          "output_type": "stream",
          "name": "stdout",
          "text": [
            "   carat      cut color clarity  depth  table  price     x     y     z\n",
            "0   0.23    Ideal     E     SI2   61.5   55.0    326  3.95  3.98  2.43\n",
            "1   0.21  Premium     E     SI1   59.8   61.0    326  3.89  3.84  2.31\n",
            "2   0.23     Good     E     VS1   56.9   65.0    327  4.05  4.07  2.31\n",
            "3   0.29  Premium     I     VS2   62.4   58.0    334  4.20  4.23  2.63\n",
            "4   0.31     Good     J     SI2   63.3   58.0    335  4.34  4.35  2.75\n"
          ]
        }
      ]
    },
    {
      "cell_type": "markdown",
      "source": [
        "**2) Leer el archivo CSV “tarea” y mostrar las primeras 3 filas.**"
      ],
      "metadata": {
        "id": "6dAk0URKf3LV"
      }
    },
    {
      "cell_type": "code",
      "source": [
        "df = pd.read_csv(url, nrows= 3) #Leemos el archivo CSV, pero solo seleccionando las 3 primeras columnas.\n",
        "print(df) #Imprimimos el objeto df, teniendo en cuenta que ahora solo consiste con las 3 primeras columnas del archivo CSV."
      ],
      "metadata": {
        "colab": {
          "base_uri": "https://localhost:8080/"
        },
        "id": "dCBi03-_f_lQ",
        "outputId": "a395242a-fc18-4ead-aef7-e88feea11d84"
      },
      "execution_count": 3,
      "outputs": [
        {
          "output_type": "stream",
          "name": "stdout",
          "text": [
            "   carat      cut color clarity  depth  table  price     x     y     z\n",
            "0   0.23    Ideal     E     SI2   61.5     55    326  3.95  3.98  2.43\n",
            "1   0.21  Premium     E     SI1   59.8     61    326  3.89  3.84  2.31\n",
            "2   0.23     Good     E     VS1   56.9     65    327  4.05  4.07  2.31\n"
          ]
        }
      ]
    },
    {
      "cell_type": "markdown",
      "source": [
        "**3) Imprime el contenido de una columna como serie.**"
      ],
      "metadata": {
        "id": "TVlMWW6sgvk2"
      }
    },
    {
      "cell_type": "code",
      "source": [
        "df = pd.read_csv(url) #Leemos el archivo CSV.\n",
        "print(df['carat']) #Imprimimos la selección la primera columna del archivo, \"carat\", como serie."
      ],
      "metadata": {
        "colab": {
          "base_uri": "https://localhost:8080/"
        },
        "id": "rKsn9vsEhdJM",
        "outputId": "9c224700-e450-4199-932c-509035db7f22"
      },
      "execution_count": 4,
      "outputs": [
        {
          "output_type": "stream",
          "name": "stdout",
          "text": [
            "0        0.23\n",
            "1        0.21\n",
            "2        0.23\n",
            "3        0.29\n",
            "4        0.31\n",
            "         ... \n",
            "53935    0.72\n",
            "53936    0.72\n",
            "53937    0.70\n",
            "53938    0.86\n",
            "53939    0.75\n",
            "Name: carat, Length: 53940, dtype: float64\n"
          ]
        }
      ]
    },
    {
      "cell_type": "markdown",
      "source": [
        "**4) Crear una nueva serie 'calidad-color'.**"
      ],
      "metadata": {
        "id": "wtYWuBlqigbE"
      }
    },
    {
      "cell_type": "code",
      "source": [
        "calidad_color = df[df.columns[1:3]] #Creamos un dataframe con las columnas de df que están entre el inicio de la posición 1 y el de la 3.\n",
        "print(calidad_color) #Imprimimos el resultado."
      ],
      "metadata": {
        "colab": {
          "base_uri": "https://localhost:8080/"
        },
        "id": "5WJGWgdailqT",
        "outputId": "188e10c9-8138-4a48-cc3d-ff864ca73af3"
      },
      "execution_count": 5,
      "outputs": [
        {
          "output_type": "stream",
          "name": "stdout",
          "text": [
            "             cut color\n",
            "0          Ideal     E\n",
            "1        Premium     E\n",
            "2           Good     E\n",
            "3        Premium     I\n",
            "4           Good     J\n",
            "...          ...   ...\n",
            "53935      Ideal     D\n",
            "53936       Good     D\n",
            "53937  Very Good     D\n",
            "53938    Premium     H\n",
            "53939      Ideal     D\n",
            "\n",
            "[53940 rows x 2 columns]\n"
          ]
        }
      ]
    },
    {
      "cell_type": "markdown",
      "source": [
        "**5) Encontrar el número de filas y columnas y el tipo de datos de cada columna.**"
      ],
      "metadata": {
        "id": "Qz5DbrX8nrth"
      }
    },
    {
      "cell_type": "code",
      "source": [
        "print(df.shape) #Usamos la función .shape para obtener el número de filas y columnas.\n",
        "print(df.dtypes) #Usamos la función .dtypes para encontrar el tipo de dato de cada columna."
      ],
      "metadata": {
        "colab": {
          "base_uri": "https://localhost:8080/"
        },
        "id": "G1gRptjsnwHw",
        "outputId": "89adfcd7-a568-466f-b7b8-bed80e57d379"
      },
      "execution_count": 6,
      "outputs": [
        {
          "output_type": "stream",
          "name": "stdout",
          "text": [
            "(53940, 10)\n",
            "carat      float64\n",
            "cut         object\n",
            "color       object\n",
            "clarity     object\n",
            "depth      float64\n",
            "table      float64\n",
            "price        int64\n",
            "x          float64\n",
            "y          float64\n",
            "z          float64\n",
            "dtype: object\n"
          ]
        }
      ]
    },
    {
      "cell_type": "markdown",
      "source": [
        "**6) Resumir sólo las columnas 'objeto'.**"
      ],
      "metadata": {
        "id": "ZOQ5TIblrrx4"
      }
    },
    {
      "cell_type": "code",
      "source": [
        "print(df.describe(include=['object'])) #Imprimimos el resultado de la función .describe, seleccionando solo las columnas de tipo objeto."
      ],
      "metadata": {
        "colab": {
          "base_uri": "https://localhost:8080/"
        },
        "id": "aelmU7Kvr3WZ",
        "outputId": "9549076e-4184-48d1-ce85-1f43ba63afdd"
      },
      "execution_count": 7,
      "outputs": [
        {
          "output_type": "stream",
          "name": "stdout",
          "text": [
            "          cut  color clarity\n",
            "count   53940  53940   53940\n",
            "unique      5      7       8\n",
            "top     Ideal      G     SI1\n",
            "freq    21551  11292   13065\n"
          ]
        }
      ]
    },
    {
      "cell_type": "markdown",
      "source": [
        "**7) Renombrar dos de las columnas. Imprimir antes y después incluyendo una línea que describa cada una.**"
      ],
      "metadata": {
        "id": "0RYq5_PqtGsQ"
      }
    },
    {
      "cell_type": "code",
      "source": [
        "print(df) #Imprimimos el dataframe original, con los nombres de las columnas originales.\n",
        "df2 = df.rename(columns={'carat':'quilate', 'cut':'corte'}) #Renombramos las columnas 'carat' y 'cut' utilizando la función .rename().\n",
        "print(df2) #Imprimimos el dataframe nuevo, con las dos primeras columnas renombradas."
      ],
      "metadata": {
        "colab": {
          "base_uri": "https://localhost:8080/"
        },
        "id": "x1UDvcIlujrK",
        "outputId": "89dae029-d211-4e51-b0fd-107e0fde7259"
      },
      "execution_count": 8,
      "outputs": [
        {
          "output_type": "stream",
          "name": "stdout",
          "text": [
            "       carat        cut color clarity  depth  table  price     x     y     z\n",
            "0       0.23      Ideal     E     SI2   61.5   55.0    326  3.95  3.98  2.43\n",
            "1       0.21    Premium     E     SI1   59.8   61.0    326  3.89  3.84  2.31\n",
            "2       0.23       Good     E     VS1   56.9   65.0    327  4.05  4.07  2.31\n",
            "3       0.29    Premium     I     VS2   62.4   58.0    334  4.20  4.23  2.63\n",
            "4       0.31       Good     J     SI2   63.3   58.0    335  4.34  4.35  2.75\n",
            "...      ...        ...   ...     ...    ...    ...    ...   ...   ...   ...\n",
            "53935   0.72      Ideal     D     SI1   60.8   57.0   2757  5.75  5.76  3.50\n",
            "53936   0.72       Good     D     SI1   63.1   55.0   2757  5.69  5.75  3.61\n",
            "53937   0.70  Very Good     D     SI1   62.8   60.0   2757  5.66  5.68  3.56\n",
            "53938   0.86    Premium     H     SI2   61.0   58.0   2757  6.15  6.12  3.74\n",
            "53939   0.75      Ideal     D     SI2   62.2   55.0   2757  5.83  5.87  3.64\n",
            "\n",
            "[53940 rows x 10 columns]\n",
            "       quilate      corte color clarity  depth  table  price     x     y     z\n",
            "0         0.23      Ideal     E     SI2   61.5   55.0    326  3.95  3.98  2.43\n",
            "1         0.21    Premium     E     SI1   59.8   61.0    326  3.89  3.84  2.31\n",
            "2         0.23       Good     E     VS1   56.9   65.0    327  4.05  4.07  2.31\n",
            "3         0.29    Premium     I     VS2   62.4   58.0    334  4.20  4.23  2.63\n",
            "4         0.31       Good     J     SI2   63.3   58.0    335  4.34  4.35  2.75\n",
            "...        ...        ...   ...     ...    ...    ...    ...   ...   ...   ...\n",
            "53935     0.72      Ideal     D     SI1   60.8   57.0   2757  5.75  5.76  3.50\n",
            "53936     0.72       Good     D     SI1   63.1   55.0   2757  5.69  5.75  3.61\n",
            "53937     0.70  Very Good     D     SI1   62.8   60.0   2757  5.66  5.68  3.56\n",
            "53938     0.86    Premium     H     SI2   61.0   58.0   2757  6.15  6.12  3.74\n",
            "53939     0.75      Ideal     D     SI2   62.2   55.0   2757  5.83  5.87  3.64\n",
            "\n",
            "[53940 rows x 10 columns]\n"
          ]
        }
      ]
    },
    {
      "cell_type": "markdown",
      "source": [
        "**8)\tEliminar la segunda y tercera columna.**"
      ],
      "metadata": {
        "id": "_1r4Lj_DyUUJ"
      }
    },
    {
      "cell_type": "code",
      "source": [
        "df3 = df.drop(columns=['cut','color']) #Eliminamos la segunda y tercer columna del dataframe original, asignando el resultado a otro df.\n",
        "print(df3) #Imprimimos el nuevo df, sin las columnas 'cut' y 'color'."
      ],
      "metadata": {
        "colab": {
          "base_uri": "https://localhost:8080/"
        },
        "id": "QKw4V1AHzxZd",
        "outputId": "10220739-2a01-444f-92a0-870a35d1f3ec"
      },
      "execution_count": 9,
      "outputs": [
        {
          "output_type": "stream",
          "name": "stdout",
          "text": [
            "       carat clarity  depth  table  price     x     y     z\n",
            "0       0.23     SI2   61.5   55.0    326  3.95  3.98  2.43\n",
            "1       0.21     SI1   59.8   61.0    326  3.89  3.84  2.31\n",
            "2       0.23     VS1   56.9   65.0    327  4.05  4.07  2.31\n",
            "3       0.29     VS2   62.4   58.0    334  4.20  4.23  2.63\n",
            "4       0.31     SI2   63.3   58.0    335  4.34  4.35  2.75\n",
            "...      ...     ...    ...    ...    ...   ...   ...   ...\n",
            "53935   0.72     SI1   60.8   57.0   2757  5.75  5.76  3.50\n",
            "53936   0.72     SI1   63.1   55.0   2757  5.69  5.75  3.61\n",
            "53937   0.70     SI1   62.8   60.0   2757  5.66  5.68  3.56\n",
            "53938   0.86     SI2   61.0   58.0   2757  6.15  6.12  3.74\n",
            "53939   0.75     SI2   62.2   55.0   2757  5.83  5.87  3.64\n",
            "\n",
            "[53940 rows x 8 columns]\n"
          ]
        }
      ]
    },
    {
      "cell_type": "markdown",
      "source": [
        "**9)\tEliminar múltiples filas a la vez.**"
      ],
      "metadata": {
        "id": "KHsfUnF91Ytt"
      }
    },
    {
      "cell_type": "code",
      "source": [
        "df4 = df.drop(df.index[0:4], axis=0) #Con la función .drop() junto a .index() eliminamos las filas que se encuentran entre el índice 0 y el 4.\n",
        "print(df4) #Imprimimos el resultado."
      ],
      "metadata": {
        "colab": {
          "base_uri": "https://localhost:8080/"
        },
        "id": "gsikupz-1cTJ",
        "outputId": "45a2a177-29f2-4e20-8685-7fc542936efa"
      },
      "execution_count": 10,
      "outputs": [
        {
          "output_type": "stream",
          "name": "stdout",
          "text": [
            "       carat        cut color clarity  depth  table  price     x     y     z\n",
            "4       0.31       Good     J     SI2   63.3   58.0    335  4.34  4.35  2.75\n",
            "5       0.24  Very Good     J    VVS2   62.8   57.0    336  3.94   NaN  2.48\n",
            "6       0.24  Very Good     I    VVS1   62.3   57.0    336  3.95  3.98  2.47\n",
            "7       0.26  Very Good     H     SI1   61.9   55.0    337  4.07  4.11  2.53\n",
            "8       0.22       Fair     E     VS2   65.1   61.0    337  3.87  3.78  2.49\n",
            "...      ...        ...   ...     ...    ...    ...    ...   ...   ...   ...\n",
            "53935   0.72      Ideal     D     SI1   60.8   57.0   2757  5.75  5.76  3.50\n",
            "53936   0.72       Good     D     SI1   63.1   55.0   2757  5.69  5.75  3.61\n",
            "53937   0.70  Very Good     D     SI1   62.8   60.0   2757  5.66  5.68  3.56\n",
            "53938   0.86    Premium     H     SI2   61.0   58.0   2757  6.15  6.12  3.74\n",
            "53939   0.75      Ideal     D     SI2   62.2   55.0   2757  5.83  5.87  3.64\n",
            "\n",
            "[53936 rows x 10 columns]\n"
          ]
        }
      ]
    },
    {
      "cell_type": "markdown",
      "source": [
        "**10) Ordenar la columna 'cut' en orden ascendente. ¿Qué tipo de objeto es `cut’ usándolo así?**"
      ],
      "metadata": {
        "id": "cXDrLmhv5qdn"
      }
    },
    {
      "cell_type": "code",
      "source": [
        "df5 = df.cut.sort_values() #Ordenamos la columna 'cut' con .sort_values(), aquí funcionando como un objeto de tipo series, en orden ascendente (no hace falta aclarar parámetros ya que es el default de la función).\n",
        "print(df5) #Imprimimos el resultado."
      ],
      "metadata": {
        "colab": {
          "base_uri": "https://localhost:8080/"
        },
        "id": "-K2pw0Zu5w5o",
        "outputId": "98b77370-d785-491d-c618-417bb776ec46"
      },
      "execution_count": 11,
      "outputs": [
        {
          "output_type": "stream",
          "name": "stdout",
          "text": [
            "3850          Fair\n",
            "51464         Fair\n",
            "51466         Fair\n",
            "10237         Fair\n",
            "10760         Fair\n",
            "           ...    \n",
            "7402     Very Good\n",
            "43101    Very Good\n",
            "16893    Very Good\n",
            "16898    Very Good\n",
            "21164    Very Good\n",
            "Name: cut, Length: 53940, dtype: object\n"
          ]
        }
      ]
    },
    {
      "cell_type": "markdown",
      "source": [
        "**11)\tOrdenar toda la base por 'carat' en orden descendente.**"
      ],
      "metadata": {
        "id": "8Y4Cjzef7wCz"
      }
    },
    {
      "cell_type": "code",
      "source": [
        "df6 = df.sort_values(by=['carat'], ascending=False) #Ordenamos toda la base según la columa carat. Ahora si aclaramos que el parámetro ascending, True por default, debe ser False. \n",
        "print(df6) #Imprimimos el resultado."
      ],
      "metadata": {
        "colab": {
          "base_uri": "https://localhost:8080/"
        },
        "id": "w8ZYcdAI8FUp",
        "outputId": "37cc5cc3-f9fb-4115-fc87-458b89ca6bba"
      },
      "execution_count": 12,
      "outputs": [
        {
          "output_type": "stream",
          "name": "stdout",
          "text": [
            "       carat      cut color clarity  depth  table  price      x      y     z\n",
            "27415   5.01     Fair     J      I1   65.5   59.0  18018  10.74  10.54  6.98\n",
            "27630   4.50     Fair     J      I1   65.8   58.0  18531  10.23  10.16  6.72\n",
            "27130   4.13     Fair     H      I1   64.8   61.0  17329  10.00   9.85  6.43\n",
            "25999   4.01  Premium     J      I1   62.5   62.0  15223  10.02   9.94  6.24\n",
            "25998   4.01  Premium     I      I1   61.0   61.0  15223  10.14  10.10  6.17\n",
            "...      ...      ...   ...     ...    ...    ...    ...    ...    ...   ...\n",
            "31592   0.20  Premium     E     VS2   59.0   60.0    367   3.81   3.78  2.24\n",
            "31591   0.20  Premium     E     VS2   59.8   62.0    367   3.79   3.77  2.26\n",
            "31601   0.20  Premium     D     VS2   61.7   60.0    367   3.77   3.72  2.31\n",
            "14      0.20  Premium     E     SI2   60.2   62.0    345   3.79   3.75  2.27\n",
            "31596   0.20  Premium     F     VS2   62.6   59.0    367   3.73   3.71  2.33\n",
            "\n",
            "[53940 rows x 10 columns]\n"
          ]
        }
      ]
    },
    {
      "cell_type": "markdown",
      "source": [
        "**12)\tFiltrar aquellas filas que x>5, y>5 y z>5.**"
      ],
      "metadata": {
        "id": "-Biu0Auo9LBy"
      }
    },
    {
      "cell_type": "code",
      "source": [
        "df7 = df[(df['x'] > 5) & (df['y'] > 5) & (df['z'] > 5)] #Filtramos la base original teniendo en cuenta las 3 condiciones.\n",
        "print(df7) #Imprimimos los resultados."
      ],
      "metadata": {
        "colab": {
          "base_uri": "https://localhost:8080/"
        },
        "id": "JtoZMVK89S4i",
        "outputId": "1eb00366-23f4-4a51-9ade-2546b624f2ec"
      },
      "execution_count": 13,
      "outputs": [
        {
          "output_type": "stream",
          "name": "stdout",
          "text": [
            "       carat        cut color clarity  depth  table  price     x      y      z\n",
            "11778   1.83       Fair     J      I1   70.0   58.0   5083  7.34   7.28   5.12\n",
            "13002   2.14       Fair     J      I1   69.4   57.0   5405  7.74   7.70   5.36\n",
            "13118   2.15       Fair     J      I1   65.5   57.0   5430  8.01   7.95   5.23\n",
            "13562   1.96       Fair     F      I1   66.6   60.0   5554  7.59   7.56   5.04\n",
            "13757   2.22       Fair     J      I1   66.7   56.0   5607  8.04   8.02   5.36\n",
            "...      ...        ...   ...     ...    ...    ...    ...   ...    ...    ...\n",
            "27748   2.00  Very Good     G     SI1   63.5   56.0  18818  7.90   7.97   5.04\n",
            "27749   2.29    Premium     I     VS2   60.8   60.0  18823  8.50   8.47   5.16\n",
            "48410   0.51  Very Good     E     VS1   61.8   54.7   1970  5.12   5.15  31.80\n",
            "49189   0.51      Ideal     E     VS1   61.8   55.0   2075  5.15  31.80   5.12\n",
            "49905   0.50  Very Good     G    VVS1   63.7   58.0   2180  5.01   5.04   5.06\n",
            "\n",
            "[1457 rows x 10 columns]\n"
          ]
        }
      ]
    },
    {
      "cell_type": "markdown",
      "source": [
        "**13)\tFiltrar las filas para que sólo muestren 'carat' mayor a 0,4.**"
      ],
      "metadata": {
        "id": "uqwNS9tMAOK1"
      }
    },
    {
      "cell_type": "code",
      "source": [
        "df8 = df[(df['carat'] > 0.4)] #Filtramos las filas de la base original para solo quedarnos con aquellas donde 'carat' es mayor a 0,4.\n",
        "print(df8) #Imprimimos los resultados."
      ],
      "metadata": {
        "id": "aqaNA3CvASxX",
        "colab": {
          "base_uri": "https://localhost:8080/"
        },
        "outputId": "2a3621ca-4179-4b3f-ee42-c90bd37fd844"
      },
      "execution_count": 14,
      "outputs": [
        {
          "output_type": "stream",
          "name": "stdout",
          "text": [
            "       carat        cut color clarity  depth  table  price     x     y     z\n",
            "64      0.42    Premium     I     SI2   61.5   59.0    552  4.78  4.84  2.96\n",
            "90      0.70      Ideal     E     SI1   62.5   57.0   2757  5.70  5.72  3.57\n",
            "91      0.86       Fair     E     SI2   55.1   69.0   2757  6.45  6.33  3.52\n",
            "92      0.70      Ideal     G     VS2   61.6   56.0   2757  5.70  5.67  3.50\n",
            "93      0.71  Very Good     E     VS2   62.4   57.0   2759  5.68  5.73  3.56\n",
            "...      ...        ...   ...     ...    ...    ...    ...   ...   ...   ...\n",
            "53935   0.72      Ideal     D     SI1   60.8   57.0   2757  5.75  5.76  3.50\n",
            "53936   0.72       Good     D     SI1   63.1   55.0   2757  5.69  5.75  3.61\n",
            "53937   0.70  Very Good     D     SI1   62.8   60.0   2757  5.66  5.68  3.56\n",
            "53938   0.86    Premium     H     SI2   61.0   58.0   2757  6.15  6.12  3.74\n",
            "53939   0.75      Ideal     D     SI2   62.2   55.0   2757  5.83  5.87  3.64\n",
            "\n",
            "[39549 rows x 10 columns]\n"
          ]
        }
      ]
    },
    {
      "cell_type": "markdown",
      "source": [
        "**14)\tFiltrar filas que son Premium o Ideal.**"
      ],
      "metadata": {
        "id": "DdWkV8dLOLLF"
      }
    },
    {
      "cell_type": "code",
      "source": [
        "df9 = df[(df['cut'] == 'Premium') | (df['cut'] == 'Ideal')] #Filtramos las filas para que se cumpla una condición o la otra, con el operador |.\n",
        "print(df9) #Imprimimos los resultados."
      ],
      "metadata": {
        "colab": {
          "base_uri": "https://localhost:8080/"
        },
        "id": "tZxmxkTiOUey",
        "outputId": "592907d1-c04f-4d3d-f716-865d1556f29a"
      },
      "execution_count": 15,
      "outputs": [
        {
          "output_type": "stream",
          "name": "stdout",
          "text": [
            "       carat      cut color clarity  depth  table  price     x     y     z\n",
            "0       0.23    Ideal     E     SI2   61.5   55.0    326  3.95  3.98  2.43\n",
            "1       0.21  Premium     E     SI1   59.8   61.0    326  3.89  3.84  2.31\n",
            "3       0.29  Premium     I     VS2   62.4   58.0    334  4.20  4.23  2.63\n",
            "11      0.23    Ideal     J     VS1   62.8   56.0    340  3.93  3.90  2.46\n",
            "12      0.22  Premium     F     SI1   60.4   61.0    342  3.88  3.84  2.33\n",
            "...      ...      ...   ...     ...    ...    ...    ...   ...   ...   ...\n",
            "53931   0.71  Premium     F     SI1   59.8   62.0   2756  5.74  5.73  3.43\n",
            "53934   0.72  Premium     D     SI1   62.7   59.0   2757  5.69  5.73  3.58\n",
            "53935   0.72    Ideal     D     SI1   60.8   57.0   2757  5.75  5.76  3.50\n",
            "53938   0.86  Premium     H     SI2   61.0   58.0   2757  6.15  6.12  3.74\n",
            "53939   0.75    Ideal     D     SI2   62.2   55.0   2757  5.83  5.87  3.64\n",
            "\n",
            "[35342 rows x 10 columns]\n"
          ]
        }
      ]
    },
    {
      "cell_type": "markdown",
      "source": [
        "**15)\tCalcular summary statistics de  'carat'.**"
      ],
      "metadata": {
        "id": "BIbBBtTFOyeD"
      }
    },
    {
      "cell_type": "code",
      "source": [
        "print(df.carat.describe()) #Imprimimos el resultado de usar la función .describe() en la columna 'carat' del dataframe original."
      ],
      "metadata": {
        "colab": {
          "base_uri": "https://localhost:8080/"
        },
        "id": "WofgoORcO2xq",
        "outputId": "5a7ba993-2a5e-465d-a0cd-90755d2d79f1"
      },
      "execution_count": 16,
      "outputs": [
        {
          "output_type": "stream",
          "name": "stdout",
          "text": [
            "count    53940.000000\n",
            "mean         0.797940\n",
            "std          0.474011\n",
            "min          0.200000\n",
            "25%          0.400000\n",
            "50%          0.700000\n",
            "75%          1.040000\n",
            "max          5.010000\n",
            "Name: carat, dtype: float64\n"
          ]
        }
      ]
    },
    {
      "cell_type": "markdown",
      "source": [
        "**16)\tCalcular la media de cada columna numérica.**"
      ],
      "metadata": {
        "id": "DR_PFQeZPXgZ"
      }
    },
    {
      "cell_type": "code",
      "source": [
        "print(df.mean(numeric_only=True)) #Imprimimos el resultado de usar la función .mean(), pasando como parámetro que solo trabaje con columnas numéricas."
      ],
      "metadata": {
        "colab": {
          "base_uri": "https://localhost:8080/"
        },
        "id": "dg8DMbvmPcwP",
        "outputId": "67045e6a-df74-459e-ed14-17d6b109650b"
      },
      "execution_count": 17,
      "outputs": [
        {
          "output_type": "stream",
          "name": "stdout",
          "text": [
            "carat       0.797940\n",
            "depth      61.749405\n",
            "table      57.457184\n",
            "price    3932.799722\n",
            "x           5.731157\n",
            "y           5.734559\n",
            "z           3.538734\n",
            "dtype: float64\n"
          ]
        }
      ]
    },
    {
      "cell_type": "markdown",
      "source": [
        "**17) Calcular la media del precio de cada tipo de 'cut'**."
      ],
      "metadata": {
        "id": "_cmbm_f7E0jM"
      }
    },
    {
      "cell_type": "code",
      "source": [
        "print(df.groupby('cut').price.mean()) #Imprimimos el resultado de usar la función mean en la columna precio, pero agrupando por tipo de 'cut'."
      ],
      "metadata": {
        "colab": {
          "base_uri": "https://localhost:8080/"
        },
        "id": "iq5faxIvE81A",
        "outputId": "91af8c29-2641-4aa2-fa67-6c2776806e9e"
      },
      "execution_count": 18,
      "outputs": [
        {
          "output_type": "stream",
          "name": "stdout",
          "text": [
            "cut\n",
            "Fair         4358.757764\n",
            "Good         3928.864452\n",
            "Ideal        3457.541970\n",
            "Premium      4584.257704\n",
            "Very Good    3981.759891\n",
            "Name: price, dtype: float64\n"
          ]
        }
      ]
    },
    {
      "cell_type": "markdown",
      "source": [
        "**18)\tCalcular la cantidad, el mínimo y el máximo precio para cada 'cut'**."
      ],
      "metadata": {
        "id": "WZ5rvwtPHvbI"
      }
    },
    {
      "cell_type": "code",
      "source": [
        "print((df.groupby('cut').price.agg(['count', 'max', 'min']))) #Imprimimos el resultado de calcular la cantidad de precios dentro de cada grupo. Además, tambien imprimimos el valor máximo y mínimo dentro de cada grupo. "
      ],
      "metadata": {
        "colab": {
          "base_uri": "https://localhost:8080/"
        },
        "id": "-0TFE39MH1Js",
        "outputId": "0efba323-5014-4a21-aade-f91f9153da0f"
      },
      "execution_count": 19,
      "outputs": [
        {
          "output_type": "stream",
          "name": "stdout",
          "text": [
            "           count    max  min\n",
            "cut                         \n",
            "Fair        1610  18574  337\n",
            "Good        4906  18788  327\n",
            "Ideal      21551  18806  326\n",
            "Premium    13791  18823  326\n",
            "Very Good  12082  18818  336\n"
          ]
        }
      ]
    },
    {
      "cell_type": "markdown",
      "source": [
        "**19) Mostrar los valores que puede tomar 'cut'**."
      ],
      "metadata": {
        "id": "jBY8H778J-gl"
      }
    },
    {
      "cell_type": "code",
      "source": [
        "print(df['cut'].unique()) #Con el comando unique podemos ver todos los valores que puede tomar la columna 'cut'."
      ],
      "metadata": {
        "colab": {
          "base_uri": "https://localhost:8080/"
        },
        "id": "lw7LMdTdKH-c",
        "outputId": "87cabb54-6eab-457b-fca1-d8ada77a9da9"
      },
      "execution_count": 20,
      "outputs": [
        {
          "output_type": "stream",
          "name": "stdout",
          "text": [
            "['Ideal' 'Premium' 'Good' 'Very Good' 'Fair']\n"
          ]
        }
      ]
    },
    {
      "cell_type": "markdown",
      "source": [
        "**20)\tContar cuántas veces aparece cada valor de 'cut'**."
      ],
      "metadata": {
        "id": "5GL4KDUmLU4-"
      }
    },
    {
      "cell_type": "code",
      "source": [
        "print((df.cut.value_counts())) #Usamos el comando value_counts para contar cuántas veces se repite cada categoría en la columna 'cut'."
      ],
      "metadata": {
        "colab": {
          "base_uri": "https://localhost:8080/"
        },
        "id": "oyd57ZhPLbBD",
        "outputId": "3c364d90-1120-476a-b752-1853aa49fbd7"
      },
      "execution_count": 21,
      "outputs": [
        {
          "output_type": "stream",
          "name": "stdout",
          "text": [
            "Ideal        21551\n",
            "Premium      13791\n",
            "Very Good    12082\n",
            "Good          4906\n",
            "Fair          1610\n",
            "Name: cut, dtype: int64\n"
          ]
        }
      ]
    },
    {
      "cell_type": "markdown",
      "source": [
        "**21) Mostrar los porcentajes de cada valor de 'cut'**."
      ],
      "metadata": {
        "id": "9BqhAbvPLvgu"
      }
    },
    {
      "cell_type": "code",
      "source": [
        "print(round((df.cut.value_counts()/len(df.index))*100,ndigits=2)) \n",
        "\n",
        "#Tomamos la cuenta del punto anterior y la dividimos por el largo del index (filas) del dataframe, multiplicando esto por 100 y redondeando a 2 decimales.\n"
      ],
      "metadata": {
        "colab": {
          "base_uri": "https://localhost:8080/"
        },
        "id": "2fjNO8NXL4UD",
        "outputId": "7ed57c27-742e-4348-b1ab-adce13dc3dd2"
      },
      "execution_count": 22,
      "outputs": [
        {
          "output_type": "stream",
          "name": "stdout",
          "text": [
            "Ideal        39.95\n",
            "Premium      25.57\n",
            "Very Good    22.40\n",
            "Good          9.10\n",
            "Fair          2.98\n",
            "Name: cut, dtype: float64\n"
          ]
        }
      ]
    },
    {
      "cell_type": "markdown",
      "source": [
        "**22)\tCalcular una tabla de doble entrada con 'cut' y 'color'**. "
      ],
      "metadata": {
        "id": "ba14hYI5Mb9h"
      }
    },
    {
      "cell_type": "code",
      "source": [
        "df10 = pd.crosstab(df.cut, df.color) #Creamos una tabla de doble entrada con las categorías de 'cut' como filas y los colores como columnas.\n",
        "print(df10) #Imprimimos el cuadro de doble entrada."
      ],
      "metadata": {
        "colab": {
          "base_uri": "https://localhost:8080/"
        },
        "id": "nNtDR9miMgzr",
        "outputId": "f532d9bc-ec97-48ea-b71c-38b49a030af4"
      },
      "execution_count": 23,
      "outputs": [
        {
          "output_type": "stream",
          "name": "stdout",
          "text": [
            "color         D     E     F     G     H     I    J\n",
            "cut                                               \n",
            "Fair        163   224   312   314   303   175  119\n",
            "Good        662   933   909   871   702   522  307\n",
            "Ideal      2834  3903  3826  4884  3115  2093  896\n",
            "Premium    1603  2337  2331  2924  2360  1428  808\n",
            "Very Good  1513  2400  2164  2299  1824  1204  678\n"
          ]
        }
      ]
    },
    {
      "cell_type": "markdown",
      "source": [
        "**23)\tCrear un histograma de 'cut'**."
      ],
      "metadata": {
        "id": "2W3uxSCHOG4e"
      }
    },
    {
      "cell_type": "code",
      "source": [
        "plt.hist(df.cut, bins=5) #Creamos el histograma. \n",
        "plt.xlabel('Calidad') #Elegimos etiqueta para el eje X.\n",
        "plt.ylabel('Frecuencia') #Elegimos etiqueta para el eje Y.\n",
        "plt.title(\"Histograma de 'calidad'\") #Elegimos título para el histograma.\n",
        "plt.show() #Imprimimos el gráfico."
      ],
      "metadata": {
        "colab": {
          "base_uri": "https://localhost:8080/",
          "height": 295
        },
        "id": "UTd1qbWDOOt-",
        "outputId": "cbdb6885-5954-40f7-bc5c-1254cae3eda9"
      },
      "execution_count": 24,
      "outputs": [
        {
          "output_type": "display_data",
          "data": {
            "text/plain": [
              "<Figure size 432x288 with 1 Axes>"
            ],
            "image/png": "[encoded data removed]"
          },
          "metadata": {
            "needs_background": "light"
          }
        }
      ]
    },
    {
      "cell_type": "markdown",
      "source": [
        "**24)\tCrear un gráfico de barras de 'cut'**."
      ],
      "metadata": {
        "id": "niW4ZfRqPSkL"
      }
    },
    {
      "cell_type": "code",
      "source": [
        "Ejey = (df.cut.value_counts()/53940) #En el eje y graficamos los porcentajes de cada una de las calidades.\n",
        "Ejex = (df['cut'].unique()) #En el eje x pedimos que nos muestre el nombre de las categorías de calidades.\n",
        "plt.title(\"Calidad: porcentaje por categoría\")\n",
        "plt.bar(Ejex, Ejey) #Ploteamos el gráfico.\n",
        "plt.show()\n"
      ],
      "metadata": {
        "colab": {
          "base_uri": "https://localhost:8080/",
          "height": 281
        },
        "id": "3w1APswwPYSx",
        "outputId": "3e0292e6-ba5a-4287-93ab-3505c5163764"
      },
      "execution_count": 25,
      "outputs": [
        {
          "output_type": "display_data",
          "data": {
            "text/plain": [
              "<Figure size 432x288 with 1 Axes>"
            ],
            "image/png": "[encoded data removed]"
          },
          "metadata": {
            "needs_background": "light"
          }
        }
      ]
    },
    {
      "cell_type": "markdown",
      "source": [
        "**25)\tContar el número de missing values en cada columna**."
      ],
      "metadata": {
        "id": "Xwam72QxRGdv"
      }
    },
    {
      "cell_type": "code",
      "source": [
        "print(df.isnull().sum()) #Usamos el código isnull().sum() para contar los valores pérdidos en la base de datos."
      ],
      "metadata": {
        "colab": {
          "base_uri": "https://localhost:8080/"
        },
        "id": "hTx9ZBmgRSlI",
        "outputId": "55365f2d-4c45-4742-c3eb-ff3289a46bfd"
      },
      "execution_count": 26,
      "outputs": [
        {
          "output_type": "stream",
          "name": "stdout",
          "text": [
            "carat      0\n",
            "cut        0\n",
            "color      0\n",
            "clarity    0\n",
            "depth      0\n",
            "table      0\n",
            "price      0\n",
            "x          0\n",
            "y          1\n",
            "z          0\n",
            "dtype: int64\n"
          ]
        }
      ]
    },
    {
      "cell_type": "markdown",
      "source": [
        "**26)\tComprobar el número de filas y columnas y eliminarlas si falta algún valor en una fila**."
      ],
      "metadata": {
        "id": "mH4hYmtGRbYP"
      }
    },
    {
      "cell_type": "code",
      "source": [
        "df11 =df.dropna(how='any') #Eliminamos la unica fila con un valor perdido (segun el punto anterior). \n",
        "print(df11)\n",
        "#Notar que en el punto 5) calculamos que habia 53940 filas, y ahora aparece que hay 53939 filas."
      ],
      "metadata": {
        "colab": {
          "base_uri": "https://localhost:8080/"
        },
        "id": "iX94U4H3SOFL",
        "outputId": "c55e0322-cb3f-420a-b3f1-114b2c0dd1da"
      },
      "execution_count": 27,
      "outputs": [
        {
          "output_type": "stream",
          "name": "stdout",
          "text": [
            "       carat        cut color clarity  depth  table  price     x     y     z\n",
            "0       0.23      Ideal     E     SI2   61.5   55.0    326  3.95  3.98  2.43\n",
            "1       0.21    Premium     E     SI1   59.8   61.0    326  3.89  3.84  2.31\n",
            "2       0.23       Good     E     VS1   56.9   65.0    327  4.05  4.07  2.31\n",
            "3       0.29    Premium     I     VS2   62.4   58.0    334  4.20  4.23  2.63\n",
            "4       0.31       Good     J     SI2   63.3   58.0    335  4.34  4.35  2.75\n",
            "...      ...        ...   ...     ...    ...    ...    ...   ...   ...   ...\n",
            "53935   0.72      Ideal     D     SI1   60.8   57.0   2757  5.75  5.76  3.50\n",
            "53936   0.72       Good     D     SI1   63.1   55.0   2757  5.69  5.75  3.61\n",
            "53937   0.70  Very Good     D     SI1   62.8   60.0   2757  5.66  5.68  3.56\n",
            "53938   0.86    Premium     H     SI2   61.0   58.0   2757  6.15  6.12  3.74\n",
            "53939   0.75      Ideal     D     SI2   62.2   55.0   2757  5.83  5.87  3.64\n",
            "\n",
            "[53939 rows x 10 columns]\n"
          ]
        }
      ]
    },
    {
      "cell_type": "markdown",
      "source": [
        "**27)\tEliminar una fila si faltan todos los valores**."
      ],
      "metadata": {
        "id": "tjSGGjV5UA8j"
      }
    },
    {
      "cell_type": "code",
      "source": [
        "df12 = df.dropna(how='all')\n",
        "print(df12) #En este caso, no se eliminaron filas porque no hay ninguna totalmente incompleta."
      ],
      "metadata": {
        "colab": {
          "base_uri": "https://localhost:8080/"
        },
        "id": "YMMHqjg4UD8U",
        "outputId": "befc746a-4676-40e2-999c-223584f41050"
      },
      "execution_count": 28,
      "outputs": [
        {
          "output_type": "stream",
          "name": "stdout",
          "text": [
            "       carat        cut color clarity  depth  table  price     x     y     z\n",
            "0       0.23      Ideal     E     SI2   61.5   55.0    326  3.95  3.98  2.43\n",
            "1       0.21    Premium     E     SI1   59.8   61.0    326  3.89  3.84  2.31\n",
            "2       0.23       Good     E     VS1   56.9   65.0    327  4.05  4.07  2.31\n",
            "3       0.29    Premium     I     VS2   62.4   58.0    334  4.20  4.23  2.63\n",
            "4       0.31       Good     J     SI2   63.3   58.0    335  4.34  4.35  2.75\n",
            "...      ...        ...   ...     ...    ...    ...    ...   ...   ...   ...\n",
            "53935   0.72      Ideal     D     SI1   60.8   57.0   2757  5.75  5.76  3.50\n",
            "53936   0.72       Good     D     SI1   63.1   55.0   2757  5.69  5.75  3.61\n",
            "53937   0.70  Very Good     D     SI1   62.8   60.0   2757  5.66  5.68  3.56\n",
            "53938   0.86    Premium     H     SI2   61.0   58.0   2757  6.15  6.12  3.74\n",
            "53939   0.75      Ideal     D     SI2   62.2   55.0   2757  5.83  5.87  3.64\n",
            "\n",
            "[53940 rows x 10 columns]\n"
          ]
        }
      ]
    },
    {
      "cell_type": "markdown",
      "source": [
        "**28)\tMostrar las filas 0, 2, 5 y todas las columnas**."
      ],
      "metadata": {
        "id": "TBLArZWiU8Ra"
      }
    },
    {
      "cell_type": "code",
      "source": [
        "print(df.iloc[[0,2,5]]) #Con este código podemos ver las columnas seleccionadas."
      ],
      "metadata": {
        "colab": {
          "base_uri": "https://localhost:8080/"
        },
        "id": "Zdqs1SF5VQjG",
        "outputId": "580e3e44-c7ca-4a98-dd51-126286cb3b6f"
      },
      "execution_count": 29,
      "outputs": [
        {
          "output_type": "stream",
          "name": "stdout",
          "text": [
            "   carat        cut color clarity  depth  table  price     x     y     z\n",
            "0   0.23      Ideal     E     SI2   61.5   55.0    326  3.95  3.98  2.43\n",
            "2   0.23       Good     E     VS1   56.9   65.0    327  4.05  4.07  2.31\n",
            "5   0.24  Very Good     J    VVS2   62.8   57.0    336  3.94   NaN  2.48\n"
          ]
        }
      ]
    },
    {
      "cell_type": "markdown",
      "source": [
        "**29)\tMostrar las filas 0 a 2 (inclusive) y las columnas 'color' y 'precio'**. "
      ],
      "metadata": {
        "id": "aNKcZoBce5d_"
      }
    },
    {
      "cell_type": "code",
      "source": [
        "print(df.iloc[[0,1,2], [2,6]]) #Usamos el comando iloc para filtrar por filas y columnas al mismo tiempo."
      ],
      "metadata": {
        "colab": {
          "base_uri": "https://localhost:8080/"
        },
        "id": "Zlsan6cdfB2O",
        "outputId": "982b7e96-366a-4cdf-bd4d-0fd588d56629"
      },
      "execution_count": 30,
      "outputs": [
        {
          "output_type": "stream",
          "name": "stdout",
          "text": [
            "  color  price\n",
            "0     E    326\n",
            "1     E    326\n",
            "2     E    327\n"
          ]
        }
      ]
    },
    {
      "cell_type": "markdown",
      "source": [
        "**30) Mostrar las filas en las que la 'cut' es 'Premium' más la columna 'color'**."
      ],
      "metadata": {
        "id": "wUgAVkhxjNRu"
      }
    },
    {
      "cell_type": "code",
      "source": [
        "df13 = df[(df['cut'] == 'Premium')] #Filtramos la base por las filas donde la calidad es 'Premium'.\n",
        "print(df13.iloc[:,[2]]) #Sobre el filtro anterior pedimos que nos muestre nada mas la columna color."
      ],
      "metadata": {
        "colab": {
          "base_uri": "https://localhost:8080/"
        },
        "id": "RqaqFJR8jWP2",
        "outputId": "ffa56e31-3eeb-489f-810a-e8d5347c3a6e"
      },
      "execution_count": 31,
      "outputs": [
        {
          "output_type": "stream",
          "name": "stdout",
          "text": [
            "      color\n",
            "1         E\n",
            "3         I\n",
            "12        F\n",
            "14        E\n",
            "15        E\n",
            "...     ...\n",
            "53928     E\n",
            "53930     E\n",
            "53931     F\n",
            "53934     D\n",
            "53938     H\n",
            "\n",
            "[13791 rows x 1 columns]\n"
          ]
        }
      ]
    },
    {
      "cell_type": "markdown",
      "source": [
        "**31) Obtener 5 filas de muestra al azar**."
      ],
      "metadata": {
        "id": "l_aOjviVjiKU"
      }
    },
    {
      "cell_type": "code",
      "source": [
        "print(df.sample(5)) #Imprimimos cinco filas al azar"
      ],
      "metadata": {
        "colab": {
          "base_uri": "https://localhost:8080/"
        },
        "id": "FZdv6J8pjlbw",
        "outputId": "02e7381e-cfed-49b7-f8cf-dbee0df626c5"
      },
      "execution_count": 32,
      "outputs": [
        {
          "output_type": "stream",
          "name": "stdout",
          "text": [
            "       carat        cut color clarity  depth  table  price     x     y     z\n",
            "35151   0.31      Ideal     E    VVS1   61.7   56.0    890  4.38  4.41  2.71\n",
            "51665   0.55      Ideal     G      IF   62.0   55.0   2398  5.25  5.29  3.27\n",
            "7910    1.07  Very Good     E     SI1   60.4   63.0   4314  6.67  6.60  4.01\n",
            "10650   1.01      Ideal     H     SI1   62.2   57.0   4836  6.43  6.37  3.98\n",
            "23716   0.25  Very Good     F    VVS2   62.4   55.0    633  4.03  4.06  2.52\n"
          ]
        }
      ]
    },
    {
      "cell_type": "markdown",
      "source": [
        "**32)\tObtener una muestra del 75% de las filas sin reemplazarlas**."
      ],
      "metadata": {
        "id": "fCFP_PAJj0yo"
      }
    },
    {
      "cell_type": "code",
      "source": [
        "print(df.sample(frac=0.75, random_state=1)) #Con df.sample podemos crear una base que se compone 75% de la original, aunque sin reemplazar las filas originales."
      ],
      "metadata": {
        "colab": {
          "base_uri": "https://localhost:8080/"
        },
        "id": "9mR0wFKKj4d2",
        "outputId": "1aa46239-d32b-42b2-c018-1ac8e8b6aefa"
      },
      "execution_count": 33,
      "outputs": [
        {
          "output_type": "stream",
          "name": "stdout",
          "text": [
            "       carat        cut color clarity  depth  table  price     x     y     z\n",
            "2714    0.33      Ideal     H     SI1   61.7   55.0    564  4.43  4.46  2.74\n",
            "14653   1.20      Ideal     I     VS2   62.1   57.0   5914  6.78  6.71  4.19\n",
            "52760   0.62      Ideal     D     VS1   61.0   57.0   2562  5.51  5.54  3.37\n",
            "48658   0.34       Good     H     VS2   63.1   56.0    537  4.41  4.46  2.80\n",
            "14812   1.20      Ideal     E     SI2   62.5   55.0   5964  6.77  6.84  4.25\n",
            "...      ...        ...   ...     ...    ...    ...    ...   ...   ...   ...\n",
            "27598   2.50    Premium     I     SI2   59.0   60.0  18447  8.76  8.89  5.21\n",
            "39036   0.37      Ideal     G      IF   61.4   55.0   1056  4.63  4.66  2.85\n",
            "21461   1.55  Very Good     E     SI2   59.5   56.0   9557  7.56  7.59  4.51\n",
            "11572   1.02    Premium     F     SI1   59.2   58.0   5038  6.53  6.50  3.86\n",
            "29372   0.31    Premium     E     SI1   59.3   59.0    698  4.48  4.42  2.64\n",
            "\n",
            "[40455 rows x 10 columns]\n"
          ]
        }
      ]
    },
    {
      "cell_type": "markdown",
      "source": [
        "**33)\tContar las filas duplicadas**."
      ],
      "metadata": {
        "id": "l9Kc3Lw_k0fa"
      }
    },
    {
      "cell_type": "code",
      "source": [
        "print(df[df.duplicated()]) #Con este comando, mostramos todas las filas que se encuentran duplicadas."
      ],
      "metadata": {
        "colab": {
          "base_uri": "https://localhost:8080/"
        },
        "id": "_luUfYJmk4CD",
        "outputId": "f5b8d10a-d341-49e5-ef9f-5372fd5ffa69"
      },
      "execution_count": 34,
      "outputs": [
        {
          "output_type": "stream",
          "name": "stdout",
          "text": [
            "       carat    cut color clarity  depth  table  price     x     y     z\n",
            "1005    0.79  Ideal     G     SI1   62.3   57.0   2898  5.90  5.85  3.66\n",
            "1006    0.79  Ideal     G     SI1   62.3   57.0   2898  5.90  5.85  3.66\n",
            "1007    0.79  Ideal     G     SI1   62.3   57.0   2898  5.90  5.85  3.66\n",
            "1008    0.79  Ideal     G     SI1   62.3   57.0   2898  5.90  5.85  3.66\n",
            "2025    1.52   Good     E      I1   57.3   58.0   3105  7.53  7.42  4.28\n",
            "...      ...    ...   ...     ...    ...    ...    ...   ...   ...   ...\n",
            "47969   0.52  Ideal     D     VS2   61.8   55.0   1919  5.19  5.16  3.20\n",
            "49326   0.51  Ideal     F    VVS2   61.2   56.0   2093  5.17  5.19  3.17\n",
            "49557   0.71   Good     F     SI2   64.1   60.0   2130  0.00  0.00  0.00\n",
            "50079   0.51  Ideal     F    VVS2   61.2   56.0   2203  5.19  5.17  3.17\n",
            "52861   0.50   Fair     E     VS2   79.0   73.0   2579  5.21  5.18  4.09\n",
            "\n",
            "[146 rows x 10 columns]\n"
          ]
        }
      ]
    }
  ]
}