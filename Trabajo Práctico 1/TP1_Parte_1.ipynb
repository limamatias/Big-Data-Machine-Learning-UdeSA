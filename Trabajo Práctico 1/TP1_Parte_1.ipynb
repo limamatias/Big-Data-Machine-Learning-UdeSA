{
 "cells": [
  {
   "cell_type": "markdown",
   "metadata": {
    "collapsed": true,
    "id": "Dh8MkXaG-c9Y"
   },
   "source": [
    "# Curso de Big Data\n",
    "\n",
    "## Trabajo Practico 1 - Parte 1\n",
    "## Funciones básicas"
   ]
  },
  {
   "cell_type": "markdown",
   "metadata": {
    "id": "ZXbrPraa-c9i"
   },
   "source": [
    "#### Ejercicio 1\n",
    "Este ejercicio simplemente busca repasar lo que aprendimos sobre definición de variables. Definí tres variables con un nombre combinado (al menos dos palabras): \n",
    "(a) Una siguiendo las buenas prácticas. \n",
    "(b) Hacer lo mismo de manera técnicamente correcta (sin error) pero sin seguir las buenas prácticas. \n",
    "(c) Intentar definir una variable con un nombre inacceptable (genera error)."
   ]
  },
  {
   "cell_type": "code",
   "execution_count": 1,
   "metadata": {
    "colab": {
     "base_uri": "https://localhost:8080/"
    },
    "id": "mb7PkXfN-c9j",
    "outputId": "88958fe0-9369-4acf-d9ba-b55cea637659"
   },
   "outputs": [
    {
     "name": "stdout",
     "output_type": "stream",
     "text": [
      "47.3\n",
      "47.3\n"
     ]
    }
   ],
   "source": [
    "# Caso A: En este caso se usan solamente minúsculas, y se diferencian las palabras con un guión bajo para ganar claridad\n",
    "pob_arg_millones = 47.3\n",
    "print(pob_arg_millones)\n",
    "# Caso B: Acá se usan malas prácticas, usando solamente mayúsculas y con poca claridad con qué significa la variable\n",
    "ARGENTINADATOCENSO = 47.3\n",
    "print(ARGENTINADATOCENSO)\n",
    "# Caso C (acá abajo debería saltar un error): En este caso se deja espacio entre las distintas palabras que definen lo que es la variable. Además, se usa una tilde, algo que Python no reconoce.\n",
    "\n",
    "# POBLACIÓN ARGENTINA MILLONES CENSO2022 = 47.3 "
   ]
  },
  {
   "cell_type": "markdown",
   "metadata": {
    "id": "GlNh0fyv-c9l"
   },
   "source": [
    "#### Ejercicio 2\n",
    "Este ejercicio trata sobre la sustitución de variables y el uso de variables temporales para hacerlo. Las variables temporales y la sustitución de valores termina siendo útil en algunos loops. Los pasos a seguir son: (a) definir variables A y B (cuyos valores buscaremos invertir); (b) definir una variable temporal que resguarde el valor de B; (c) sustitución (asignar B igual a A y también A igual al valor original de B); (d) imprimir valores para verificar."
   ]
  },
  {
   "cell_type": "code",
   "execution_count": 2,
   "metadata": {
    "colab": {
     "base_uri": "https://localhost:8080/"
    },
    "id": "uWalSYFC-c9m",
    "outputId": "d07f3db0-8f80-48c1-eee0-b378af06a223"
   },
   "outputs": [
    {
     "name": "stdout",
     "output_type": "stream",
     "text": [
      "2\n",
      "1\n"
     ]
    }
   ],
   "source": [
    "# a) Definir variables A y B, \n",
    "A = 1\n",
    "B = 2\n",
    "\n",
    "# b) Definir variable temporal \"tmp\" igual a B (la variable, no el valor)\n",
    "tmp = B\n",
    "\n",
    "# c) Ahora sustituir variables: variable B igual a variable A (la variable, no el\n",
    "# valor), y viceversa. Como la variable B fue definida como tmp, asociamos A a tmp, y B a A\n",
    "B = A\n",
    "A = tmp\n",
    "\n",
    "# d) Verificación de resultados: imprimir variables A y B. Al correr este códigose asegura que el cambio de variables haya resultado.\n",
    "print(A)\n",
    "print(B)"
   ]
  },
  {
   "cell_type": "markdown",
   "metadata": {
    "id": "wXhAaRyN-c9p"
   },
   "source": [
    "#### Ejercicio 3\n",
    "Pongamos en práctica el uso de range() en un for loop. \n",
    "\n",
    "Construir un for loop usando un range(). El range debe ser entre los valores que quieran (con una diferencia mínima de 15 entre start y stop), en incrementos de 3 unidades. Dentro del loop, implementar una sentencia condicional que imprimar una leyenda indicando si el input es par o impar.\n",
    "\n",
    "Nota: busquen en internet como usar range(). Ej: https://pynative.com/python-range-function/#h-range-start-stop-step"
   ]
  },
  {
   "cell_type": "code",
   "execution_count": 5,
   "metadata": {
    "colab": {
     "base_uri": "https://localhost:8080/"
    },
    "id": "_oE5sG0c-c9q",
    "outputId": "1da5193f-b604-4db9-e463-e4ea665d5e0b"
   },
   "outputs": [
    {
     "name": "stdout",
     "output_type": "stream",
     "text": [
      "El número 10 es par.\n",
      "El número 13 es impar.\n",
      "El número 16 es par.\n",
      "El número 19 es impar.\n",
      "El número 22 es par.\n",
      "El número 25 es impar.\n"
     ]
    }
   ],
   "source": [
    "# Se empieza en 10 y se termina en 25, yendo de 3 en 3\n",
    "# Para llegar a 25 se debe terminar el loop en 28, y que Python muestre los resultados hasta 25. Luego se necesita una sentencia condicional que avisa si los números que va mostrando el loop son divisibles por 2 y, por lo tanto, si son pares (o lo contrario).\n",
    "for i in range(10, 28, 3):\n",
    "    if i % 2 == 0: \n",
    "      print(\"El número\", i ,\"es par.\")\n",
    "    else: print(\"El número\", i ,\"es impar.\")"
   ]
  },
  {
   "cell_type": "markdown",
   "metadata": {
    "id": "h3g5bXUB-c9u"
   },
   "source": [
    "#### Ejercicio 4\n",
    "Para practicar el uso de condiciones lógicas, construyamos una sentencia condicional que verifique si un año es bisiesto o no. Para que un año sea bisiesto debe cumplir una de dos condiciones:\n",
    "\n",
    "(a) que sea divisible por 400; o\n",
    "\n",
    "(b) que sea divisible por 4 y no sea divisible por 100\n",
    "\n",
    "Nótese que son dos condiciones, dónde la segunda condición tiene dos componentes. Prueben la sentencia con una serie de valores para verificar que funcione."
   ]
  },
  {
   "cell_type": "code",
   "execution_count": 6,
   "metadata": {
    "colab": {
     "base_uri": "https://localhost:8080/"
    },
    "id": "7_MnILdz-c9v",
    "outputId": "019c4fd2-a2d7-4adf-af51-8740ab70767a"
   },
   "outputs": [
    {
     "name": "stdout",
     "output_type": "stream",
     "text": [
      "2010 no es un año bisiesto.\n",
      "2011 no es un año bisiesto.\n",
      "2012 es un año bisiesto.\n",
      "2013 no es un año bisiesto.\n"
     ]
    }
   ],
   "source": [
    "# Se arma una lista de 4 años, donde ya se sabe cuál es bisiesto, verificando que el código esté en lo correcto\n",
    "# Se define primero la lista, luego un for loop y adentro se arma una sentencia condicional en la que en la primera condición se explicitan las 2 condiciones que se pueden cumplir para que un año sea bisiesto. En la segunda, se pide que avise si no se cumple ninguna de las 2, que el año no es bisiesto. \n",
    "\n",
    "anios = [2010, 2011, 2012, 2013]\n",
    "for i in anios:\n",
    "  if i % 400 == 0 or (i % 4 == 0 and i % 100 != 0): #\n",
    "\t  print(i, \"es un año bisiesto.\")\n",
    "  else:\n",
    "\t  print(i, \"no es un año bisiesto.\")"
   ]
  },
  {
   "cell_type": "markdown",
   "metadata": {
    "collapsed": true,
    "id": "P3a7bJkd-c9w"
   },
   "source": [
    "#### Ejercicio 5\n",
    "Pongamos en práctica identificar el type() de cada variable. A continuación tenemos una lista con elementos de diferentes tipos. Construyan un for loop que itere sobre la lista e imprima un cartel indicando el tipo de dato u objeto que hay en cada caso.\n",
    "\n",
    "_Ayuda: hay por lo menos dos maneras de hacer esto. En una se usa una sentencia condicional, en otra hay que usar casteo para evitar un error. Ambas son aceptables._\n"
   ]
  },
  {
   "cell_type": "code",
   "execution_count": 7,
   "metadata": {
    "id": "jDf4d_Wr-c9w"
   },
   "outputs": [],
   "source": [
    "mi_lista = [1,3.4, 5666666666, 'hola', [1,2,3], ('ARG', 45808747), {'pob_arg': 45808747}, True]"
   ]
  },
  {
   "cell_type": "code",
   "execution_count": 9,
   "metadata": {
    "colab": {
     "base_uri": "https://localhost:8080/"
    },
    "id": "SAJgEiNEFQAS",
    "outputId": "138d7569-7988-40b1-9203-04b785f1730d",
    "scrolled": true
   },
   "outputs": [
    {
     "name": "stdout",
     "output_type": "stream",
     "text": [
      "1 es un integer.\n",
      "3.4 es un float.\n",
      "5666666666 es un integer.\n",
      "hola es un string.\n",
      "[1, 2, 3] es una lista.\n",
      "('ARG', 45808747) es una tupla.\n",
      "{'pob_arg': 45808747} es un diccionario.\n",
      "True es un booleano.\n"
     ]
    }
   ],
   "source": [
    "# Para este ejercicio, se realiza un loop en el que damos sentencias condicionales para cada tipo de variables que existen en Python\n",
    "\n",
    "for i in mi_lista:\n",
    "  if type(i) == int:\n",
    "     print(i, \"es un integer.\")\n",
    "  elif type (i) == float:\n",
    "     print(i, \"es un float.\")\n",
    "  elif type(i) == str:\n",
    "    print(i, \"es un string.\")\n",
    "  elif type (i) == list:\n",
    "     print (i, \"es una lista.\")\n",
    "  elif type (i) == dict:\n",
    "      print(i, \"es un diccionario.\")\n",
    "  elif type (i) == bool:\n",
    "      print(i, \"es un booleano.\")  \n",
    "  else:\n",
    "     print(i, \"es una tupla.\")"
   ]
  },
  {
   "cell_type": "markdown",
   "metadata": {
    "id": "y1lncitl-c9x"
   },
   "source": [
    "#### Ejercicio 6\n",
    "Ahora definan ustedes una lista, en la que los primeros 4 elementos sean palabras (strings) la 5ta no sea string, y la 6ta sea string. Construyan un for loop que corra por la lista y que imprima la palabra y la longitud de la misma. Que el loop contenga una sentencia condicional que imprima un cartel \"Elemento no es un string: < el elemento > | < class del elemento >\" para los casos dónde el elemento evaluado no sea string.\n"
   ]
  },
  {
   "cell_type": "code",
   "execution_count": 10,
   "metadata": {
    "colab": {
     "base_uri": "https://localhost:8080/"
    },
    "id": "bFOk9Os0-c9x",
    "outputId": "23e962f6-deb3-4dee-d4ba-2c16c84d71dd"
   },
   "outputs": [
    {
     "name": "stdout",
     "output_type": "stream",
     "text": [
      "El largo de la palabra hola es de 4 letras.\n",
      "El largo de la palabra chau es de 4 letras.\n",
      "El largo de la palabra mañana es de 6 letras.\n",
      "El largo de la palabra cena es de 4 letras.\n",
      "El elemento no es un string, sino que es de tipo  <class 'int'>\n",
      "El largo de la palabra papá es de 4 letras.\n"
     ]
    }
   ],
   "source": [
    "# Al definir una propia lista se sigue la consigna, y luego se arma un loop en el que se indica una sentencia condicional que, si el elemento de la lista es un string, diga la longitud de la palabra. Caso contrario, lo aclara y avisa qué tipo de elemento es.\n",
    "lista_propia = [\"hola\", \"chau\", \"mañana\", \"cena\", 5, \"papá\"]\n",
    "for i in lista_propia:\n",
    "  if type(i) == str:\n",
    "    print(\"El largo de la palabra\", i, \"es de\", len(i), \"letras.\")\n",
    "  else:\n",
    "    print(\"El elemento no es un string, sino que es de tipo \", type(i))"
   ]
  },
  {
   "cell_type": "markdown",
   "metadata": {
    "id": "PUpxDz72-c9x"
   },
   "source": [
    "#### Ejercicio 7\n",
    "Argentina tiene una representación legislativa proporcional en la cual la cantidad de diputados se debería ajustar según el tamaño de población de cada provincia. Otra característica de la representación legislativa del país es que hay una cantidad mínima de diputados por provincia (5). Esto genera un desbalance en la cantidad de ciudadanos por cada representante en el Congreso entre provincias.\n",
    "\n",
    "A continuación preparamos algunos ejemplos, dividiendo la población de cada provincia (según estimación para el 2021) por la cantida de representantes en el Congreso para esa misma jurisdicción. También armamos el equivalente para el total país y una lista con los valores provinciales.\n",
    "\n",
    "En este ejercicio les pedimos que construyan un for loop que itere sobre la lista definida y compare cada valor provincial contra el valor de proporcionalidad directa (la variable argentina). El loop debe imprimir una leyenda que indique si la provincia está sobrerepresentada, subrepresentada o con representación proporcional. Además, queremos que el mismo loop compare los valores de las provincias sobrerepresentadas y que guarde el valor de la provincia con mayor sobrerepresentación. Luego del loop impriman este valor así podemos ver que haya funcionado.\n",
    "\n",
    "_Ayuda: el ejercicio 2 les puede ayudar para resolver parte de este problema._\n",
    "\n",
    "Fuente para población: https://es.wikipedia.org/wiki/Demograf%C3%ADa_de_Argentina\n",
    "\n",
    "Fuente para representantes: https://es.wikipedia.org/wiki/C%C3%A1mara_de_Diputados_de_la_Naci%C3%B3n_Argentina"
   ]
  },
  {
   "cell_type": "code",
   "execution_count": 11,
   "metadata": {
    "id": "hd8Z5AHs-c9y"
   },
   "outputs": [],
   "source": [
    "# valor de referencia: proporcionalidad\n",
    "argentina = 47327407 / 257\n",
    "\n",
    "# se crean variables para una selección de jurisdicciones\n",
    "catamarca = 367820 / 5\n",
    "buenos_aires = 17594428 / 70\n",
    "misiones = 1097829 / 7\n",
    "tierra_del_fuego = 126190 / 5\n",
    "tucuman = 1950878 / 9\n",
    "\n",
    "# se define la lista para iterar\n",
    "lista_provincias = [catamarca, buenos_aires, misiones, tierra_del_fuego, tucuman]"
   ]
  },
  {
   "cell_type": "code",
   "execution_count": 12,
   "metadata": {
    "colab": {
     "base_uri": "https://localhost:8080/"
    },
    "id": "fsEHnxiY-c9y",
    "outputId": "10854bc9-7004-4cf9-d74d-45611293554e"
   },
   "outputs": [
    {
     "name": "stdout",
     "output_type": "stream",
     "text": [
      "La provincia con un diputado cada 73564 habitantes está sobrerepresentada.\n",
      "La provincia con un diputado cada 251349 habitantes está subrepresentada.\n",
      "La provincia con un diputado cada 156833 habitantes está sobrerepresentada.\n",
      "La provincia con un diputado cada 25238 habitantes está sobrerepresentada.\n",
      "La provincia con un diputado cada 216764 habitantes está subrepresentada.\n",
      "La provincia más sobrerepresentada tiene un diputado cada 25238 habitantes.\n"
     ]
    }
   ],
   "source": [
    "# Resolución\n",
    "\n",
    "prov_mas_sobrerep = None # Se crea una variable vacía que nos va a permitir guardar el dato de cuál es la más sobrerepresentada dentro del loop.\n",
    "\n",
    "for i in lista_provincias:\n",
    "  if i > argentina: # Si el número de habitantes por diputado en la provincia \"i\" es mayor al dato \"proporcional\" de Argentina, entonces está subrepresentada.\n",
    "    print(\"La provincia con un diputado cada\", round(i), \"habitantes está subrepresentada.\") # Se usa round para que redondee el número de habitantes hacia el siguiente número entero.\n",
    "  elif i == argentina: # Con elif se plantea la segunda condición en el loop, indicando la condición para que haya una representación proporcional.\n",
    "    print(\"La provincia con un diputado cada\", round(i), \"habitantes tiene representación proporcional.\")\n",
    "  else: # Como ya se cubrieron las otras dos posibilidades, acá directamente se usa else sin plantear nada (está implícito que se tendrá i < argentina)\n",
    "    print(\"La provincia con un diputado cada\", round(i), \"habitantes está sobrerepresentada.\")\n",
    "    if(prov_mas_sobrerep is None or i < prov_mas_sobrerep): # En este caso, se agrega un if para que a la variable prov_mas_sobrerep se le asigne el valor de \"i\" si la variable está vacía (en el caso que sea el primer elemento que llegue a esta parte del loop) o si es menor a la storeada.\n",
    "      prov_mas_sobrerep = i # Si cumple la condición, se asigna el valor de i.\n",
    "  \n",
    "print(\"La provincia más sobrerepresentada tiene un diputado cada\", round(prov_mas_sobrerep), \"habitantes.\")"
   ]
  },
  {
   "cell_type": "markdown",
   "metadata": {
    "id": "GokZe5tV-c9z"
   },
   "source": [
    "#### Ejercicio 8\n",
    "Si buscáramos minimizar la subrepresentación de la provincia de Buenos Aires, ¿cuántos representantes debería tener según el Censo 2022? Usemos el mismo criterio de sub/sobrerepresentacion que en el ejercicio anterior: población sobre cantidad de representantes.\n",
    "\n",
    "Para responder esta pregunta construyan un while loop que incremente de a uno la cantidad de representantes de la Provincia hasta minimizar la subrepresentación. En cada iteración impriman un cartel que diga: \"Se agregó un represntante, el total ahora es X\" dónde X es el número de representantes simulado."
   ]
  },
  {
   "cell_type": "code",
   "execution_count": 13,
   "metadata": {
    "colab": {
     "base_uri": "https://localhost:8080/"
    },
    "id": "x9DvuXa_-c9z",
    "outputId": "daaf87b0-6cc4-4786-d963-f2f2a2685a4f"
   },
   "outputs": [
    {
     "name": "stdout",
     "output_type": "stream",
     "text": [
      "184153.3346303502\n"
     ]
    }
   ],
   "source": [
    "# estos son los valores de la provincia\n",
    "representantes_pba = 70\n",
    "poblacion2010_pba = 17594428\n",
    "\n",
    "# y el valor de referencia nacional\n",
    "argentina = 47327407 / 257\n",
    "print(argentina)"
   ]
  },
  {
   "cell_type": "code",
   "execution_count": 14,
   "metadata": {
    "colab": {
     "base_uri": "https://localhost:8080/"
    },
    "id": "1IwcaYtDQ0ko",
    "outputId": "6d3e23a5-9506-4735-987f-d7a5fc157350"
   },
   "outputs": [
    {
     "name": "stdout",
     "output_type": "stream",
     "text": [
      "Se agregó un representante, el total ahora es  71  y la proporción es de un diputado cada  244367  personas.\n",
      "Se agregó un representante, el total ahora es  72  y la proporción es de un diputado cada  241020  personas.\n",
      "Se agregó un representante, el total ahora es  73  y la proporción es de un diputado cada  237763  personas.\n",
      "Se agregó un representante, el total ahora es  74  y la proporción es de un diputado cada  234592  personas.\n",
      "Se agregó un representante, el total ahora es  75  y la proporción es de un diputado cada  231506  personas.\n",
      "Se agregó un representante, el total ahora es  76  y la proporción es de un diputado cada  228499  personas.\n",
      "Se agregó un representante, el total ahora es  77  y la proporción es de un diputado cada  225570  personas.\n",
      "Se agregó un representante, el total ahora es  78  y la proporción es de un diputado cada  222714  personas.\n",
      "Se agregó un representante, el total ahora es  79  y la proporción es de un diputado cada  219930  personas.\n",
      "Se agregó un representante, el total ahora es  80  y la proporción es de un diputado cada  217215  personas.\n",
      "Se agregó un representante, el total ahora es  81  y la proporción es de un diputado cada  214566  personas.\n",
      "Se agregó un representante, el total ahora es  82  y la proporción es de un diputado cada  211981  personas.\n",
      "Se agregó un representante, el total ahora es  83  y la proporción es de un diputado cada  209457  personas.\n",
      "Se agregó un representante, el total ahora es  84  y la proporción es de un diputado cada  206993  personas.\n",
      "Se agregó un representante, el total ahora es  85  y la proporción es de un diputado cada  204586  personas.\n",
      "Se agregó un representante, el total ahora es  86  y la proporción es de un diputado cada  202235  personas.\n",
      "Se agregó un representante, el total ahora es  87  y la proporción es de un diputado cada  199937  personas.\n",
      "Se agregó un representante, el total ahora es  88  y la proporción es de un diputado cada  197690  personas.\n",
      "Se agregó un representante, el total ahora es  89  y la proporción es de un diputado cada  195494  personas.\n",
      "Se agregó un representante, el total ahora es  90  y la proporción es de un diputado cada  193345  personas.\n",
      "Se agregó un representante, el total ahora es  91  y la proporción es de un diputado cada  191244  personas.\n",
      "Se agregó un representante, el total ahora es  92  y la proporción es de un diputado cada  189187  personas.\n",
      "Se agregó un representante, el total ahora es  93  y la proporción es de un diputado cada  187175  personas.\n",
      "Se agregó un representante, el total ahora es  94  y la proporción es de un diputado cada  185205  personas.\n",
      "Se agregó un representante, el total ahora es  95  y la proporción es de un diputado cada  183275  personas.\n",
      "El total de representantes es  95  y se minimizó la subrepresentación.\n"
     ]
    }
   ],
   "source": [
    "# Primero se define una variable pba que es la proporción de población por representante de la provincia de Buenos Aires\n",
    "pba = poblacion2010_pba / representantes_pba\n",
    "# Ahora se construye un while loop que, mientras la cantidad de población que es representada por un diputado sea mayor que la representación proporcional dada por la variable argentina, vaya sumando diputados de a uno hasta minimizar la subrepresentación.\n",
    "# Además, el loop con cada iteración muestra un cartel que avisa la cantidad de diputados simulados, y cómo va disminuyendo esta subrepresentación. De hecho, dado que sólo se pueden sumar números enteros de diputados, Buenos Aires termina con una representación apenas más alta que la proporcional cuando finaliza el loop. \n",
    "while pba > argentina:\n",
    "    representantes_pba += 1\n",
    "    pba =  poblacion2010_pba / (representantes_pba + 1)\n",
    "    print(\"Se agregó un representante, el total ahora es \", representantes_pba, \" y la proporción es de un diputado cada \", round(pba), \" personas.\")   \n",
    "print(\"El total de representantes es \", representantes_pba, \" y se minimizó la subrepresentación.\")"
   ]
  }
 ],
 "metadata": {
  "anaconda-cloud": {},
  "colab": {
   "name": "TP1 - Parte 1.ipynb",
   "provenance": []
  },
  "kernelspec": {
   "display_name": "Python 3 (ipykernel)",
   "language": "python",
   "name": "python3"
  },
  "language_info": {
   "codemirror_mode": {
    "name": "ipython",
    "version": 3
   },
   "file_extension": ".py",
   "mimetype": "text/x-python",
   "name": "python",
   "nbconvert_exporter": "python",
   "pygments_lexer": "ipython3",
   "version": "3.9.12"
  },
  "varInspector": {
   "cols": {
    "lenName": 16,
    "lenType": 16,
    "lenVar": 40
   },
   "kernels_config": {
    "python": {
     "delete_cmd_postfix": "",
     "delete_cmd_prefix": "del ",
     "library": "var_list.py",
     "varRefreshCmd": "print(var_dic_list())"
    },
    "r": {
     "delete_cmd_postfix": ") ",
     "delete_cmd_prefix": "rm(",
     "library": "var_list.r",
     "varRefreshCmd": "cat(var_dic_list()) "
    }
   },
   "types_to_exclude": [
    "module",
    "function",
    "builtin_function_or_method",
    "instance",
    "_Feature"
   ],
   "window_display": false
  }
 },
 "nbformat": 4,
 "nbformat_minor": 1
}
