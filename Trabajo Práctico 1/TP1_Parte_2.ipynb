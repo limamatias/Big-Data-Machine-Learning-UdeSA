{
 "cells": [
  {
   "cell_type": "markdown",
   "metadata": {},
   "source": [
    "# Curso de Big Data\n",
    "\n",
    "## Trabajo Practico 1 - Parte 2\n",
    "## Análisis de sentimiento de tweets de Joe Biden, pre y post elecciones"
   ]
  },
  {
   "cell_type": "code",
   "execution_count": 2,
   "metadata": {},
   "outputs": [],
   "source": [
    "# Se importan los paquetes a utilizar.\n",
    "\n",
    "import os\n",
    "import re\n",
    "import string\n",
    "from datetime import timezone as tz\n",
    "from datetime import datetime \n",
    "\n",
    "import pandas as pd\n",
    "import tweepy\n",
    "from textblob import TextBlob\n",
    "import nltk\n",
    "#nltk.download('stopwords')\n",
    "#nltk.download('punkt')\n",
    "from nltk.corpus import stopwords\n",
    "from nltk.tokenize import word_tokenize"
   ]
  },
  {
   "cell_type": "markdown",
   "metadata": {},
   "source": [
    "Lo primero que hago es crear un botón que permita esconder todas las celdas que sean código y mostrar todo lo demás si se lo desea. La solución no es original, sino que se obtuvo de una provista por el usuario de Stack Overflow Eric Shepherd en el siguiente link: https://stackoverflow.com/a/53136940"
   ]
  },
  {
   "cell_type": "code",
   "execution_count": 24,
   "metadata": {},
   "outputs": [
    {
     "data": {
      "text/html": [
       "<script>$(\"div.input\").hide()</script>"
      ],
      "text/plain": [
       "<IPython.core.display.HTML object>"
      ]
     },
     "metadata": {},
     "output_type": "display_data"
    },
    {
     "data": {
      "application/vnd.jupyter.widget-view+json": {
       "model_id": "586f6115afe84b88b626c03627bb8fca",
       "version_major": 2,
       "version_minor": 0
      },
      "text/plain": [
       "ToggleButton(value=False, description='Show code')"
      ]
     },
     "metadata": {},
     "output_type": "display_data"
    },
    {
     "data": {
      "text/html": [
       "<script>$(\"div.input\").show()</script>"
      ],
      "text/plain": [
       "<IPython.core.display.HTML object>"
      ]
     },
     "metadata": {},
     "output_type": "display_data"
    }
   ],
   "source": [
    "import ipywidgets as widgets\n",
    "from IPython.display import display, HTML\n",
    "\n",
    "javascript_functions = {False: \"hide()\", True: \"show()\"}\n",
    "button_descriptions  = {False: \"Show code\", True: \"Hide code\"}\n",
    "\n",
    "\n",
    "def toggle_code(state):\n",
    "\n",
    "    \"\"\"\n",
    "    Toggles the JavaScript show()/hide() function on the div.input element.\n",
    "    \"\"\"\n",
    "\n",
    "    output_string = \"<script>$(\\\"div.input\\\").{}</script>\"\n",
    "    output_args   = (javascript_functions[state],)\n",
    "    output        = output_string.format(*output_args)\n",
    "\n",
    "    display(HTML(output))\n",
    "\n",
    "\n",
    "def button_action(value):\n",
    "\n",
    "    \"\"\"\n",
    "    Calls the toggle_code function and updates the button description.\n",
    "    \"\"\"\n",
    "\n",
    "    state = value.new\n",
    "\n",
    "    toggle_code(state)\n",
    "\n",
    "    value.owner.description = button_descriptions[state]\n",
    "\n",
    "\n",
    "state = False\n",
    "toggle_code(state)\n",
    "\n",
    "button = widgets.ToggleButton(state, description = button_descriptions[state])\n",
    "button.observe(button_action, \"value\")\n",
    "\n",
    "display(button)"
   ]
  },
  {
   "cell_type": "markdown",
   "metadata": {},
   "source": [
    "También se suma el siguiente código para ocultar las warnings, entendiendo que las mismas son útiles pero molestas en el caso de una presentación cuando ya se entendió el motivo de las mismas. Por este motivo, también se deja comentada una línea que permite limitar la cantidad de advertencias por acción a 1. "
   ]
  },
  {
   "cell_type": "code",
   "execution_count": 26,
   "metadata": {},
   "outputs": [],
   "source": [
    "import warnings\n",
    "warnings.filterwarnings('ignore')\n",
    "#warnings.filterwarnings(action='once')"
   ]
  },
  {
   "cell_type": "code",
   "execution_count": 3,
   "metadata": {},
   "outputs": [],
   "source": [
    "# Se crean variables que contienen las claves de autenticación en la API de Twitter. \n",
    "\n",
    "# Por razones de seguridad, este archivo no se encuentra subido a GitHub. Sin embargo, esto no obstaculiza la posibilidad de ver el output del código.\n",
    "\n",
    "with open(\"twitter_keys.txt\") as tw_k: \n",
    "    consumer_key = tw_k.readline().strip()\n",
    "    consumer_secret = tw_k.readline().strip()\n",
    "    access_key = tw_k.readline().strip()\n",
    "    access_secret = tw_k.readline().strip()"
   ]
  },
  {
   "cell_type": "code",
   "execution_count": 4,
   "metadata": {},
   "outputs": [],
   "source": [
    "# Tweepy recibe las credenciales de Twitter.\n",
    "\n",
    "auth = tweepy.OAuthHandler(consumer_key, consumer_secret)\n",
    "auth.set_access_token(access_key, access_secret)\n",
    "api = tweepy.API(auth)"
   ]
  },
  {
   "cell_type": "code",
   "execution_count": 6,
   "metadata": {},
   "outputs": [],
   "source": [
    "def get_all_tweets(screen_name, start_date):\n",
    "    '''\n",
    "    Esta funcion recibe el nombre de la persona de quien queremos extraer los \n",
    "    tweets y devuelve una lista con todos los tweets y sus datos\n",
    "    Input: \n",
    "      screen_name (str): el nombre de la persona en twitter\n",
    "      start_date(datetime): fecha desde la que se quieren los tweets\n",
    "    Output:\n",
    "      all_tweets (lista): lista con todos los tweets extraidos\n",
    "    '''\n",
    "    # Solicitamos los 200 tweets mas recientes (200 es el maximo permitido en count)\n",
    "    new_tweets = api.user_timeline(screen_name=screen_name, \n",
    "                                   tweet_mode=\"extended\", count=200)\n",
    "    # Creo una lista vacía para almacenar TODOS los tweets y agrego los recién extraidos (con el método extend)\n",
    "    all_tweets = []\n",
    "    all_tweets.extend(new_tweets)\n",
    "    # guardo el id del ultimo tweet extraído (los id son numéricos y van creciendo en el tiempo, por eso en el loop pedimos que traiga los de id mayor)\n",
    "    oldest = all_tweets[-1].id \n",
    "    \n",
    "    # Extraigo tweets de a 200 hasta que no haya más: le damos 2 puntos para cortar...\n",
    "    # ...el segundo es que siga mientras la fecha del último tweet añadido sea mayor a la que indicamos como start_date, el primero nos dice que en la última consulta haya encontrado algo.\n",
    "    # Algo clave es que el loop funciona desde lo más nuevo y ahí va para atrás: por eso en max_id decimos \"-1\": queremos que siga con la id inmediatamente interior al último tweet añadido.\n",
    "    while len(new_tweets) > 0 and all_tweets[-1].created_at > start_date:\n",
    "        # Solicito 200 tweets mas y los agrego a la lista de 'all_tweets'\n",
    "        new_tweets = api.user_timeline(screen_name=screen_name, count=200,\n",
    "                                       tweet_mode=\"extended\", max_id=oldest-1)\n",
    "        all_tweets.extend(new_tweets)\n",
    "        # actualizo el id del ultimo tweet extraído (indico con el -1 que nos consiga el id del último tweet añadido en all_tweets)\n",
    "        oldest = all_tweets[-1].id \n",
    "        print(\"Hasta ahora se han extraído %s tweets.\" % len(all_tweets))\n",
    "\n",
    "    return all_tweets"
   ]
  },
  {
   "cell_type": "code",
   "execution_count": 7,
   "metadata": {
    "scrolled": false
   },
   "outputs": [
    {
     "name": "stdout",
     "output_type": "stream",
     "text": [
      "Hasta ahora se han extraído 400 tweets.\n",
      "Hasta ahora se han extraído 600 tweets.\n",
      "Hasta ahora se han extraído 800 tweets.\n",
      "Hasta ahora se han extraído 1000 tweets.\n",
      "Hasta ahora se han extraído 1200 tweets.\n",
      "Hasta ahora se han extraído 1400 tweets.\n",
      "Hasta ahora se han extraído 1600 tweets.\n",
      "Hasta ahora se han extraído 1800 tweets.\n",
      "Hasta ahora se han extraído 2000 tweets.\n",
      "Hasta ahora se han extraído 2199 tweets.\n",
      "Hasta ahora se han extraído 2399 tweets.\n",
      "Hasta ahora se han extraído 2599 tweets.\n"
     ]
    }
   ],
   "source": [
    "# Se extran los tweets desde unos días antes de las elecciones del 3 de Noviembre de 2020\n",
    "\n",
    "date_before_elections = datetime(2020, 10, 16, 0, 0, 0, tzinfo=tz.utc) # los 0 son la hora\n",
    "all_tweets_biden = get_all_tweets(\"JoeBiden\", date_before_elections) # nombre y fecha, los argumentos para la función definida"
   ]
  },
  {
   "cell_type": "code",
   "execution_count": 8,
   "metadata": {},
   "outputs": [],
   "source": [
    "def save_tweets_text(all_tweets, csv_file=None):\n",
    "    '''\n",
    "    Esta función guarda los tweets en un data frame y si se especifica un \n",
    "    archivo csv tambien se guardaran ahí \n",
    "    Input:\n",
    "        all_tweets (lista): lista con tweets y sus datos\n",
    "        csv_file ('str'): nombre del archivo csv\n",
    "    Output:\n",
    "        df_all_tweets (df): tweets ordenados en una tabla con datos seleccinados\n",
    "    '''\n",
    "    all_tweets_selection = [] # Lista vacía, es algo que hacemos antes de la iteración de la que queremos guardar resultados\n",
    "    for tweet in all_tweets:\n",
    "        one_tweet = [tweet.id_str, tweet.created_at, tweet.full_text, \n",
    "                     tweet.retweeted, tweet.favorite_count, \n",
    "                     tweet.in_reply_to_screen_name]\n",
    "        all_tweets_selection.append(one_tweet) \n",
    "# Con el append guardamos listas como elemento dentro de la lista. Expand era para sumar la lista al final de la que ya estaba.\n",
    "    \n",
    "    df_all_tweets = pd.DataFrame(all_tweets_selection) # Cada lista se transforma en una fila\n",
    "    df_all_tweets.columns = ['id_str', 'created_at', 'text', 'retweeted',\n",
    "                            'favorite_count', 'in_reply_to_screen_name'] # Acá le damos una lista con el nombre de las columnas\n",
    "    if csv_file: # Este if evalúa si hay algo en csv_file (el default era none, vacío)\n",
    "        df_all_tweets.to_csv(csv_file, index=False, encoding=\"utf-8\")\n",
    "\n",
    "    return df_all_tweets"
   ]
  },
  {
   "cell_type": "code",
   "execution_count": 10,
   "metadata": {
    "scrolled": true
   },
   "outputs": [
    {
     "data": {
      "text/html": [
       "<div>\n",
       "<style scoped>\n",
       "    .dataframe tbody tr th:only-of-type {\n",
       "        vertical-align: middle;\n",
       "    }\n",
       "\n",
       "    .dataframe tbody tr th {\n",
       "        vertical-align: top;\n",
       "    }\n",
       "\n",
       "    .dataframe thead th {\n",
       "        text-align: right;\n",
       "    }\n",
       "</style>\n",
       "<table border=\"1\" class=\"dataframe\">\n",
       "  <thead>\n",
       "    <tr style=\"text-align: right;\">\n",
       "      <th></th>\n",
       "      <th>id_str</th>\n",
       "      <th>created_at</th>\n",
       "      <th>text</th>\n",
       "      <th>retweeted</th>\n",
       "      <th>favorite_count</th>\n",
       "      <th>in_reply_to_screen_name</th>\n",
       "    </tr>\n",
       "  </thead>\n",
       "  <tbody>\n",
       "    <tr>\n",
       "      <th>0</th>\n",
       "      <td>1609580712289525760</td>\n",
       "      <td>2023-01-01 16:02:01+00:00</td>\n",
       "      <td>Happy New Year, folks. \\n\\nI'm more optimistic...</td>\n",
       "      <td>False</td>\n",
       "      <td>27532</td>\n",
       "      <td>None</td>\n",
       "    </tr>\n",
       "    <tr>\n",
       "      <th>1</th>\n",
       "      <td>1609321020476821506</td>\n",
       "      <td>2022-12-31 22:50:05+00:00</td>\n",
       "      <td>We’ve got more work to do, but this year, we s...</td>\n",
       "      <td>False</td>\n",
       "      <td>20649</td>\n",
       "      <td>None</td>\n",
       "    </tr>\n",
       "    <tr>\n",
       "      <th>2</th>\n",
       "      <td>1608976478963736576</td>\n",
       "      <td>2022-12-31 00:01:00+00:00</td>\n",
       "      <td>Starting January 1, seniors on Medicare can’t ...</td>\n",
       "      <td>False</td>\n",
       "      <td>37119</td>\n",
       "      <td>None</td>\n",
       "    </tr>\n",
       "    <tr>\n",
       "      <th>3</th>\n",
       "      <td>1608873646222708737</td>\n",
       "      <td>2022-12-30 17:12:23+00:00</td>\n",
       "      <td>A few great moments from a historic year.\\n\\nI...</td>\n",
       "      <td>False</td>\n",
       "      <td>13499</td>\n",
       "      <td>None</td>\n",
       "    </tr>\n",
       "    <tr>\n",
       "      <th>4</th>\n",
       "      <td>1608600378429394946</td>\n",
       "      <td>2022-12-29 23:06:31+00:00</td>\n",
       "      <td>Reflecting on one of my favorite moments from ...</td>\n",
       "      <td>False</td>\n",
       "      <td>46326</td>\n",
       "      <td>None</td>\n",
       "    </tr>\n",
       "    <tr>\n",
       "      <th>...</th>\n",
       "      <td>...</td>\n",
       "      <td>...</td>\n",
       "      <td>...</td>\n",
       "      <td>...</td>\n",
       "      <td>...</td>\n",
       "      <td>...</td>\n",
       "    </tr>\n",
       "    <tr>\n",
       "      <th>2594</th>\n",
       "      <td>1316487694818500608</td>\n",
       "      <td>2020-10-14 21:15:00+00:00</td>\n",
       "      <td>Rhode Island and Tennessee — early voting has ...</td>\n",
       "      <td>False</td>\n",
       "      <td>12026</td>\n",
       "      <td>None</td>\n",
       "    </tr>\n",
       "    <tr>\n",
       "      <th>2595</th>\n",
       "      <td>1316478131788746756</td>\n",
       "      <td>2020-10-14 20:37:00+00:00</td>\n",
       "      <td>Don't throw away your shot to spend Friday nig...</td>\n",
       "      <td>False</td>\n",
       "      <td>13741</td>\n",
       "      <td>None</td>\n",
       "    </tr>\n",
       "    <tr>\n",
       "      <th>2596</th>\n",
       "      <td>1316463787579502596</td>\n",
       "      <td>2020-10-14 19:40:00+00:00</td>\n",
       "      <td>Today would have been George Floyd’s 47th birt...</td>\n",
       "      <td>False</td>\n",
       "      <td>175809</td>\n",
       "      <td>None</td>\n",
       "    </tr>\n",
       "    <tr>\n",
       "      <th>2597</th>\n",
       "      <td>1316446172521795584</td>\n",
       "      <td>2020-10-14 18:30:00+00:00</td>\n",
       "      <td>Tonight, our campaign will close our books and...</td>\n",
       "      <td>False</td>\n",
       "      <td>9068</td>\n",
       "      <td>None</td>\n",
       "    </tr>\n",
       "    <tr>\n",
       "      <th>2598</th>\n",
       "      <td>1316438873405190145</td>\n",
       "      <td>2020-10-14 18:01:00+00:00</td>\n",
       "      <td>Virginia — your voter registration deadline ha...</td>\n",
       "      <td>False</td>\n",
       "      <td>15310</td>\n",
       "      <td>None</td>\n",
       "    </tr>\n",
       "  </tbody>\n",
       "</table>\n",
       "<p>2599 rows × 6 columns</p>\n",
       "</div>"
      ],
      "text/plain": [
       "                   id_str                created_at  \\\n",
       "0     1609580712289525760 2023-01-01 16:02:01+00:00   \n",
       "1     1609321020476821506 2022-12-31 22:50:05+00:00   \n",
       "2     1608976478963736576 2022-12-31 00:01:00+00:00   \n",
       "3     1608873646222708737 2022-12-30 17:12:23+00:00   \n",
       "4     1608600378429394946 2022-12-29 23:06:31+00:00   \n",
       "...                   ...                       ...   \n",
       "2594  1316487694818500608 2020-10-14 21:15:00+00:00   \n",
       "2595  1316478131788746756 2020-10-14 20:37:00+00:00   \n",
       "2596  1316463787579502596 2020-10-14 19:40:00+00:00   \n",
       "2597  1316446172521795584 2020-10-14 18:30:00+00:00   \n",
       "2598  1316438873405190145 2020-10-14 18:01:00+00:00   \n",
       "\n",
       "                                                   text  retweeted  \\\n",
       "0     Happy New Year, folks. \\n\\nI'm more optimistic...      False   \n",
       "1     We’ve got more work to do, but this year, we s...      False   \n",
       "2     Starting January 1, seniors on Medicare can’t ...      False   \n",
       "3     A few great moments from a historic year.\\n\\nI...      False   \n",
       "4     Reflecting on one of my favorite moments from ...      False   \n",
       "...                                                 ...        ...   \n",
       "2594  Rhode Island and Tennessee — early voting has ...      False   \n",
       "2595  Don't throw away your shot to spend Friday nig...      False   \n",
       "2596  Today would have been George Floyd’s 47th birt...      False   \n",
       "2597  Tonight, our campaign will close our books and...      False   \n",
       "2598  Virginia — your voter registration deadline ha...      False   \n",
       "\n",
       "      favorite_count in_reply_to_screen_name  \n",
       "0              27532                    None  \n",
       "1              20649                    None  \n",
       "2              37119                    None  \n",
       "3              13499                    None  \n",
       "4              46326                    None  \n",
       "...              ...                     ...  \n",
       "2594           12026                    None  \n",
       "2595           13741                    None  \n",
       "2596          175809                    None  \n",
       "2597            9068                    None  \n",
       "2598           15310                    None  \n",
       "\n",
       "[2599 rows x 6 columns]"
      ]
     },
     "execution_count": 10,
     "metadata": {},
     "output_type": "execute_result"
    }
   ],
   "source": [
    "# Se arma el dataframe con todos los tweets de Joe Biden, viéndose el ejemplo de como queda abajo.\n",
    "\n",
    "df_all_tweets = save_tweets_text(all_tweets_biden, \"tweets.csv\")\n",
    "df_all_tweets"
   ]
  },
  {
   "cell_type": "code",
   "execution_count": 11,
   "metadata": {},
   "outputs": [],
   "source": [
    "# Emoticons contentos\n",
    "emoticons_happy = set([\n",
    "    ':-)', ':)', ';)', ':o)', ':]', ':3', ':c)', ':>', '=]', '8)', '=)', ':}',\n",
    "    ':^)', ':-D', ':D', '8-D', '8D', 'x-D', 'xD', 'X-D', 'XD', '=-D', '=D',\n",
    "    '=-3', '=3', ':-))', \":'-)\", \":')\", ':*', ':^*', '>:P', ':-P', ':P', 'X-P',\n",
    "    'x-p', 'xp', 'XP', ':-p', ':p', '=p', ':-b', ':b', '>:)', '>;)', '>:-)',\n",
    "    '<3'\n",
    "    ])\n",
    " \n",
    "# Emoticons Tristes\n",
    "emoticons_sad = set([\n",
    "    ':L', ':-/', '>:/', ':S', '>:[', ':@', ':-(', ':[', ':-||', '=L', ':<',\n",
    "    ':-[', ':-<', '=\\\\', '=/', '>:(', ':(', '>.<', \":'-(\", \":'(\", ':\\\\', ':-c',\n",
    "    ':c', ':{', '>:\\\\', ';('\n",
    "    ])\n",
    "\n",
    "#combine sad and happy emoticons\n",
    "emoticons = emoticons_happy.union(emoticons_sad)"
   ]
  },
  {
   "cell_type": "code",
   "execution_count": 12,
   "metadata": {},
   "outputs": [],
   "source": [
    "#Emoji patterns\n",
    "emoji_pattern = re.compile(\"[\"\n",
    "                           u\"\\U0001F600-\\U0001F64F\"  # emoticons\n",
    "                           u\"\\U0001F300-\\U0001F5FF\"  # simbolos & pictogramas\n",
    "                           u\"\\U0001F680-\\U0001F6FF\"  # transporte & simbolos mapas\n",
    "                           u\"\\U0001F1E0-\\U0001F1FF\"  # banderas (iOS)\n",
    "                           u\"\\U00002702-\\U000027B0\"\n",
    "                           u\"\\U000024C2-\\U0001F251\"\n",
    "                           \"]+\", flags=re.UNICODE)"
   ]
  },
  {
   "cell_type": "code",
   "execution_count": 13,
   "metadata": {},
   "outputs": [],
   "source": [
    "def clean_tweets(tweet):\n",
    "    '''\n",
    "    Esta función limpia el texto del tweet. Elimina emoticones, palabras vacías,\n",
    "    links, indicaciones de retweets, etc. Para dejar en el texto solo las\n",
    "    palabras con mayor contenido.\n",
    "    Input:\n",
    "        tweet (str): Texto del tweet original\n",
    "    Output:\n",
    "        tweet (str): Texto del tweet limpiado\n",
    "    '''\n",
    "    # Paquete re es el de regular expressions, la función sub hace un substring (extrae lo que coincida con el patrón)\n",
    "    # y lo reemplaza por lo que le indicamos (vacío en este caso), y que entonces nos dé el tweet original con el cambio.\n",
    "    \n",
    "    #Elimino caracteres de re-tweets   \n",
    "    tweet = re.sub(r'^RT .*:', '', tweet)\n",
    "    tweet = re.sub(r'@\\S+', '', tweet)\n",
    "    tweet = re.sub(r':', '', tweet)\n",
    "    tweet = re.sub(r'‚Ä¶', '', tweet)\n",
    "    #Reemplazo caracteres non-ASCII con espacio\n",
    "    tweet = re.sub(r'[^\\x00-\\x7F]+',' ', tweet)\n",
    "    #Saco los links\n",
    "    tweet = re.sub(r'https.*', '', tweet)\n",
    "    #Saco los emoji\n",
    "    tweet = emoji_pattern.sub(r'', tweet)\n",
    "    \n",
    "    #Separo los tweets in tokens\n",
    "    word_tokens = word_tokenize(tweet) # Esta es una función que a un string lo parte en tokens (palabras por separado).\n",
    "    #Obtengo set de palabras vacias para luego eliminarlas\n",
    "    stop_words = set(stopwords.words('english')) # Estas stop words son palabras que no dicen nada (las que conectan por ejemplo)\n",
    "    \n",
    "    #loop por las condiciones\n",
    "    filtered_tweet = [] # Creamos lista vacía para las palabras que queremos conservar\n",
    "    for w in word_tokens: # El tweet ya está separado en palabras sueltas\n",
    "        #check tokens against stop words , emoticons and punctuations\n",
    "        if w not in stop_words and w not in emoticons and \\\n",
    "           w not in string.punctuation:\n",
    "            filtered_tweet.append(w) # Si no cumple ninguna de las condiciones, la sumo a la lista.\n",
    "\n",
    "    \n",
    "    return ' '.join(filtered_tweet) \n",
    "# Nos devuelve nuevamente un tweet, pero habiéndole filtrado cosas.\n",
    "# El join las une con un espacio entre ellas (las palabras)"
   ]
  },
  {
   "cell_type": "code",
   "execution_count": 14,
   "metadata": {},
   "outputs": [
    {
     "data": {
      "text/plain": [
       "\"Happy New Year, folks. \\n\\nI'm more optimistic about America's future than I've ever been.\""
      ]
     },
     "execution_count": 14,
     "metadata": {},
     "output_type": "execute_result"
    }
   ],
   "source": [
    "#Ejemplo de un tweet sucio:\n",
    "df_all_tweets.iloc[0]['text']"
   ]
  },
  {
   "cell_type": "code",
   "execution_count": 15,
   "metadata": {},
   "outputs": [
    {
     "data": {
      "text/plain": [
       "\"Happy New Year folks I 'm optimistic America 's future I 've ever\""
      ]
     },
     "execution_count": 15,
     "metadata": {},
     "output_type": "execute_result"
    }
   ],
   "source": [
    "#Ejemplo de un tweet limpio:\n",
    "clean_tweets(df_all_tweets.iloc[0]['text'])"
   ]
  },
  {
   "cell_type": "code",
   "execution_count": 16,
   "metadata": {},
   "outputs": [],
   "source": [
    "def filter_year_and_month(date_tweet, start_time, end_time):\n",
    "    '''\n",
    "    Recibe una fecha y devuelve True, si la fecha de la fila esta \n",
    "    dentro de los dias especificados como inicio y fin, caso \n",
    "    contrario False.\n",
    "    '''\n",
    "    dd = pd.to_datetime(date_tweet).date()\n",
    "    return dd > start_time and dd < end_time\n",
    " "
   ]
  },
  {
   "cell_type": "code",
   "execution_count": 19,
   "metadata": {},
   "outputs": [],
   "source": [
    "def generate_sentiment(texto):\n",
    "    '''\n",
    "    Esta funcion limpia el texto y analiza el sentimiento.\n",
    "    Input:\n",
    "        texto (str): texto a limpiar y analizar\n",
    "    Output:\n",
    "         polarity (float): en el rango [-1.0, 1.0] \n",
    "         subjectivity (float): en el rango [0.0, 1.0] \n",
    "    '''\n",
    "    # Se limpia el texto del tweet\n",
    "    filtered_tweet = clean_tweets(texto)\n",
    "    # Se calcula el sentimiento con el metodo TextBlob\n",
    "    blob = TextBlob(filtered_tweet)\n",
    "    Sentiment = blob.sentiment # El sentiment se define por su polarity y subjectivity, definidos como están abajo.\n",
    "\n",
    "    polarity = Sentiment.polarity\n",
    "    subjectivity = Sentiment.subjectivity            \n",
    "\n",
    "    return polarity, subjectivity\n",
    "    "
   ]
  },
  {
   "cell_type": "markdown",
   "metadata": {},
   "source": [
    "Polarity: Negative (-1.0) vs. Positive (1.0)\n",
    "\n",
    "Subjectivity: Objective (0.0) vs. Subjective (1.0)"
   ]
  },
  {
   "cell_type": "code",
   "execution_count": 20,
   "metadata": {},
   "outputs": [],
   "source": [
    "def add_sentiment(df, start_time, end_time):\n",
    "    '''\n",
    "    Esta funcion filtra los tweets entre las fechas de inicio y fin\n",
    "    indicadas y agrega dos columnas, una de polarity y otra de subjectivity.\n",
    "    Input:\n",
    "        df (dataframe): tabla con los tweets en una columa llamada text\n",
    "        start_time (datetime): fecha del tweet más antiguo a conservar\n",
    "        end_time (datetime): fecha del tweet más reciente a conservar\n",
    "    Output:\n",
    "        df (dataframe): df actualizado con el filtro y nuevas columnas\n",
    "    '''\n",
    "    df = df[df.apply(lambda row: filter_year_and_month(row['created_at'], \n",
    "                                                start_time, end_time), axis=1)]\n",
    "# Se pide que agregue dos columnas nuevas y las llene con lo que da generate_sentiment\n",
    "    df[[\"polarity\", \"subjectivity\"]] = pd.DataFrame(df.apply(lambda row: \\\n",
    "                                            generate_sentiment(row['text']), \\\n",
    "                                            axis=1).tolist(), index=df.index)\n",
    "    \n",
    "    return df"
   ]
  },
  {
   "cell_type": "code",
   "execution_count": 22,
   "metadata": {},
   "outputs": [],
   "source": [
    "# Se construyen las variables para la fecha inicial y la fecha final.\n",
    "start_time = datetime.strptime(\"2020-10-20\", '%Y-%m-%d').date()\n",
    "end_time = datetime.strptime(\"2020-11-18\", '%Y-%m-%d').date()"
   ]
  },
  {
   "cell_type": "code",
   "execution_count": 28,
   "metadata": {},
   "outputs": [
    {
     "data": {
      "text/html": [
       "<div>\n",
       "<style scoped>\n",
       "    .dataframe tbody tr th:only-of-type {\n",
       "        vertical-align: middle;\n",
       "    }\n",
       "\n",
       "    .dataframe tbody tr th {\n",
       "        vertical-align: top;\n",
       "    }\n",
       "\n",
       "    .dataframe thead th {\n",
       "        text-align: right;\n",
       "    }\n",
       "</style>\n",
       "<table border=\"1\" class=\"dataframe\">\n",
       "  <thead>\n",
       "    <tr style=\"text-align: right;\">\n",
       "      <th></th>\n",
       "      <th>id_str</th>\n",
       "      <th>created_at</th>\n",
       "      <th>text</th>\n",
       "      <th>retweeted</th>\n",
       "      <th>favorite_count</th>\n",
       "      <th>in_reply_to_screen_name</th>\n",
       "      <th>polarity</th>\n",
       "      <th>subjectivity</th>\n",
       "    </tr>\n",
       "  </thead>\n",
       "  <tbody>\n",
       "    <tr>\n",
       "      <th>1990</th>\n",
       "      <td>1328837822950752259</td>\n",
       "      <td>2020-11-17 23:10:00+00:00</td>\n",
       "      <td>Today, @KamalaHarris and I met with some of ou...</td>\n",
       "      <td>False</td>\n",
       "      <td>107196</td>\n",
       "      <td>None</td>\n",
       "      <td>0.500000</td>\n",
       "      <td>0.700000</td>\n",
       "    </tr>\n",
       "    <tr>\n",
       "      <th>1991</th>\n",
       "      <td>1328790008963227649</td>\n",
       "      <td>2020-11-17 20:00:00+00:00</td>\n",
       "      <td>I’m keeping in my prayers all of our friends a...</td>\n",
       "      <td>False</td>\n",
       "      <td>245743</td>\n",
       "      <td>None</td>\n",
       "      <td>0.266667</td>\n",
       "      <td>0.583333</td>\n",
       "    </tr>\n",
       "    <tr>\n",
       "      <th>1992</th>\n",
       "      <td>1328734005404061701</td>\n",
       "      <td>2020-11-17 16:17:28+00:00</td>\n",
       "      <td>RT @Transition46: Our White House senior staff...</td>\n",
       "      <td>False</td>\n",
       "      <td>0</td>\n",
       "      <td>None</td>\n",
       "      <td>0.000000</td>\n",
       "      <td>0.000000</td>\n",
       "    </tr>\n",
       "    <tr>\n",
       "      <th>1993</th>\n",
       "      <td>1328474177007972354</td>\n",
       "      <td>2020-11-16 23:05:00+00:00</td>\n",
       "      <td>Americans want us to cooperate. They want us t...</td>\n",
       "      <td>False</td>\n",
       "      <td>122258</td>\n",
       "      <td>None</td>\n",
       "      <td>0.500000</td>\n",
       "      <td>0.812500</td>\n",
       "    </tr>\n",
       "    <tr>\n",
       "      <th>1994</th>\n",
       "      <td>1328467885279375361</td>\n",
       "      <td>2020-11-16 22:40:00+00:00</td>\n",
       "      <td>When we build back better, we will do so with ...</td>\n",
       "      <td>False</td>\n",
       "      <td>179988</td>\n",
       "      <td>None</td>\n",
       "      <td>0.250000</td>\n",
       "      <td>0.285714</td>\n",
       "    </tr>\n",
       "    <tr>\n",
       "      <th>...</th>\n",
       "      <td>...</td>\n",
       "      <td>...</td>\n",
       "      <td>...</td>\n",
       "      <td>...</td>\n",
       "      <td>...</td>\n",
       "      <td>...</td>\n",
       "      <td>...</td>\n",
       "      <td>...</td>\n",
       "    </tr>\n",
       "    <tr>\n",
       "      <th>2479</th>\n",
       "      <td>1318937589097717760</td>\n",
       "      <td>2020-10-21 15:30:00+00:00</td>\n",
       "      <td>Justice is on the ballot.\\n\\nhttps://t.co/eoxT...</td>\n",
       "      <td>False</td>\n",
       "      <td>21675</td>\n",
       "      <td>None</td>\n",
       "      <td>0.000000</td>\n",
       "      <td>0.000000</td>\n",
       "    </tr>\n",
       "    <tr>\n",
       "      <th>2480</th>\n",
       "      <td>1318919971653578752</td>\n",
       "      <td>2020-10-21 14:20:00+00:00</td>\n",
       "      <td>West Virginia — in-person early voting is now ...</td>\n",
       "      <td>False</td>\n",
       "      <td>16371</td>\n",
       "      <td>None</td>\n",
       "      <td>0.050000</td>\n",
       "      <td>0.400000</td>\n",
       "    </tr>\n",
       "    <tr>\n",
       "      <th>2481</th>\n",
       "      <td>1318915442153562115</td>\n",
       "      <td>2020-10-21 14:02:00+00:00</td>\n",
       "      <td>Missouri — today is the last day to request a ...</td>\n",
       "      <td>False</td>\n",
       "      <td>13125</td>\n",
       "      <td>None</td>\n",
       "      <td>0.000000</td>\n",
       "      <td>0.066667</td>\n",
       "    </tr>\n",
       "    <tr>\n",
       "      <th>2482</th>\n",
       "      <td>1318753877076881408</td>\n",
       "      <td>2020-10-21 03:20:00+00:00</td>\n",
       "      <td>It’s time we see each other as fellow American...</td>\n",
       "      <td>False</td>\n",
       "      <td>101824</td>\n",
       "      <td>None</td>\n",
       "      <td>0.318182</td>\n",
       "      <td>0.550000</td>\n",
       "    </tr>\n",
       "    <tr>\n",
       "      <th>2483</th>\n",
       "      <td>1318714870024540160</td>\n",
       "      <td>2020-10-21 00:45:00+00:00</td>\n",
       "      <td>I’ve always believed we’re at our best when we...</td>\n",
       "      <td>False</td>\n",
       "      <td>113271</td>\n",
       "      <td>None</td>\n",
       "      <td>0.464286</td>\n",
       "      <td>0.257143</td>\n",
       "    </tr>\n",
       "  </tbody>\n",
       "</table>\n",
       "<p>494 rows × 8 columns</p>\n",
       "</div>"
      ],
      "text/plain": [
       "                   id_str                created_at  \\\n",
       "1990  1328837822950752259 2020-11-17 23:10:00+00:00   \n",
       "1991  1328790008963227649 2020-11-17 20:00:00+00:00   \n",
       "1992  1328734005404061701 2020-11-17 16:17:28+00:00   \n",
       "1993  1328474177007972354 2020-11-16 23:05:00+00:00   \n",
       "1994  1328467885279375361 2020-11-16 22:40:00+00:00   \n",
       "...                   ...                       ...   \n",
       "2479  1318937589097717760 2020-10-21 15:30:00+00:00   \n",
       "2480  1318919971653578752 2020-10-21 14:20:00+00:00   \n",
       "2481  1318915442153562115 2020-10-21 14:02:00+00:00   \n",
       "2482  1318753877076881408 2020-10-21 03:20:00+00:00   \n",
       "2483  1318714870024540160 2020-10-21 00:45:00+00:00   \n",
       "\n",
       "                                                   text  retweeted  \\\n",
       "1990  Today, @KamalaHarris and I met with some of ou...      False   \n",
       "1991  I’m keeping in my prayers all of our friends a...      False   \n",
       "1992  RT @Transition46: Our White House senior staff...      False   \n",
       "1993  Americans want us to cooperate. They want us t...      False   \n",
       "1994  When we build back better, we will do so with ...      False   \n",
       "...                                                 ...        ...   \n",
       "2479  Justice is on the ballot.\\n\\nhttps://t.co/eoxT...      False   \n",
       "2480  West Virginia — in-person early voting is now ...      False   \n",
       "2481  Missouri — today is the last day to request a ...      False   \n",
       "2482  It’s time we see each other as fellow American...      False   \n",
       "2483  I’ve always believed we’re at our best when we...      False   \n",
       "\n",
       "      favorite_count in_reply_to_screen_name  polarity  subjectivity  \n",
       "1990          107196                    None  0.500000      0.700000  \n",
       "1991          245743                    None  0.266667      0.583333  \n",
       "1992               0                    None  0.000000      0.000000  \n",
       "1993          122258                    None  0.500000      0.812500  \n",
       "1994          179988                    None  0.250000      0.285714  \n",
       "...              ...                     ...       ...           ...  \n",
       "2479           21675                    None  0.000000      0.000000  \n",
       "2480           16371                    None  0.050000      0.400000  \n",
       "2481           13125                    None  0.000000      0.066667  \n",
       "2482          101824                    None  0.318182      0.550000  \n",
       "2483          113271                    None  0.464286      0.257143  \n",
       "\n",
       "[494 rows x 8 columns]"
      ]
     },
     "execution_count": 28,
     "metadata": {},
     "output_type": "execute_result"
    }
   ],
   "source": [
    "# Se muestra el nivel de polarización y subjetividad de los diferentes tweets.\n",
    "\n",
    "tweets_sentimiento = add_sentiment(df_all_tweets, start_time, end_time)\n",
    "tweets_sentimiento"
   ]
  },
  {
   "cell_type": "markdown",
   "metadata": {
    "tags": []
   },
   "source": [
    "#### Ejercicio 1: \n",
    "Impriman algunos de los tweets más negativos (filtrando por la columna de `polarity`) y su fecha"
   ]
  },
  {
   "cell_type": "code",
   "execution_count": 30,
   "metadata": {},
   "outputs": [
    {
     "name": "stdout",
     "output_type": "stream",
     "text": [
      "El día 2020-11-03 Joe Biden twitteó: After tonight's horrific terrorist attack in Vienna, Austria, Jill and I are keeping the victims and their families in our prayers. We must all stand united against hate and violence.\n",
      "El día 2020-11-11 Joe Biden twitteó: If you’re sick, if you’re struggling, if you’re worried about how you’re going to get through the day — we will not abandon you.\n",
      "\n",
      "We will not leave you to face these challenges alone. https://t.co/eZUHaFE5bl\n",
      "El día 2020-11-13 Joe Biden twitteó: Today marks five years since the horrific ISIS terrorist attacks in Paris — an assault not just on the people of France but against our common humanity.\n",
      "\n",
      "As president, I will work to protect Americans and our allies, countering terrorism and extremist violence in all forms.\n",
      "El día 2020-11-01 Joe Biden twitteó: The hard truth is that under President Trump, we’ve become weaker, sicker, poorer, more divided, and more violent.\n",
      "El día 2020-10-23 Joe Biden twitteó: He’s a confused guy. He doesn’t know who he’s running against. He’s running against Joe Biden.\n"
     ]
    }
   ],
   "source": [
    "tweets_negativos = tweets_sentimiento[['created_at', 'text', 'polarity']].sort_values(\"polarity\") #con esta línea se define un nuevo dataframe compuesto por tres columnas del original. La función .sort_values permite ordenar el nuevo dataframe en orden ascendente según el nivel de polarización.\n",
    "\n",
    "# Se genera una nueva columna llamada \"fecha\" donde solo se separan el año, mes y día de cada tweet. \n",
    "tweets_negativos[\"fecha\"] = tweets_negativos[\"created_at\"].astype(str).str.slice(0,10)\n",
    "\n",
    "tweets_negativos_head = tweets_negativos.head()\n",
    "\n",
    "# Se crea una lista con números del 0 al 4 por la cantidad de tweets en el dataframe creado en el paso anterior.\n",
    "mi_lista = [0,1,2,3,4]\n",
    "\n",
    "# Se arma un loop para que imprima únicamente las columnas de fecha y texto de cada uno de los cinco tweets más negativos.\n",
    "\n",
    "for i in mi_lista:\n",
    "    print(\"El día\", tweets_negativos_head.iloc[i]['fecha'], \"Joe Biden twitteó:\",tweets_negativos_head.iloc[i]['text'])"
   ]
  },
  {
   "cell_type": "markdown",
   "metadata": {
    "tags": []
   },
   "source": [
    "#### Ejercicio 2: \n",
    "Impriman algunos de los tweets más positivos (filtrando por la columna de `polarity`) y su fecha"
   ]
  },
  {
   "cell_type": "code",
   "execution_count": 31,
   "metadata": {},
   "outputs": [
    {
     "name": "stdout",
     "output_type": "stream",
     "text": [
      "El día 2020-10-29 Joe Biden twitteó: Christen — tell your grandmother I’m incredibly grateful to have her support, and thank you for helping her cast her ballot. https://t.co/zRKbAPvqgF\n",
      "El día 2020-11-16 Joe Biden twitteó: Once again, I congratulate the brilliant women and men who produced this breakthrough and have brought us one step closer to beating this virus. I am also thankful for the frontline workers who are still confronting the virus around the clock.\n",
      "El día 2020-11-08 Joe Biden twitteó: Now that the campaign is over—what is the people’s will? What is our mandate?\n",
      "\n",
      "I believe it is this: Americans have called on us to marshal the forces of decency and the forces of fairness. To marshal the forces of science and the forces of hope in the great battles of our time.\n",
      "El día 2020-11-04 Joe Biden twitteó: Keep the faith, guys. We’re gonna win this.\n",
      "El día 2020-11-02 Joe Biden twitteó: 1 day. Let’s win this thing.\n"
     ]
    }
   ],
   "source": [
    "# En este ejercicio se repite el procedimiento anterior, pero de forma inversa, buscando los cinco tweets más positivos.\n",
    "\n",
    "tweets_positivos = tweets_sentimiento[['created_at', 'text', 'polarity']].sort_values(\"polarity\", ascending=False)\n",
    "tweets_positivos[\"fecha\"] = tweets_positivos[\"created_at\"].astype(str).str.slice(0,10)\n",
    "tweets_positivos_head = tweets_positivos.head()\n",
    "for i in mi_lista:\n",
    "    print(\"El día\", tweets_positivos_head.iloc[i]['fecha'], \"Joe Biden twitteó:\",tweets_positivos_head.iloc[i]['text'])"
   ]
  },
  {
   "cell_type": "markdown",
   "metadata": {},
   "source": [
    "###### Ejercicio 3: \n",
    "Agreguenle al df llamado `tweets_sentimiento` una nueva columna llamada `positivo` que tenga:\n",
    "- 1 cuando el tweet tiene polarity > 0, \n",
    "- 0 cuando el tweet tiene polarity = 0, \n",
    "- -1 cuando el tweet tiene polarity < 0 "
   ]
  },
  {
   "cell_type": "code",
   "execution_count": 32,
   "metadata": {},
   "outputs": [
    {
     "data": {
      "text/html": [
       "<div>\n",
       "<style scoped>\n",
       "    .dataframe tbody tr th:only-of-type {\n",
       "        vertical-align: middle;\n",
       "    }\n",
       "\n",
       "    .dataframe tbody tr th {\n",
       "        vertical-align: top;\n",
       "    }\n",
       "\n",
       "    .dataframe thead th {\n",
       "        text-align: right;\n",
       "    }\n",
       "</style>\n",
       "<table border=\"1\" class=\"dataframe\">\n",
       "  <thead>\n",
       "    <tr style=\"text-align: right;\">\n",
       "      <th></th>\n",
       "      <th>id_str</th>\n",
       "      <th>created_at</th>\n",
       "      <th>text</th>\n",
       "      <th>retweeted</th>\n",
       "      <th>favorite_count</th>\n",
       "      <th>in_reply_to_screen_name</th>\n",
       "      <th>polarity</th>\n",
       "      <th>subjectivity</th>\n",
       "      <th>positivo</th>\n",
       "    </tr>\n",
       "  </thead>\n",
       "  <tbody>\n",
       "    <tr>\n",
       "      <th>1990</th>\n",
       "      <td>1328837822950752259</td>\n",
       "      <td>2020-11-17 23:10:00+00:00</td>\n",
       "      <td>Today, @KamalaHarris and I met with some of ou...</td>\n",
       "      <td>False</td>\n",
       "      <td>107196</td>\n",
       "      <td>None</td>\n",
       "      <td>0.500000</td>\n",
       "      <td>0.700000</td>\n",
       "      <td>1</td>\n",
       "    </tr>\n",
       "    <tr>\n",
       "      <th>1991</th>\n",
       "      <td>1328790008963227649</td>\n",
       "      <td>2020-11-17 20:00:00+00:00</td>\n",
       "      <td>I’m keeping in my prayers all of our friends a...</td>\n",
       "      <td>False</td>\n",
       "      <td>245743</td>\n",
       "      <td>None</td>\n",
       "      <td>0.266667</td>\n",
       "      <td>0.583333</td>\n",
       "      <td>1</td>\n",
       "    </tr>\n",
       "    <tr>\n",
       "      <th>1992</th>\n",
       "      <td>1328734005404061701</td>\n",
       "      <td>2020-11-17 16:17:28+00:00</td>\n",
       "      <td>RT @Transition46: Our White House senior staff...</td>\n",
       "      <td>False</td>\n",
       "      <td>0</td>\n",
       "      <td>None</td>\n",
       "      <td>0.000000</td>\n",
       "      <td>0.000000</td>\n",
       "      <td>0</td>\n",
       "    </tr>\n",
       "    <tr>\n",
       "      <th>1993</th>\n",
       "      <td>1328474177007972354</td>\n",
       "      <td>2020-11-16 23:05:00+00:00</td>\n",
       "      <td>Americans want us to cooperate. They want us t...</td>\n",
       "      <td>False</td>\n",
       "      <td>122258</td>\n",
       "      <td>None</td>\n",
       "      <td>0.500000</td>\n",
       "      <td>0.812500</td>\n",
       "      <td>1</td>\n",
       "    </tr>\n",
       "    <tr>\n",
       "      <th>1994</th>\n",
       "      <td>1328467885279375361</td>\n",
       "      <td>2020-11-16 22:40:00+00:00</td>\n",
       "      <td>When we build back better, we will do so with ...</td>\n",
       "      <td>False</td>\n",
       "      <td>179988</td>\n",
       "      <td>None</td>\n",
       "      <td>0.250000</td>\n",
       "      <td>0.285714</td>\n",
       "      <td>1</td>\n",
       "    </tr>\n",
       "    <tr>\n",
       "      <th>...</th>\n",
       "      <td>...</td>\n",
       "      <td>...</td>\n",
       "      <td>...</td>\n",
       "      <td>...</td>\n",
       "      <td>...</td>\n",
       "      <td>...</td>\n",
       "      <td>...</td>\n",
       "      <td>...</td>\n",
       "      <td>...</td>\n",
       "    </tr>\n",
       "    <tr>\n",
       "      <th>2479</th>\n",
       "      <td>1318937589097717760</td>\n",
       "      <td>2020-10-21 15:30:00+00:00</td>\n",
       "      <td>Justice is on the ballot.\\n\\nhttps://t.co/eoxT...</td>\n",
       "      <td>False</td>\n",
       "      <td>21675</td>\n",
       "      <td>None</td>\n",
       "      <td>0.000000</td>\n",
       "      <td>0.000000</td>\n",
       "      <td>0</td>\n",
       "    </tr>\n",
       "    <tr>\n",
       "      <th>2480</th>\n",
       "      <td>1318919971653578752</td>\n",
       "      <td>2020-10-21 14:20:00+00:00</td>\n",
       "      <td>West Virginia — in-person early voting is now ...</td>\n",
       "      <td>False</td>\n",
       "      <td>16371</td>\n",
       "      <td>None</td>\n",
       "      <td>0.050000</td>\n",
       "      <td>0.400000</td>\n",
       "      <td>1</td>\n",
       "    </tr>\n",
       "    <tr>\n",
       "      <th>2481</th>\n",
       "      <td>1318915442153562115</td>\n",
       "      <td>2020-10-21 14:02:00+00:00</td>\n",
       "      <td>Missouri — today is the last day to request a ...</td>\n",
       "      <td>False</td>\n",
       "      <td>13125</td>\n",
       "      <td>None</td>\n",
       "      <td>0.000000</td>\n",
       "      <td>0.066667</td>\n",
       "      <td>0</td>\n",
       "    </tr>\n",
       "    <tr>\n",
       "      <th>2482</th>\n",
       "      <td>1318753877076881408</td>\n",
       "      <td>2020-10-21 03:20:00+00:00</td>\n",
       "      <td>It’s time we see each other as fellow American...</td>\n",
       "      <td>False</td>\n",
       "      <td>101824</td>\n",
       "      <td>None</td>\n",
       "      <td>0.318182</td>\n",
       "      <td>0.550000</td>\n",
       "      <td>1</td>\n",
       "    </tr>\n",
       "    <tr>\n",
       "      <th>2483</th>\n",
       "      <td>1318714870024540160</td>\n",
       "      <td>2020-10-21 00:45:00+00:00</td>\n",
       "      <td>I’ve always believed we’re at our best when we...</td>\n",
       "      <td>False</td>\n",
       "      <td>113271</td>\n",
       "      <td>None</td>\n",
       "      <td>0.464286</td>\n",
       "      <td>0.257143</td>\n",
       "      <td>1</td>\n",
       "    </tr>\n",
       "  </tbody>\n",
       "</table>\n",
       "<p>494 rows × 9 columns</p>\n",
       "</div>"
      ],
      "text/plain": [
       "                   id_str                created_at  \\\n",
       "1990  1328837822950752259 2020-11-17 23:10:00+00:00   \n",
       "1991  1328790008963227649 2020-11-17 20:00:00+00:00   \n",
       "1992  1328734005404061701 2020-11-17 16:17:28+00:00   \n",
       "1993  1328474177007972354 2020-11-16 23:05:00+00:00   \n",
       "1994  1328467885279375361 2020-11-16 22:40:00+00:00   \n",
       "...                   ...                       ...   \n",
       "2479  1318937589097717760 2020-10-21 15:30:00+00:00   \n",
       "2480  1318919971653578752 2020-10-21 14:20:00+00:00   \n",
       "2481  1318915442153562115 2020-10-21 14:02:00+00:00   \n",
       "2482  1318753877076881408 2020-10-21 03:20:00+00:00   \n",
       "2483  1318714870024540160 2020-10-21 00:45:00+00:00   \n",
       "\n",
       "                                                   text  retweeted  \\\n",
       "1990  Today, @KamalaHarris and I met with some of ou...      False   \n",
       "1991  I’m keeping in my prayers all of our friends a...      False   \n",
       "1992  RT @Transition46: Our White House senior staff...      False   \n",
       "1993  Americans want us to cooperate. They want us t...      False   \n",
       "1994  When we build back better, we will do so with ...      False   \n",
       "...                                                 ...        ...   \n",
       "2479  Justice is on the ballot.\\n\\nhttps://t.co/eoxT...      False   \n",
       "2480  West Virginia — in-person early voting is now ...      False   \n",
       "2481  Missouri — today is the last day to request a ...      False   \n",
       "2482  It’s time we see each other as fellow American...      False   \n",
       "2483  I’ve always believed we’re at our best when we...      False   \n",
       "\n",
       "      favorite_count in_reply_to_screen_name  polarity  subjectivity  positivo  \n",
       "1990          107196                    None  0.500000      0.700000         1  \n",
       "1991          245743                    None  0.266667      0.583333         1  \n",
       "1992               0                    None  0.000000      0.000000         0  \n",
       "1993          122258                    None  0.500000      0.812500         1  \n",
       "1994          179988                    None  0.250000      0.285714         1  \n",
       "...              ...                     ...       ...           ...       ...  \n",
       "2479           21675                    None  0.000000      0.000000         0  \n",
       "2480           16371                    None  0.050000      0.400000         1  \n",
       "2481           13125                    None  0.000000      0.066667         0  \n",
       "2482          101824                    None  0.318182      0.550000         1  \n",
       "2483          113271                    None  0.464286      0.257143         1  \n",
       "\n",
       "[494 rows x 9 columns]"
      ]
     },
     "execution_count": 32,
     "metadata": {},
     "output_type": "execute_result"
    }
   ],
   "source": [
    "# Ahora se agrega una nueva columna al dataframe original, definida usando una función lambda que permite de forma sencilla resumir las sentencias que determinan los valores con los que se llenará la nueva columna\n",
    "\n",
    "tweets_sentimiento[\"positivo\"] = tweets_sentimiento[\"polarity\"].apply(lambda x: 1 if x > 0 else (-1 if x < 0 else 0))\n",
    "tweets_sentimiento"
   ]
  },
  {
   "cell_type": "markdown",
   "metadata": {},
   "source": [
    "#### Ejercicio 4: \n",
    "Agrupen los tweets por día y promedien la polaridad. Luego hagan un gráfico con el sentimiento por día."
   ]
  },
  {
   "cell_type": "code",
   "execution_count": 33,
   "metadata": {},
   "outputs": [
    {
     "data": {
      "image/png": "[encoded data removed]",
      "text/plain": [
       "<Figure size 432x288 with 1 Axes>"
      ]
     },
     "metadata": {
      "needs_background": "light"
     },
     "output_type": "display_data"
    }
   ],
   "source": [
    "# Se importa el módulo pyplot del paquete matplotlib.\n",
    "import matplotlib.pyplot as plt\n",
    "\n",
    "# Se genera una nueva columna llamada \"fecha\" donde solo se separan el año, mes y día de cada tweet. \n",
    "tweets_sentimiento[\"fecha\"] = tweets_sentimiento[\"created_at\"].astype(str).str.slice(0,10) \n",
    "\n",
    "# Se realiza un group-by para agrupar las observaciones por su fecha, generando un promedio de la variable polarity para cada día.\n",
    "tweets_sentimiento_group = tweets_sentimiento.groupby(\"fecha\").agg({\"polarity\":\"mean\"})\n",
    "\n",
    "# Se resetean las ID en el nuevo df, ya que cambió la cantidad de filas.\n",
    "tweets_sentimiento_group.reset_index(inplace=True)\n",
    "\n",
    "# Se definen las variables para el eje X (fecha) y para el eje Y (polarización).\n",
    "x = tweets_sentimiento_group[\"fecha\"]\n",
    "y = tweets_sentimiento_group[\"polarity\"]\n",
    "\n",
    "# Se define  el objeto que va a almacenar nuestro gráfico.\n",
    "fig = plt.plot(x, y, label=\"Sentimiento\")\n",
    "\n",
    "plt.xlabel(\"Fecha\") # Se cambia la leyenda del eje X.\n",
    "plt.ylabel(\"Polaridad\") # Se cambia la leyenda del eje Y.\n",
    "plt.title(\"Grado de polaridad para tweets de Biden\") # Título del gráfico.\n",
    "plt.xticks(rotation =45) # Se rotan las fechas del eje X para que no se solapen tanto.\n",
    "\n",
    "plt.legend() # Se pide que se muestre la leyenda del gráfico.\n",
    "plt.show(fig) # Se muestra el gráfico."
   ]
  },
  {
   "cell_type": "markdown",
   "metadata": {},
   "source": [
    "#### Repaso del análisis de sentimiento: \n",
    "Por último, los invito a que exploren el análisis de sentimiento de forma teórica y práctica:\n",
    "- Revisen la documentación de `TextBlob` y del método `sentiment` https://textblob.readthedocs.io/en/dev/ \n",
    "- Prueben en la practica el resultado que arroja para determinadas frases (les dejo unos ejemplos, pero pueden probar los que quieran)\n"
   ]
  },
  {
   "cell_type": "code",
   "execution_count": 34,
   "metadata": {},
   "outputs": [
    {
     "data": {
      "text/plain": [
       "Sentiment(polarity=0.625, subjectivity=0.5)"
      ]
     },
     "execution_count": 34,
     "metadata": {},
     "output_type": "execute_result"
    }
   ],
   "source": [
    "blob_1 = TextBlob('My grandma can do a better job than Joe Biden!')\n",
    "blob_1.sentiment # esta función interpreta que la frase tiene una connotación positiva, contrario a lo que un humano esperaría."
   ]
  },
  {
   "cell_type": "code",
   "execution_count": 35,
   "metadata": {},
   "outputs": [
    {
     "data": {
      "text/plain": [
       "Sentiment(polarity=0.0, subjectivity=0.0)"
      ]
     },
     "execution_count": 35,
     "metadata": {},
     "output_type": "execute_result"
    }
   ],
   "source": [
    "blob_2 = TextBlob('Biden election was a fraud!')\n",
    "blob_2.sentiment # nuevamente, el comando devuelve resultados que no son los que interpretaría una persona, tanto en subjetividad como polarización."
   ]
  },
  {
   "cell_type": "code",
   "execution_count": 37,
   "metadata": {},
   "outputs": [
    {
     "name": "stdout",
     "output_type": "stream",
     "text": [
      "El grado de polarización de la frase Today was a beautiful day. es de 0.85 mientras que su subjetividad es del 1.0\n",
      "El grado de polarización de la frase I came home from work and took my dog to the park. es de 0.0 mientras que su subjetividad es del 0.0\n",
      "El grado de polarización de la frase Then I saw a picture of Joe Biden. es de 0.0 mientras que su subjetividad es del 0.0\n",
      "El grado de polarización de la frase And everything was ruined. es de 0.0 mientras que su subjetividad es del 0.0\n"
     ]
    }
   ],
   "source": [
    "# Se define una lista con frases para el análisis de sentimiento\n",
    "\n",
    "frases = TextBlob(\"Today was a beautiful day. \"\n",
    "               \"I came home from work and took my dog to the park. \"\n",
    "               \"Then I saw a picture of Joe Biden. \"\n",
    "                \"And everything was ruined. \")\n",
    "\n",
    "# Se crea un loop para que impriman los niveles de polarización y subjetividad de cada elemento de la lista, a partir del comando .sentences:\n",
    "\n",
    "for frase in frases.sentences:\n",
    "    print(\"El grado de polarización de la frase\", frase, \"es de\", frase.sentiment.polarity, \"mientras que su subjetividad es del\", frase.sentiment.subjectivity)"
   ]
  }
 ],
 "metadata": {
  "kernelspec": {
   "display_name": "Python 3 (ipykernel)",
   "language": "python",
   "name": "python3"
  },
  "language_info": {
   "codemirror_mode": {
    "name": "ipython",
    "version": 3
   },
   "file_extension": ".py",
   "mimetype": "text/x-python",
   "name": "python",
   "nbconvert_exporter": "python",
   "pygments_lexer": "ipython3",
   "version": "3.9.12"
  },
  "varInspector": {
   "cols": {
    "lenName": 16,
    "lenType": 16,
    "lenVar": 40
   },
   "kernels_config": {
    "python": {
     "delete_cmd_postfix": "",
     "delete_cmd_prefix": "del ",
     "library": "var_list.py",
     "varRefreshCmd": "print(var_dic_list())"
    },
    "r": {
     "delete_cmd_postfix": ") ",
     "delete_cmd_prefix": "rm(",
     "library": "var_list.r",
     "varRefreshCmd": "cat(var_dic_list()) "
    }
   },
   "position": {
    "height": "484.85px",
    "left": "554.2px",
    "right": "20px",
    "top": "114px",
    "width": "417px"
   },
   "types_to_exclude": [
    "module",
    "function",
    "builtin_function_or_method",
    "instance",
    "_Feature"
   ],
   "window_display": false
  }
 },
 "nbformat": 4,
 "nbformat_minor": 4
}
